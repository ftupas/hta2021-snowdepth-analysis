{
  "cells": [
    {
      "cell_type": "code",
      "metadata": {
        "tags": [],
        "output_cleared": false,
        "cell_id": "0b9b7a2b-9e8b-458b-90e1-e03933d2c995",
        "source_hash": "24b26b86",
        "execution_millis": 1174,
        "deepnote_to_be_reexecuted": false,
        "execution_start": 1615636543042,
        "deepnote_cell_type": "code"
      },
      "source": "import pandas as pd\nimport numpy as np\nimport matplotlib.pyplot as plt\nimport seaborn as sns",
      "execution_count": null,
      "outputs": []
    },
    {
      "cell_type": "code",
      "metadata": {
        "tags": [],
        "cell_id": "00001-935b7a9b-b938-4594-aae3-52ef18c341e5",
        "deepnote_cell_type": "code"
      },
      "source": "# # ito na yun lahat fred\n\n# import pandas as pd\n# coord_df = pd.read_csv ('data/V_snowdepth_intensive_coordinates.csv') \n# snowdepth_df = pd.read_csv ('data/V_snowdepth_intensive_data.csv')\n\n# # e: longitude, n: latitude\n# coord_df = coord_df.rename(columns = {\"e_dd\":\"lon\", \"n_dd\":\"lat\"})\n\n# snowdepth_df[\"t_date\"] = pd.to_datetime(snowdepth_df[\"t_date\"])\n# snowdepth_df[\"year\"] = snowdepth_df[\"t_date\"].dt.year\n\n# snowdepth_df = pd.merge(snowdepth_df, coord_df, on=\"sn_site\", how=\"left\", validate = \"many_to_one\")\n# snowdepth_df.head()",
      "execution_count": null,
      "outputs": []
    },
    {
      "cell_type": "markdown",
      "source": "## Arctic Snow Depth Background\n\n\n[NASA data reveals declining Arctic snow depth](https://climate.nasa.gov/news/1140/nasa-data-reveals-declining-arctic-snow-depth/)\n\n<blockquote>Over the past few decades, Arctic sea ice has been retreating, and although research shows a downward trend in snow on land in the Arctic, long-term measurements of snow depth on sea ice have been less clear. But now, new research using data from NASA's Operation IceBridge shows that snow depth on Arctic sea ice has been decreasing over the past several decades, a trend largely owing to later sea ice freeze-up dates in the Arctic.</blockquote>",
      "metadata": {
        "tags": [],
        "cell_id": "00001-d21d291f-9b52-4f18-acd6-83e0440fa364",
        "deepnote_cell_type": "markdown"
      }
    },
    {
      "cell_type": "markdown",
      "source": "https://nsidc.org/cryosphere/snow/science/characteristics.html",
      "metadata": {
        "tags": [],
        "cell_id": "00003-ea6d7c08-60c7-4cf9-a41b-2843761b23c7",
        "deepnote_cell_type": "markdown"
      }
    },
    {
      "cell_type": "markdown",
      "source": "## Importing Datasets",
      "metadata": {
        "tags": [],
        "cell_id": "00001-75c6ce31-5486-4b75-88cb-2642b839957e",
        "deepnote_cell_type": "markdown"
      }
    },
    {
      "cell_type": "code",
      "metadata": {
        "tags": [],
        "cell_id": "00001-a1f3e25d-54fc-4a90-bd4c-bc2ad5d35607",
        "deepnote_to_be_reexecuted": false,
        "source_hash": "fe0681a4",
        "execution_millis": 19,
        "execution_start": 1615636544500,
        "deepnote_cell_type": "code"
      },
      "source": "# Load the data set\n# deleting v_comment because it's empty\naux_df = pd.read_csv (\"data/V_snowdepth_intensive_aux.csv\").drop([\"v_comment\"], axis=1)\ncoord_df = pd.read_csv ('data/V_snowdepth_intensive_coordinates.csv') \nsnowdepth_df = pd.read_csv ('data/V_snowdepth_intensive_data.csv')",
      "execution_count": null,
      "outputs": []
    },
    {
      "cell_type": "code",
      "metadata": {
        "tags": [],
        "cell_id": "00001-cd509a96-b57b-4ed7-a88e-4c2b73b34202",
        "deepnote_to_be_reexecuted": false,
        "source_hash": "1bc2463d",
        "execution_millis": 29,
        "execution_start": 1615636544948,
        "deepnote_cell_type": "code"
      },
      "source": "for df in [aux_df, coord_df, snowdepth_df]:\n    assert not df.duplicated().any()",
      "execution_count": null,
      "outputs": []
    },
    {
      "cell_type": "markdown",
      "source": "## Auxilliary Dataset\n\nMiscellaneous info on which sites were included in the study design. Mostly just describes the start and end year of operation for the stations",
      "metadata": {
        "tags": [],
        "cell_id": "00001-50c050b9-274f-452b-a9b2-58e8bfbe4bb5",
        "deepnote_cell_type": "markdown"
      }
    },
    {
      "cell_type": "code",
      "metadata": {
        "tags": [],
        "cell_id": "00005-e23f5767-125b-4c9e-bac3-8318a6387aa8",
        "deepnote_to_be_reexecuted": false,
        "source_hash": "d92bf514",
        "execution_millis": 52,
        "execution_start": 1615636545361,
        "deepnote_cell_type": "code"
      },
      "source": "aux_df.head()",
      "execution_count": null,
      "outputs": [
        {
          "output_type": "execute_result",
          "execution_count": 4,
          "data": {
            "application/vnd.deepnote.dataframe.v2+json": {
              "row_count": 5,
              "column_count": 8,
              "columns": [
                {
                  "name": "sn_region",
                  "dtype": "object",
                  "stats": {
                    "unique_count": 1,
                    "nan_count": 0,
                    "categories": [
                      {
                        "name": "varanger",
                        "count": 5
                      }
                    ]
                  }
                },
                {
                  "name": "sn_locality",
                  "dtype": "object",
                  "stats": {
                    "unique_count": 1,
                    "nan_count": 0,
                    "categories": [
                      {
                        "name": "ifjordfjellet",
                        "count": 5
                      }
                    ]
                  }
                },
                {
                  "name": "sn_section",
                  "dtype": "object",
                  "stats": {
                    "unique_count": 1,
                    "nan_count": 0,
                    "categories": [
                      {
                        "name": "eastordalen",
                        "count": 5
                      }
                    ]
                  }
                },
                {
                  "name": "sc_type_of_sites_ecological",
                  "dtype": "object",
                  "stats": {
                    "unique_count": 1,
                    "nan_count": 0,
                    "categories": [
                      {
                        "name": "snowbed",
                        "count": 5
                      }
                    ]
                  }
                },
                {
                  "name": "sn_site",
                  "dtype": "object",
                  "stats": {
                    "unique_count": 5,
                    "nan_count": 0,
                    "categories": [
                      {
                        "name": "if_ea_sn_1",
                        "count": 1
                      },
                      {
                        "name": "if_ea_sn_2",
                        "count": 1
                      },
                      {
                        "name": "3 others",
                        "count": 3
                      }
                    ]
                  }
                },
                {
                  "name": "sn_site_old",
                  "dtype": "object",
                  "stats": {
                    "unique_count": 5,
                    "nan_count": 0,
                    "categories": [
                      {
                        "name": "ia01",
                        "count": 1
                      },
                      {
                        "name": "ia02",
                        "count": 1
                      },
                      {
                        "name": "3 others",
                        "count": 3
                      }
                    ]
                  }
                },
                {
                  "name": "year_first",
                  "dtype": "int64",
                  "stats": {
                    "unique_count": 1,
                    "nan_count": 0,
                    "min": 2011,
                    "max": 2011,
                    "histogram": [
                      {
                        "bin_start": 2010.5,
                        "bin_end": 2010.6,
                        "count": 0
                      },
                      {
                        "bin_start": 2010.6,
                        "bin_end": 2010.7,
                        "count": 0
                      },
                      {
                        "bin_start": 2010.7,
                        "bin_end": 2010.8,
                        "count": 0
                      },
                      {
                        "bin_start": 2010.8,
                        "bin_end": 2010.9,
                        "count": 0
                      },
                      {
                        "bin_start": 2010.9,
                        "bin_end": 2011,
                        "count": 0
                      },
                      {
                        "bin_start": 2011,
                        "bin_end": 2011.1,
                        "count": 5
                      },
                      {
                        "bin_start": 2011.1,
                        "bin_end": 2011.2,
                        "count": 0
                      },
                      {
                        "bin_start": 2011.2,
                        "bin_end": 2011.3,
                        "count": 0
                      },
                      {
                        "bin_start": 2011.3,
                        "bin_end": 2011.4,
                        "count": 0
                      },
                      {
                        "bin_start": 2011.4,
                        "bin_end": 2011.5,
                        "count": 0
                      }
                    ]
                  }
                },
                {
                  "name": "year_last",
                  "dtype": "float64",
                  "stats": {
                    "unique_count": 1,
                    "nan_count": 0,
                    "min": 2016,
                    "max": 2016,
                    "histogram": [
                      {
                        "bin_start": 2015.5,
                        "bin_end": 2015.6,
                        "count": 0
                      },
                      {
                        "bin_start": 2015.6,
                        "bin_end": 2015.7,
                        "count": 0
                      },
                      {
                        "bin_start": 2015.7,
                        "bin_end": 2015.8,
                        "count": 0
                      },
                      {
                        "bin_start": 2015.8,
                        "bin_end": 2015.9,
                        "count": 0
                      },
                      {
                        "bin_start": 2015.9,
                        "bin_end": 2016,
                        "count": 0
                      },
                      {
                        "bin_start": 2016,
                        "bin_end": 2016.1,
                        "count": 5
                      },
                      {
                        "bin_start": 2016.1,
                        "bin_end": 2016.2,
                        "count": 0
                      },
                      {
                        "bin_start": 2016.2,
                        "bin_end": 2016.3,
                        "count": 0
                      },
                      {
                        "bin_start": 2016.3,
                        "bin_end": 2016.4,
                        "count": 0
                      },
                      {
                        "bin_start": 2016.4,
                        "bin_end": 2016.5,
                        "count": 0
                      }
                    ]
                  }
                },
                {
                  "name": "_deepnote_index_column",
                  "dtype": "int64"
                }
              ],
              "rows_top": [
                {
                  "sn_region": "varanger",
                  "sn_locality": "ifjordfjellet",
                  "sn_section": "eastordalen",
                  "sc_type_of_sites_ecological": "snowbed",
                  "sn_site": "if_ea_sn_1",
                  "sn_site_old": "ia01",
                  "year_first": 2011,
                  "year_last": 2016,
                  "_deepnote_index_column": 0
                },
                {
                  "sn_region": "varanger",
                  "sn_locality": "ifjordfjellet",
                  "sn_section": "eastordalen",
                  "sc_type_of_sites_ecological": "snowbed",
                  "sn_site": "if_ea_sn_2",
                  "sn_site_old": "ia02",
                  "year_first": 2011,
                  "year_last": 2016,
                  "_deepnote_index_column": 1
                },
                {
                  "sn_region": "varanger",
                  "sn_locality": "ifjordfjellet",
                  "sn_section": "eastordalen",
                  "sc_type_of_sites_ecological": "snowbed",
                  "sn_site": "if_ea_sn_3",
                  "sn_site_old": "ia03",
                  "year_first": 2011,
                  "year_last": 2016,
                  "_deepnote_index_column": 2
                },
                {
                  "sn_region": "varanger",
                  "sn_locality": "ifjordfjellet",
                  "sn_section": "eastordalen",
                  "sc_type_of_sites_ecological": "snowbed",
                  "sn_site": "if_ea_sn_4",
                  "sn_site_old": "ia04",
                  "year_first": 2011,
                  "year_last": 2016,
                  "_deepnote_index_column": 3
                },
                {
                  "sn_region": "varanger",
                  "sn_locality": "ifjordfjellet",
                  "sn_section": "eastordalen",
                  "sc_type_of_sites_ecological": "snowbed",
                  "sn_site": "if_ea_sn_5",
                  "sn_site_old": "ia05",
                  "year_first": 2011,
                  "year_last": 2016,
                  "_deepnote_index_column": 4
                }
              ],
              "rows_bottom": null
            },
            "text/plain": "  sn_region    sn_locality   sn_section sc_type_of_sites_ecological  \\\n0  varanger  ifjordfjellet  eastordalen                     snowbed   \n1  varanger  ifjordfjellet  eastordalen                     snowbed   \n2  varanger  ifjordfjellet  eastordalen                     snowbed   \n3  varanger  ifjordfjellet  eastordalen                     snowbed   \n4  varanger  ifjordfjellet  eastordalen                     snowbed   \n\n      sn_site sn_site_old  year_first  year_last  \n0  if_ea_sn_1        ia01        2011     2016.0  \n1  if_ea_sn_2        ia02        2011     2016.0  \n2  if_ea_sn_3        ia03        2011     2016.0  \n3  if_ea_sn_4        ia04        2011     2016.0  \n4  if_ea_sn_5        ia05        2011     2016.0  ",
            "text/html": "<div>\n<style scoped>\n    .dataframe tbody tr th:only-of-type {\n        vertical-align: middle;\n    }\n\n    .dataframe tbody tr th {\n        vertical-align: top;\n    }\n\n    .dataframe thead th {\n        text-align: right;\n    }\n</style>\n<table border=\"1\" class=\"dataframe\">\n  <thead>\n    <tr style=\"text-align: right;\">\n      <th></th>\n      <th>sn_region</th>\n      <th>sn_locality</th>\n      <th>sn_section</th>\n      <th>sc_type_of_sites_ecological</th>\n      <th>sn_site</th>\n      <th>sn_site_old</th>\n      <th>year_first</th>\n      <th>year_last</th>\n    </tr>\n  </thead>\n  <tbody>\n    <tr>\n      <th>0</th>\n      <td>varanger</td>\n      <td>ifjordfjellet</td>\n      <td>eastordalen</td>\n      <td>snowbed</td>\n      <td>if_ea_sn_1</td>\n      <td>ia01</td>\n      <td>2011</td>\n      <td>2016.0</td>\n    </tr>\n    <tr>\n      <th>1</th>\n      <td>varanger</td>\n      <td>ifjordfjellet</td>\n      <td>eastordalen</td>\n      <td>snowbed</td>\n      <td>if_ea_sn_2</td>\n      <td>ia02</td>\n      <td>2011</td>\n      <td>2016.0</td>\n    </tr>\n    <tr>\n      <th>2</th>\n      <td>varanger</td>\n      <td>ifjordfjellet</td>\n      <td>eastordalen</td>\n      <td>snowbed</td>\n      <td>if_ea_sn_3</td>\n      <td>ia03</td>\n      <td>2011</td>\n      <td>2016.0</td>\n    </tr>\n    <tr>\n      <th>3</th>\n      <td>varanger</td>\n      <td>ifjordfjellet</td>\n      <td>eastordalen</td>\n      <td>snowbed</td>\n      <td>if_ea_sn_4</td>\n      <td>ia04</td>\n      <td>2011</td>\n      <td>2016.0</td>\n    </tr>\n    <tr>\n      <th>4</th>\n      <td>varanger</td>\n      <td>ifjordfjellet</td>\n      <td>eastordalen</td>\n      <td>snowbed</td>\n      <td>if_ea_sn_5</td>\n      <td>ia05</td>\n      <td>2011</td>\n      <td>2016.0</td>\n    </tr>\n  </tbody>\n</table>\n</div>"
          },
          "metadata": {}
        }
      ]
    },
    {
      "cell_type": "code",
      "metadata": {
        "tags": [],
        "cell_id": "00006-8d37aaf7-3ba2-4f9c-8b28-a9631eed1820",
        "deepnote_to_be_reexecuted": false,
        "source_hash": "93d422f5",
        "execution_millis": 13,
        "execution_start": 1615636545831,
        "deepnote_cell_type": "code"
      },
      "source": "aux_df.info()",
      "execution_count": null,
      "outputs": [
        {
          "name": "stdout",
          "text": "<class 'pandas.core.frame.DataFrame'>\nRangeIndex: 144 entries, 0 to 143\nData columns (total 8 columns):\n #   Column                       Non-Null Count  Dtype  \n---  ------                       --------------  -----  \n 0   sn_region                    144 non-null    object \n 1   sn_locality                  144 non-null    object \n 2   sn_section                   144 non-null    object \n 3   sc_type_of_sites_ecological  144 non-null    object \n 4   sn_site                      144 non-null    object \n 5   sn_site_old                  144 non-null    object \n 6   year_first                   144 non-null    int64  \n 7   year_last                    94 non-null     float64\ndtypes: float64(1), int64(1), object(6)\nmemory usage: 9.1+ KB\n",
          "output_type": "stream"
        }
      ]
    },
    {
      "cell_type": "code",
      "metadata": {
        "tags": [],
        "cell_id": "00003-759a2d71-e676-447a-95a3-77cc6009526d",
        "deepnote_to_be_reexecuted": false,
        "source_hash": "50d5bd2a",
        "execution_millis": 2,
        "execution_start": 1615636545836,
        "deepnote_cell_type": "code"
      },
      "source": "assert not aux_df[\"sn_site\"].duplicated().any()",
      "execution_count": null,
      "outputs": []
    },
    {
      "cell_type": "code",
      "metadata": {
        "tags": [],
        "cell_id": "00007-5da74937-cb05-48bb-9c03-af3c64bb7c21",
        "deepnote_to_be_reexecuted": false,
        "source_hash": "a52b4a9f",
        "execution_millis": 70,
        "execution_start": 1615636546343,
        "deepnote_cell_type": "code"
      },
      "source": "aux_df.describe(include='all')",
      "execution_count": null,
      "outputs": [
        {
          "output_type": "execute_result",
          "execution_count": 7,
          "data": {
            "application/vnd.deepnote.dataframe.v2+json": {
              "row_count": 11,
              "column_count": 8,
              "columns": [
                {
                  "name": "sn_region",
                  "dtype": "object",
                  "stats": {
                    "unique_count": 3,
                    "nan_count": 7,
                    "categories": [
                      {
                        "name": "144",
                        "count": 2
                      },
                      {
                        "name": "2 others",
                        "count": 2
                      },
                      {
                        "name": "Missing",
                        "count": 7
                      }
                    ]
                  }
                },
                {
                  "name": "sn_locality",
                  "dtype": "object",
                  "stats": {
                    "unique_count": 4,
                    "nan_count": 7,
                    "categories": [
                      {
                        "name": "144",
                        "count": 1
                      },
                      {
                        "name": "3 others",
                        "count": 3
                      },
                      {
                        "name": "Missing",
                        "count": 7
                      }
                    ]
                  }
                },
                {
                  "name": "sn_section",
                  "dtype": "object",
                  "stats": {
                    "unique_count": 4,
                    "nan_count": 7,
                    "categories": [
                      {
                        "name": "144",
                        "count": 1
                      },
                      {
                        "name": "3 others",
                        "count": 3
                      },
                      {
                        "name": "Missing",
                        "count": 7
                      }
                    ]
                  }
                },
                {
                  "name": "sc_type_of_sites_ecological",
                  "dtype": "object",
                  "stats": {
                    "unique_count": 4,
                    "nan_count": 7,
                    "categories": [
                      {
                        "name": "144",
                        "count": 1
                      },
                      {
                        "name": "3 others",
                        "count": 3
                      },
                      {
                        "name": "Missing",
                        "count": 7
                      }
                    ]
                  }
                },
                {
                  "name": "sn_site",
                  "dtype": "object",
                  "stats": {
                    "unique_count": 3,
                    "nan_count": 7,
                    "categories": [
                      {
                        "name": "144",
                        "count": 2
                      },
                      {
                        "name": "2 others",
                        "count": 2
                      },
                      {
                        "name": "Missing",
                        "count": 7
                      }
                    ]
                  }
                },
                {
                  "name": "sn_site_old",
                  "dtype": "object",
                  "stats": {
                    "unique_count": 3,
                    "nan_count": 7,
                    "categories": [
                      {
                        "name": "144",
                        "count": 2
                      },
                      {
                        "name": "2 others",
                        "count": 2
                      },
                      {
                        "name": "Missing",
                        "count": 7
                      }
                    ]
                  }
                },
                {
                  "name": "year_first",
                  "dtype": "float64",
                  "stats": {
                    "unique_count": 5,
                    "nan_count": 3,
                    "min": 2.394592133134886,
                    "max": 2020,
                    "histogram": [
                      {
                        "bin_start": 2.394592133134886,
                        "bin_end": 204.1551329198214,
                        "count": 2
                      },
                      {
                        "bin_start": 204.1551329198214,
                        "bin_end": 405.9156737065079,
                        "count": 0
                      },
                      {
                        "bin_start": 405.9156737065079,
                        "bin_end": 607.6762144931944,
                        "count": 0
                      },
                      {
                        "bin_start": 607.6762144931944,
                        "bin_end": 809.4367552798809,
                        "count": 0
                      },
                      {
                        "bin_start": 809.4367552798809,
                        "bin_end": 1011.1972960665674,
                        "count": 0
                      },
                      {
                        "bin_start": 1011.1972960665674,
                        "bin_end": 1212.9578368532539,
                        "count": 0
                      },
                      {
                        "bin_start": 1212.9578368532539,
                        "bin_end": 1414.7183776399404,
                        "count": 0
                      },
                      {
                        "bin_start": 1414.7183776399404,
                        "bin_end": 1616.478918426627,
                        "count": 0
                      },
                      {
                        "bin_start": 1616.478918426627,
                        "bin_end": 1818.2394592133135,
                        "count": 0
                      },
                      {
                        "bin_start": 1818.2394592133135,
                        "bin_end": 2020,
                        "count": 6
                      }
                    ]
                  }
                },
                {
                  "name": "year_last",
                  "dtype": "float64",
                  "stats": {
                    "unique_count": 6,
                    "nan_count": 3,
                    "min": 1.6687815453975505,
                    "max": 2018,
                    "histogram": [
                      {
                        "bin_start": 1.6687815453975505,
                        "bin_end": 203.30190339085783,
                        "count": 2
                      },
                      {
                        "bin_start": 203.30190339085783,
                        "bin_end": 404.9350252363181,
                        "count": 0
                      },
                      {
                        "bin_start": 404.9350252363181,
                        "bin_end": 606.5681470817784,
                        "count": 0
                      },
                      {
                        "bin_start": 606.5681470817784,
                        "bin_end": 808.2012689272386,
                        "count": 0
                      },
                      {
                        "bin_start": 808.2012689272386,
                        "bin_end": 1009.8343907726988,
                        "count": 0
                      },
                      {
                        "bin_start": 1009.8343907726988,
                        "bin_end": 1211.4675126181592,
                        "count": 0
                      },
                      {
                        "bin_start": 1211.4675126181592,
                        "bin_end": 1413.1006344636194,
                        "count": 0
                      },
                      {
                        "bin_start": 1413.1006344636194,
                        "bin_end": 1614.7337563090796,
                        "count": 0
                      },
                      {
                        "bin_start": 1614.7337563090796,
                        "bin_end": 1816.3668781545398,
                        "count": 0
                      },
                      {
                        "bin_start": 1816.3668781545398,
                        "bin_end": 2018,
                        "count": 6
                      }
                    ]
                  }
                },
                {
                  "name": "_deepnote_index_column",
                  "dtype": "object"
                }
              ],
              "rows_top": [
                {
                  "sn_region": "144",
                  "sn_locality": "144",
                  "sn_section": "144",
                  "sc_type_of_sites_ecological": "144",
                  "sn_site": "144",
                  "sn_site_old": "144",
                  "year_first": "144.0",
                  "year_last": "94.0",
                  "_deepnote_index_column": "count"
                },
                {
                  "sn_region": "1",
                  "sn_locality": "3",
                  "sn_section": "7",
                  "sc_type_of_sites_ecological": "2",
                  "sn_site": "144",
                  "sn_site_old": "144",
                  "year_first": "nan",
                  "year_last": "nan",
                  "_deepnote_index_column": "unique"
                },
                {
                  "sn_region": "varanger",
                  "sn_locality": "vestre_jakobselv",
                  "sn_section": "bearalveaijohka",
                  "sc_type_of_sites_ecological": "snowbed",
                  "sn_site": "ko_kj_sn_14",
                  "sn_site_old": "vb07",
                  "year_first": "nan",
                  "year_last": "nan",
                  "_deepnote_index_column": "top"
                },
                {
                  "sn_region": "144",
                  "sn_locality": "54",
                  "sn_section": "27",
                  "sc_type_of_sites_ecological": "137",
                  "sn_site": "1",
                  "sn_site_old": "1",
                  "year_first": "nan",
                  "year_last": "nan",
                  "_deepnote_index_column": "freq"
                },
                {
                  "sn_region": "nan",
                  "sn_locality": "nan",
                  "sn_section": "nan",
                  "sc_type_of_sites_ecological": "nan",
                  "sn_site": "nan",
                  "sn_site_old": "nan",
                  "year_first": "2011.736111111111",
                  "year_last": "2014.0106382978724",
                  "_deepnote_index_column": "mean"
                },
                {
                  "sn_region": "nan",
                  "sn_locality": "nan",
                  "sn_section": "nan",
                  "sc_type_of_sites_ecological": "nan",
                  "sn_site": "nan",
                  "sn_site_old": "nan",
                  "year_first": "2.394592133134886",
                  "year_last": "1.6687815453975505",
                  "_deepnote_index_column": "std"
                },
                {
                  "sn_region": "nan",
                  "sn_locality": "nan",
                  "sn_section": "nan",
                  "sc_type_of_sites_ecological": "nan",
                  "sn_site": "nan",
                  "sn_site_old": "nan",
                  "year_first": "2011.0",
                  "year_last": "2013.0",
                  "_deepnote_index_column": "min"
                },
                {
                  "sn_region": "nan",
                  "sn_locality": "nan",
                  "sn_section": "nan",
                  "sc_type_of_sites_ecological": "nan",
                  "sn_site": "nan",
                  "sn_site_old": "nan",
                  "year_first": "2011.0",
                  "year_last": "2013.0",
                  "_deepnote_index_column": "25%"
                },
                {
                  "sn_region": "nan",
                  "sn_locality": "nan",
                  "sn_section": "nan",
                  "sc_type_of_sites_ecological": "nan",
                  "sn_site": "nan",
                  "sn_site_old": "nan",
                  "year_first": "2011.0",
                  "year_last": "2013.0",
                  "_deepnote_index_column": "50%"
                },
                {
                  "sn_region": "nan",
                  "sn_locality": "nan",
                  "sn_section": "nan",
                  "sc_type_of_sites_ecological": "nan",
                  "sn_site": "nan",
                  "sn_site_old": "nan",
                  "year_first": "2011.0",
                  "year_last": "2016.0",
                  "_deepnote_index_column": "75%"
                },
                {
                  "sn_region": "nan",
                  "sn_locality": "nan",
                  "sn_section": "nan",
                  "sc_type_of_sites_ecological": "nan",
                  "sn_site": "nan",
                  "sn_site_old": "nan",
                  "year_first": "2020.0",
                  "year_last": "2018.0",
                  "_deepnote_index_column": "max"
                }
              ],
              "rows_bottom": null
            },
            "text/plain": "       sn_region       sn_locality       sn_section  \\\ncount        144               144              144   \nunique         1                 3                7   \ntop     varanger  vestre_jakobselv  bearalveaijohka   \nfreq         144                54               27   \nmean         NaN               NaN              NaN   \nstd          NaN               NaN              NaN   \nmin          NaN               NaN              NaN   \n25%          NaN               NaN              NaN   \n50%          NaN               NaN              NaN   \n75%          NaN               NaN              NaN   \nmax          NaN               NaN              NaN   \n\n       sc_type_of_sites_ecological      sn_site sn_site_old   year_first  \\\ncount                          144          144         144   144.000000   \nunique                           2          144         144          NaN   \ntop                        snowbed  ko_kj_sn_14        vb07          NaN   \nfreq                           137            1           1          NaN   \nmean                           NaN          NaN         NaN  2011.736111   \nstd                            NaN          NaN         NaN     2.394592   \nmin                            NaN          NaN         NaN  2011.000000   \n25%                            NaN          NaN         NaN  2011.000000   \n50%                            NaN          NaN         NaN  2011.000000   \n75%                            NaN          NaN         NaN  2011.000000   \nmax                            NaN          NaN         NaN  2020.000000   \n\n          year_last  \ncount     94.000000  \nunique          NaN  \ntop             NaN  \nfreq            NaN  \nmean    2014.010638  \nstd        1.668782  \nmin     2013.000000  \n25%     2013.000000  \n50%     2013.000000  \n75%     2016.000000  \nmax     2018.000000  ",
            "text/html": "<div>\n<style scoped>\n    .dataframe tbody tr th:only-of-type {\n        vertical-align: middle;\n    }\n\n    .dataframe tbody tr th {\n        vertical-align: top;\n    }\n\n    .dataframe thead th {\n        text-align: right;\n    }\n</style>\n<table border=\"1\" class=\"dataframe\">\n  <thead>\n    <tr style=\"text-align: right;\">\n      <th></th>\n      <th>sn_region</th>\n      <th>sn_locality</th>\n      <th>sn_section</th>\n      <th>sc_type_of_sites_ecological</th>\n      <th>sn_site</th>\n      <th>sn_site_old</th>\n      <th>year_first</th>\n      <th>year_last</th>\n    </tr>\n  </thead>\n  <tbody>\n    <tr>\n      <th>count</th>\n      <td>144</td>\n      <td>144</td>\n      <td>144</td>\n      <td>144</td>\n      <td>144</td>\n      <td>144</td>\n      <td>144.000000</td>\n      <td>94.000000</td>\n    </tr>\n    <tr>\n      <th>unique</th>\n      <td>1</td>\n      <td>3</td>\n      <td>7</td>\n      <td>2</td>\n      <td>144</td>\n      <td>144</td>\n      <td>NaN</td>\n      <td>NaN</td>\n    </tr>\n    <tr>\n      <th>top</th>\n      <td>varanger</td>\n      <td>vestre_jakobselv</td>\n      <td>bearalveaijohka</td>\n      <td>snowbed</td>\n      <td>ko_kj_sn_14</td>\n      <td>vb07</td>\n      <td>NaN</td>\n      <td>NaN</td>\n    </tr>\n    <tr>\n      <th>freq</th>\n      <td>144</td>\n      <td>54</td>\n      <td>27</td>\n      <td>137</td>\n      <td>1</td>\n      <td>1</td>\n      <td>NaN</td>\n      <td>NaN</td>\n    </tr>\n    <tr>\n      <th>mean</th>\n      <td>NaN</td>\n      <td>NaN</td>\n      <td>NaN</td>\n      <td>NaN</td>\n      <td>NaN</td>\n      <td>NaN</td>\n      <td>2011.736111</td>\n      <td>2014.010638</td>\n    </tr>\n    <tr>\n      <th>std</th>\n      <td>NaN</td>\n      <td>NaN</td>\n      <td>NaN</td>\n      <td>NaN</td>\n      <td>NaN</td>\n      <td>NaN</td>\n      <td>2.394592</td>\n      <td>1.668782</td>\n    </tr>\n    <tr>\n      <th>min</th>\n      <td>NaN</td>\n      <td>NaN</td>\n      <td>NaN</td>\n      <td>NaN</td>\n      <td>NaN</td>\n      <td>NaN</td>\n      <td>2011.000000</td>\n      <td>2013.000000</td>\n    </tr>\n    <tr>\n      <th>25%</th>\n      <td>NaN</td>\n      <td>NaN</td>\n      <td>NaN</td>\n      <td>NaN</td>\n      <td>NaN</td>\n      <td>NaN</td>\n      <td>2011.000000</td>\n      <td>2013.000000</td>\n    </tr>\n    <tr>\n      <th>50%</th>\n      <td>NaN</td>\n      <td>NaN</td>\n      <td>NaN</td>\n      <td>NaN</td>\n      <td>NaN</td>\n      <td>NaN</td>\n      <td>2011.000000</td>\n      <td>2013.000000</td>\n    </tr>\n    <tr>\n      <th>75%</th>\n      <td>NaN</td>\n      <td>NaN</td>\n      <td>NaN</td>\n      <td>NaN</td>\n      <td>NaN</td>\n      <td>NaN</td>\n      <td>2011.000000</td>\n      <td>2016.000000</td>\n    </tr>\n    <tr>\n      <th>max</th>\n      <td>NaN</td>\n      <td>NaN</td>\n      <td>NaN</td>\n      <td>NaN</td>\n      <td>NaN</td>\n      <td>NaN</td>\n      <td>2020.000000</td>\n      <td>2018.000000</td>\n    </tr>\n  </tbody>\n</table>\n</div>"
          },
          "metadata": {}
        }
      ]
    },
    {
      "cell_type": "code",
      "metadata": {
        "tags": [],
        "cell_id": "00011-643b70f5-6658-479c-b825-d68c34d2328c",
        "deepnote_to_be_reexecuted": false,
        "source_hash": "282cce49",
        "execution_millis": 12,
        "execution_start": 1615648827070,
        "deepnote_cell_type": "code"
      },
      "source": "aux_df.isna().sum()",
      "execution_count": null,
      "outputs": [
        {
          "output_type": "execute_result",
          "execution_count": 27,
          "data": {
            "text/plain": "sn_region                       0\nsn_locality                     0\nsn_section                      0\nsc_type_of_sites_ecological     0\nsn_site                         0\nsn_site_old                     0\nyear_first                      0\nyear_last                      50\ndtype: int64"
          },
          "metadata": {}
        }
      ]
    },
    {
      "cell_type": "code",
      "metadata": {
        "tags": [],
        "cell_id": "00007-f5ad7908-1f67-4e54-90ef-bb58e8c453b6",
        "deepnote_to_be_reexecuted": false,
        "source_hash": "8987fe2a",
        "execution_millis": 692,
        "execution_start": 1615636546419,
        "deepnote_cell_type": "code"
      },
      "source": "aux_object_cols = ['sn_region', 'sn_locality', 'sn_section', 'sc_type_of_sites_ecological']\n\n# Value Counts for each object column\nfig, axes = plt.subplots(2, 2, figsize=(28, 18))\nfig.suptitle('Auxiliary DF Column Distribution')\n\nrow = 0\ncol = 0\nfor i, column in enumerate(aux_object_cols):\n\n    sns.countplot(ax=axes[row, col], data=aux_df, x=column)\n    if (i+1) % 2 == 0:\n        row += 1\n        col=0\n    else:\n        col+=1",
      "execution_count": null,
      "outputs": [
        {
          "data": {
            "text/plain": "<Figure size 2016x1296 with 4 Axes>",
            "image/png": "[encoded data removed]"
          },
          "metadata": {
            "needs_background": "light"
          },
          "output_type": "display_data"
        }
      ]
    },
    {
      "cell_type": "markdown",
      "source": "## Coordinates Dataset\n\nThis contains the coordinates of each observation station in Norway",
      "metadata": {
        "tags": [],
        "cell_id": "00004-056e55e0-f6bc-4bcb-9cc5-22bcfdffd6b8",
        "deepnote_cell_type": "markdown"
      }
    },
    {
      "cell_type": "code",
      "metadata": {
        "tags": [],
        "cell_id": "00004-93c91288-b211-4f9d-9d74-9fbde10bcd4c",
        "deepnote_to_be_reexecuted": false,
        "source_hash": "dbc9212d",
        "execution_millis": 4,
        "execution_start": 1615636547236,
        "deepnote_cell_type": "code"
      },
      "source": "# e: longitude, n: latitude\n\ncoord_df = coord_df.rename(columns = {\"e_dd\":\"lon\", \"n_dd\":\"lat\"})\ncoord_df.head()",
      "execution_count": null,
      "outputs": [
        {
          "output_type": "execute_result",
          "execution_count": 9,
          "data": {
            "application/vnd.deepnote.dataframe.v2+json": {
              "row_count": 5,
              "column_count": 5,
              "columns": [
                {
                  "name": "sn_site",
                  "dtype": "object",
                  "stats": {
                    "unique_count": 5,
                    "nan_count": 0,
                    "categories": [
                      {
                        "name": "if_ea_sn_1",
                        "count": 1
                      },
                      {
                        "name": "if_ea_sn_2",
                        "count": 1
                      },
                      {
                        "name": "3 others",
                        "count": 3
                      }
                    ]
                  }
                },
                {
                  "name": "lon",
                  "dtype": "float64",
                  "stats": {
                    "unique_count": 5,
                    "nan_count": 0,
                    "min": 27.35208,
                    "max": 27.36589,
                    "histogram": [
                      {
                        "bin_start": 27.35208,
                        "bin_end": 27.353461,
                        "count": 2
                      },
                      {
                        "bin_start": 27.353461,
                        "bin_end": 27.354842,
                        "count": 0
                      },
                      {
                        "bin_start": 27.354842,
                        "bin_end": 27.356223,
                        "count": 0
                      },
                      {
                        "bin_start": 27.356223,
                        "bin_end": 27.357604000000002,
                        "count": 0
                      },
                      {
                        "bin_start": 27.357604000000002,
                        "bin_end": 27.358985,
                        "count": 2
                      },
                      {
                        "bin_start": 27.358985,
                        "bin_end": 27.360366,
                        "count": 0
                      },
                      {
                        "bin_start": 27.360366,
                        "bin_end": 27.361747,
                        "count": 0
                      },
                      {
                        "bin_start": 27.361747,
                        "bin_end": 27.363128,
                        "count": 0
                      },
                      {
                        "bin_start": 27.363128,
                        "bin_end": 27.364509,
                        "count": 0
                      },
                      {
                        "bin_start": 27.364509,
                        "bin_end": 27.36589,
                        "count": 1
                      }
                    ]
                  }
                },
                {
                  "name": "lat",
                  "dtype": "float64",
                  "stats": {
                    "unique_count": 5,
                    "nan_count": 0,
                    "min": 70.42272,
                    "max": 70.42437,
                    "histogram": [
                      {
                        "bin_start": 70.42272,
                        "bin_end": 70.422885,
                        "count": 1
                      },
                      {
                        "bin_start": 70.422885,
                        "bin_end": 70.42305,
                        "count": 0
                      },
                      {
                        "bin_start": 70.42305,
                        "bin_end": 70.423215,
                        "count": 1
                      },
                      {
                        "bin_start": 70.423215,
                        "bin_end": 70.42338,
                        "count": 0
                      },
                      {
                        "bin_start": 70.42338,
                        "bin_end": 70.42354499999999,
                        "count": 0
                      },
                      {
                        "bin_start": 70.42354499999999,
                        "bin_end": 70.42371,
                        "count": 1
                      },
                      {
                        "bin_start": 70.42371,
                        "bin_end": 70.423875,
                        "count": 0
                      },
                      {
                        "bin_start": 70.423875,
                        "bin_end": 70.42403999999999,
                        "count": 0
                      },
                      {
                        "bin_start": 70.42403999999999,
                        "bin_end": 70.424205,
                        "count": 1
                      },
                      {
                        "bin_start": 70.424205,
                        "bin_end": 70.42437,
                        "count": 1
                      }
                    ]
                  }
                },
                {
                  "name": "e_utm33",
                  "dtype": "float64",
                  "stats": {
                    "unique_count": 5,
                    "nan_count": 0,
                    "min": 959119.695296004,
                    "max": 959645.530255124,
                    "histogram": [
                      {
                        "bin_start": 959119.695296004,
                        "bin_end": 959172.278791916,
                        "count": 2
                      },
                      {
                        "bin_start": 959172.278791916,
                        "bin_end": 959224.862287828,
                        "count": 0
                      },
                      {
                        "bin_start": 959224.862287828,
                        "bin_end": 959277.4457837399,
                        "count": 0
                      },
                      {
                        "bin_start": 959277.4457837399,
                        "bin_end": 959330.0292796519,
                        "count": 0
                      },
                      {
                        "bin_start": 959330.0292796519,
                        "bin_end": 959382.612775564,
                        "count": 2
                      },
                      {
                        "bin_start": 959382.612775564,
                        "bin_end": 959435.196271476,
                        "count": 0
                      },
                      {
                        "bin_start": 959435.196271476,
                        "bin_end": 959487.779767388,
                        "count": 0
                      },
                      {
                        "bin_start": 959487.779767388,
                        "bin_end": 959540.3632632999,
                        "count": 0
                      },
                      {
                        "bin_start": 959540.3632632999,
                        "bin_end": 959592.946759212,
                        "count": 0
                      },
                      {
                        "bin_start": 959592.946759212,
                        "bin_end": 959645.530255124,
                        "count": 1
                      }
                    ]
                  }
                },
                {
                  "name": "n_utm33",
                  "dtype": "float64",
                  "stats": {
                    "unique_count": 5,
                    "nan_count": 0,
                    "min": 7859915.15376066,
                    "max": 7860057.5625561,
                    "histogram": [
                      {
                        "bin_start": 7859915.15376066,
                        "bin_end": 7859929.3946402045,
                        "count": 1
                      },
                      {
                        "bin_start": 7859929.3946402045,
                        "bin_end": 7859943.635519749,
                        "count": 0
                      },
                      {
                        "bin_start": 7859943.635519749,
                        "bin_end": 7859957.876399293,
                        "count": 0
                      },
                      {
                        "bin_start": 7859957.876399293,
                        "bin_end": 7859972.117278837,
                        "count": 0
                      },
                      {
                        "bin_start": 7859972.117278837,
                        "bin_end": 7859986.35815838,
                        "count": 0
                      },
                      {
                        "bin_start": 7859986.35815838,
                        "bin_end": 7860000.599037924,
                        "count": 0
                      },
                      {
                        "bin_start": 7860000.599037924,
                        "bin_end": 7860014.839917468,
                        "count": 1
                      },
                      {
                        "bin_start": 7860014.839917468,
                        "bin_end": 7860029.080797012,
                        "count": 2
                      },
                      {
                        "bin_start": 7860029.080797012,
                        "bin_end": 7860043.321676556,
                        "count": 0
                      },
                      {
                        "bin_start": 7860043.321676556,
                        "bin_end": 7860057.5625561,
                        "count": 1
                      }
                    ]
                  }
                },
                {
                  "name": "_deepnote_index_column",
                  "dtype": "int64"
                }
              ],
              "rows_top": [
                {
                  "sn_site": "if_ea_sn_1",
                  "lon": 27.35208,
                  "lat": 70.42404,
                  "e_utm33": 959119.695296004,
                  "n_utm33": 7860013.24398112,
                  "_deepnote_index_column": 0
                },
                {
                  "sn_site": "if_ea_sn_2",
                  "lon": 27.35316,
                  "lat": 70.42437,
                  "e_utm33": 959151.893691434,
                  "n_utm33": 7860057.5625561,
                  "_deepnote_index_column": 1
                },
                {
                  "sn_site": "if_ea_sn_3",
                  "lon": 27.35785,
                  "lat": 70.42369,
                  "e_utm33": 959339.46624029,
                  "n_utm33": 7860018.64188419,
                  "_deepnote_index_column": 2
                },
                {
                  "sn_site": "if_ea_sn_4",
                  "lon": 27.35821,
                  "lat": 70.42272,
                  "e_utm33": 959374.6114933,
                  "n_utm33": 7859915.15376066,
                  "_deepnote_index_column": 3
                },
                {
                  "sn_site": "if_ea_sn_5",
                  "lon": 27.36589,
                  "lat": 70.42321,
                  "e_utm33": 959645.530255124,
                  "n_utm33": 7860027.04206549,
                  "_deepnote_index_column": 4
                }
              ],
              "rows_bottom": null
            },
            "text/plain": "      sn_site       lon       lat        e_utm33       n_utm33\n0  if_ea_sn_1  27.35208  70.42404  959119.695296  7.860013e+06\n1  if_ea_sn_2  27.35316  70.42437  959151.893691  7.860058e+06\n2  if_ea_sn_3  27.35785  70.42369  959339.466240  7.860019e+06\n3  if_ea_sn_4  27.35821  70.42272  959374.611493  7.859915e+06\n4  if_ea_sn_5  27.36589  70.42321  959645.530255  7.860027e+06",
            "text/html": "<div>\n<style scoped>\n    .dataframe tbody tr th:only-of-type {\n        vertical-align: middle;\n    }\n\n    .dataframe tbody tr th {\n        vertical-align: top;\n    }\n\n    .dataframe thead th {\n        text-align: right;\n    }\n</style>\n<table border=\"1\" class=\"dataframe\">\n  <thead>\n    <tr style=\"text-align: right;\">\n      <th></th>\n      <th>sn_site</th>\n      <th>lon</th>\n      <th>lat</th>\n      <th>e_utm33</th>\n      <th>n_utm33</th>\n    </tr>\n  </thead>\n  <tbody>\n    <tr>\n      <th>0</th>\n      <td>if_ea_sn_1</td>\n      <td>27.35208</td>\n      <td>70.42404</td>\n      <td>959119.695296</td>\n      <td>7.860013e+06</td>\n    </tr>\n    <tr>\n      <th>1</th>\n      <td>if_ea_sn_2</td>\n      <td>27.35316</td>\n      <td>70.42437</td>\n      <td>959151.893691</td>\n      <td>7.860058e+06</td>\n    </tr>\n    <tr>\n      <th>2</th>\n      <td>if_ea_sn_3</td>\n      <td>27.35785</td>\n      <td>70.42369</td>\n      <td>959339.466240</td>\n      <td>7.860019e+06</td>\n    </tr>\n    <tr>\n      <th>3</th>\n      <td>if_ea_sn_4</td>\n      <td>27.35821</td>\n      <td>70.42272</td>\n      <td>959374.611493</td>\n      <td>7.859915e+06</td>\n    </tr>\n    <tr>\n      <th>4</th>\n      <td>if_ea_sn_5</td>\n      <td>27.36589</td>\n      <td>70.42321</td>\n      <td>959645.530255</td>\n      <td>7.860027e+06</td>\n    </tr>\n  </tbody>\n</table>\n</div>"
          },
          "metadata": {}
        }
      ]
    },
    {
      "cell_type": "code",
      "metadata": {
        "tags": [],
        "cell_id": "00011-2b16e756-6ac3-499b-b2f7-9664bfde71e5",
        "deepnote_to_be_reexecuted": false,
        "source_hash": "f6eafbe6",
        "execution_millis": 33,
        "execution_start": 1615636547279,
        "deepnote_cell_type": "code"
      },
      "source": "coord_df.describe(include='all')",
      "execution_count": null,
      "outputs": [
        {
          "output_type": "execute_result",
          "execution_count": 10,
          "data": {
            "application/vnd.deepnote.dataframe.v2+json": {
              "row_count": 11,
              "column_count": 5,
              "columns": [
                {
                  "name": "sn_site",
                  "dtype": "object",
                  "stats": {
                    "unique_count": 3,
                    "nan_count": 7,
                    "categories": [
                      {
                        "name": "144",
                        "count": 2
                      },
                      {
                        "name": "2 others",
                        "count": 2
                      },
                      {
                        "name": "Missing",
                        "count": 7
                      }
                    ]
                  }
                },
                {
                  "name": "lon",
                  "dtype": "float64",
                  "stats": {
                    "unique_count": 8,
                    "nan_count": 3,
                    "min": 1.0132871917463213,
                    "max": 144,
                    "histogram": [
                      {
                        "bin_start": 1.0132871917463213,
                        "bin_end": 15.31195847257169,
                        "count": 1
                      },
                      {
                        "bin_start": 15.31195847257169,
                        "bin_end": 29.61062975339706,
                        "count": 4
                      },
                      {
                        "bin_start": 29.61062975339706,
                        "bin_end": 43.90930103422243,
                        "count": 2
                      },
                      {
                        "bin_start": 43.90930103422243,
                        "bin_end": 58.2079723150478,
                        "count": 0
                      },
                      {
                        "bin_start": 58.2079723150478,
                        "bin_end": 72.50664359587316,
                        "count": 0
                      },
                      {
                        "bin_start": 72.50664359587316,
                        "bin_end": 86.80531487669853,
                        "count": 0
                      },
                      {
                        "bin_start": 86.80531487669853,
                        "bin_end": 101.10398615752389,
                        "count": 0
                      },
                      {
                        "bin_start": 101.10398615752389,
                        "bin_end": 115.40265743834927,
                        "count": 0
                      },
                      {
                        "bin_start": 115.40265743834927,
                        "bin_end": 129.70132871917463,
                        "count": 0
                      },
                      {
                        "bin_start": 129.70132871917463,
                        "bin_end": 144,
                        "count": 1
                      }
                    ]
                  }
                },
                {
                  "name": "lat",
                  "dtype": "float64",
                  "stats": {
                    "unique_count": 8,
                    "nan_count": 3,
                    "min": 0.045276440462050954,
                    "max": 144,
                    "histogram": [
                      {
                        "bin_start": 0.045276440462050954,
                        "bin_end": 14.440748796415845,
                        "count": 1
                      },
                      {
                        "bin_start": 14.440748796415845,
                        "bin_end": 28.83622115236964,
                        "count": 0
                      },
                      {
                        "bin_start": 28.83622115236964,
                        "bin_end": 43.23169350832344,
                        "count": 0
                      },
                      {
                        "bin_start": 43.23169350832344,
                        "bin_end": 57.62716586427723,
                        "count": 0
                      },
                      {
                        "bin_start": 57.62716586427723,
                        "bin_end": 72.02263822023102,
                        "count": 6
                      },
                      {
                        "bin_start": 72.02263822023102,
                        "bin_end": 86.41811057618482,
                        "count": 0
                      },
                      {
                        "bin_start": 86.41811057618482,
                        "bin_end": 100.8135829321386,
                        "count": 0
                      },
                      {
                        "bin_start": 100.8135829321386,
                        "bin_end": 115.2090552880924,
                        "count": 0
                      },
                      {
                        "bin_start": 115.2090552880924,
                        "bin_end": 129.60452764404621,
                        "count": 0
                      },
                      {
                        "bin_start": 129.60452764404621,
                        "bin_end": 144,
                        "count": 1
                      }
                    ]
                  }
                },
                {
                  "name": "e_utm33",
                  "dtype": "float64",
                  "stats": {
                    "unique_count": 8,
                    "nan_count": 3,
                    "min": 144,
                    "max": 1065181.32050879,
                    "histogram": [
                      {
                        "bin_start": 144,
                        "bin_end": 106647.732050879,
                        "count": 2
                      },
                      {
                        "bin_start": 106647.732050879,
                        "bin_end": 213151.464101758,
                        "count": 0
                      },
                      {
                        "bin_start": 213151.464101758,
                        "bin_end": 319655.196152637,
                        "count": 0
                      },
                      {
                        "bin_start": 319655.196152637,
                        "bin_end": 426158.928203516,
                        "count": 0
                      },
                      {
                        "bin_start": 426158.928203516,
                        "bin_end": 532662.660254395,
                        "count": 0
                      },
                      {
                        "bin_start": 532662.660254395,
                        "bin_end": 639166.392305274,
                        "count": 0
                      },
                      {
                        "bin_start": 639166.392305274,
                        "bin_end": 745670.124356153,
                        "count": 0
                      },
                      {
                        "bin_start": 745670.124356153,
                        "bin_end": 852173.856407032,
                        "count": 0
                      },
                      {
                        "bin_start": 852173.856407032,
                        "bin_end": 958677.588457911,
                        "count": 0
                      },
                      {
                        "bin_start": 958677.588457911,
                        "bin_end": 1065181.32050879,
                        "count": 6
                      }
                    ]
                  }
                },
                {
                  "name": "n_utm33",
                  "dtype": "float64",
                  "stats": {
                    "unique_count": 8,
                    "nan_count": 3,
                    "min": 144,
                    "max": 7875048.93078268,
                    "histogram": [
                      {
                        "bin_start": 144,
                        "bin_end": 787634.493078268,
                        "count": 2
                      },
                      {
                        "bin_start": 787634.493078268,
                        "bin_end": 1575124.986156536,
                        "count": 0
                      },
                      {
                        "bin_start": 1575124.986156536,
                        "bin_end": 2362615.479234804,
                        "count": 0
                      },
                      {
                        "bin_start": 2362615.479234804,
                        "bin_end": 3150105.972313072,
                        "count": 0
                      },
                      {
                        "bin_start": 3150105.972313072,
                        "bin_end": 3937596.46539134,
                        "count": 0
                      },
                      {
                        "bin_start": 3937596.46539134,
                        "bin_end": 4725086.958469608,
                        "count": 0
                      },
                      {
                        "bin_start": 4725086.958469608,
                        "bin_end": 5512577.451547876,
                        "count": 0
                      },
                      {
                        "bin_start": 5512577.451547876,
                        "bin_end": 6300067.944626144,
                        "count": 0
                      },
                      {
                        "bin_start": 6300067.944626144,
                        "bin_end": 7087558.437704412,
                        "count": 0
                      },
                      {
                        "bin_start": 7087558.437704412,
                        "bin_end": 7875048.93078268,
                        "count": 6
                      }
                    ]
                  }
                },
                {
                  "name": "_deepnote_index_column",
                  "dtype": "object"
                }
              ],
              "rows_top": [
                {
                  "sn_site": "144",
                  "lon": "144.0",
                  "lat": "144.0",
                  "e_utm33": "144.0",
                  "n_utm33": "144.0",
                  "_deepnote_index_column": "count"
                },
                {
                  "sn_site": "144",
                  "lon": "nan",
                  "lat": "nan",
                  "e_utm33": "nan",
                  "n_utm33": "nan",
                  "_deepnote_index_column": "unique"
                },
                {
                  "sn_site": "ko_kj_sn_14",
                  "lon": "nan",
                  "lat": "nan",
                  "e_utm33": "nan",
                  "n_utm33": "nan",
                  "_deepnote_index_column": "top"
                },
                {
                  "sn_site": "1",
                  "lon": "nan",
                  "lat": "nan",
                  "e_utm33": "nan",
                  "n_utm33": "nan",
                  "_deepnote_index_column": "freq"
                },
                {
                  "sn_site": "nan",
                  "lon": "28.928038673749054",
                  "lat": "70.3401848391385",
                  "e_utm33": "1018975.1730971643",
                  "n_utm33": "7863896.714335316",
                  "_deepnote_index_column": "mean"
                },
                {
                  "sn_site": "nan",
                  "lon": "1.0132871917463213",
                  "lat": "0.045276440462050954",
                  "e_utm33": "37993.527512531604",
                  "n_utm33": "6024.232823949389",
                  "_deepnote_index_column": "std"
                },
                {
                  "sn_site": "nan",
                  "lon": "27.35208",
                  "lat": "70.27966",
                  "e_utm33": "959119.695296004",
                  "n_utm33": "7857596.32093072",
                  "_deepnote_index_column": "min"
                },
                {
                  "sn_site": "nan",
                  "lon": "27.539117499999996",
                  "lat": "70.30539149683982",
                  "e_utm33": "966424.9394661346",
                  "n_utm33": "7858896.151512742",
                  "_deepnote_index_column": "25%"
                },
                {
                  "sn_site": "nan",
                  "lon": "29.07183",
                  "lat": "70.329055",
                  "e_utm33": "1025098.014045205",
                  "n_utm33": "7860803.877678245",
                  "_deepnote_index_column": "50%"
                },
                {
                  "sn_site": "nan",
                  "lon": "29.829355",
                  "lat": "70.394485",
                  "e_utm33": "1052106.4510435225",
                  "n_utm33": "7871067.050873214",
                  "_deepnote_index_column": "75%"
                },
                {
                  "sn_site": "nan",
                  "lon": "30.1623590290546",
                  "lat": "70.42757",
                  "e_utm33": "1065181.32050879",
                  "n_utm33": "7875048.93078268",
                  "_deepnote_index_column": "max"
                }
              ],
              "rows_bottom": null
            },
            "text/plain": "            sn_site         lon         lat       e_utm33       n_utm33\ncount           144  144.000000  144.000000  1.440000e+02  1.440000e+02\nunique          144         NaN         NaN           NaN           NaN\ntop     ko_kj_sn_14         NaN         NaN           NaN           NaN\nfreq              1         NaN         NaN           NaN           NaN\nmean            NaN   28.928039   70.340185  1.018975e+06  7.863897e+06\nstd             NaN    1.013287    0.045276  3.799353e+04  6.024233e+03\nmin             NaN   27.352080   70.279660  9.591197e+05  7.857596e+06\n25%             NaN   27.539117   70.305391  9.664249e+05  7.858896e+06\n50%             NaN   29.071830   70.329055  1.025098e+06  7.860804e+06\n75%             NaN   29.829355   70.394485  1.052106e+06  7.871067e+06\nmax             NaN   30.162359   70.427570  1.065181e+06  7.875049e+06",
            "text/html": "<div>\n<style scoped>\n    .dataframe tbody tr th:only-of-type {\n        vertical-align: middle;\n    }\n\n    .dataframe tbody tr th {\n        vertical-align: top;\n    }\n\n    .dataframe thead th {\n        text-align: right;\n    }\n</style>\n<table border=\"1\" class=\"dataframe\">\n  <thead>\n    <tr style=\"text-align: right;\">\n      <th></th>\n      <th>sn_site</th>\n      <th>lon</th>\n      <th>lat</th>\n      <th>e_utm33</th>\n      <th>n_utm33</th>\n    </tr>\n  </thead>\n  <tbody>\n    <tr>\n      <th>count</th>\n      <td>144</td>\n      <td>144.000000</td>\n      <td>144.000000</td>\n      <td>1.440000e+02</td>\n      <td>1.440000e+02</td>\n    </tr>\n    <tr>\n      <th>unique</th>\n      <td>144</td>\n      <td>NaN</td>\n      <td>NaN</td>\n      <td>NaN</td>\n      <td>NaN</td>\n    </tr>\n    <tr>\n      <th>top</th>\n      <td>ko_kj_sn_14</td>\n      <td>NaN</td>\n      <td>NaN</td>\n      <td>NaN</td>\n      <td>NaN</td>\n    </tr>\n    <tr>\n      <th>freq</th>\n      <td>1</td>\n      <td>NaN</td>\n      <td>NaN</td>\n      <td>NaN</td>\n      <td>NaN</td>\n    </tr>\n    <tr>\n      <th>mean</th>\n      <td>NaN</td>\n      <td>28.928039</td>\n      <td>70.340185</td>\n      <td>1.018975e+06</td>\n      <td>7.863897e+06</td>\n    </tr>\n    <tr>\n      <th>std</th>\n      <td>NaN</td>\n      <td>1.013287</td>\n      <td>0.045276</td>\n      <td>3.799353e+04</td>\n      <td>6.024233e+03</td>\n    </tr>\n    <tr>\n      <th>min</th>\n      <td>NaN</td>\n      <td>27.352080</td>\n      <td>70.279660</td>\n      <td>9.591197e+05</td>\n      <td>7.857596e+06</td>\n    </tr>\n    <tr>\n      <th>25%</th>\n      <td>NaN</td>\n      <td>27.539117</td>\n      <td>70.305391</td>\n      <td>9.664249e+05</td>\n      <td>7.858896e+06</td>\n    </tr>\n    <tr>\n      <th>50%</th>\n      <td>NaN</td>\n      <td>29.071830</td>\n      <td>70.329055</td>\n      <td>1.025098e+06</td>\n      <td>7.860804e+06</td>\n    </tr>\n    <tr>\n      <th>75%</th>\n      <td>NaN</td>\n      <td>29.829355</td>\n      <td>70.394485</td>\n      <td>1.052106e+06</td>\n      <td>7.871067e+06</td>\n    </tr>\n    <tr>\n      <th>max</th>\n      <td>NaN</td>\n      <td>30.162359</td>\n      <td>70.427570</td>\n      <td>1.065181e+06</td>\n      <td>7.875049e+06</td>\n    </tr>\n  </tbody>\n</table>\n</div>"
          },
          "metadata": {}
        }
      ]
    },
    {
      "cell_type": "code",
      "metadata": {
        "tags": [],
        "cell_id": "00005-65013161-7183-4ceb-8dd7-b91bdd5c7602",
        "deepnote_to_be_reexecuted": false,
        "source_hash": "8c79f16d",
        "execution_millis": 12,
        "execution_start": 1615636547832,
        "deepnote_cell_type": "code"
      },
      "source": "coord_df.info()",
      "execution_count": null,
      "outputs": [
        {
          "name": "stdout",
          "text": "<class 'pandas.core.frame.DataFrame'>\nRangeIndex: 144 entries, 0 to 143\nData columns (total 5 columns):\n #   Column   Non-Null Count  Dtype  \n---  ------   --------------  -----  \n 0   sn_site  144 non-null    object \n 1   lon      144 non-null    float64\n 2   lat      144 non-null    float64\n 3   e_utm33  144 non-null    float64\n 4   n_utm33  144 non-null    float64\ndtypes: float64(4), object(1)\nmemory usage: 5.8+ KB\n",
          "output_type": "stream"
        }
      ]
    },
    {
      "cell_type": "markdown",
      "source": "## Snowdepth Dataset\n\nThis contains the snow depth in cm per observation per station across the years",
      "metadata": {
        "tags": [],
        "cell_id": "00008-b6cdd1ec-06a7-4047-89ba-65f288b48d23",
        "deepnote_cell_type": "markdown"
      }
    },
    {
      "cell_type": "code",
      "metadata": {
        "tags": [],
        "cell_id": "00008-cf2b6a0c-d791-4f93-b9ce-45e8f8ad0c36",
        "deepnote_to_be_reexecuted": false,
        "source_hash": "9d9939c2",
        "execution_millis": 57,
        "execution_start": 1615636548652,
        "deepnote_cell_type": "code"
      },
      "source": "snowdepth_df[\"t_date\"] = pd.to_datetime(snowdepth_df[\"t_date\"])\nsnowdepth_df[\"year\"] = snowdepth_df[\"t_date\"].dt.year\nsnowdepth_df.head()",
      "execution_count": null,
      "outputs": [
        {
          "name": "stderr",
          "text": "/shared-libs/python3.7/py/lib/python3.7/site-packages/numpy/lib/histograms.py:822: RuntimeWarning: divide by zero encountered in double_scalars\n  norm = n_equal_bins / _unsigned_subtract(last_edge, first_edge)\n/shared-libs/python3.7/py/lib/python3.7/site-packages/numpy/lib/histograms.py:850: RuntimeWarning: invalid value encountered in multiply\n  f_indices = _unsigned_subtract(tmp_a, first_edge) * norm\n",
          "output_type": "stream"
        },
        {
          "output_type": "execute_result",
          "execution_count": 12,
          "data": {
            "application/vnd.deepnote.dataframe.v2+json": {
              "row_count": 5,
              "column_count": 10,
              "columns": [
                {
                  "name": "sn_region",
                  "dtype": "object",
                  "stats": {
                    "unique_count": 1,
                    "nan_count": 0,
                    "categories": [
                      {
                        "name": "varanger",
                        "count": 5
                      }
                    ]
                  }
                },
                {
                  "name": "sn_locality",
                  "dtype": "object",
                  "stats": {
                    "unique_count": 1,
                    "nan_count": 0,
                    "categories": [
                      {
                        "name": "vestre_jakobselv",
                        "count": 5
                      }
                    ]
                  }
                },
                {
                  "name": "sn_section",
                  "dtype": "object",
                  "stats": {
                    "unique_count": 1,
                    "nan_count": 0,
                    "categories": [
                      {
                        "name": "bearalveaijohka",
                        "count": 5
                      }
                    ]
                  }
                },
                {
                  "name": "sn_site",
                  "dtype": "object",
                  "stats": {
                    "unique_count": 1,
                    "nan_count": 0,
                    "categories": [
                      {
                        "name": "vj_be_sn_1",
                        "count": 5
                      }
                    ]
                  }
                },
                {
                  "name": "sn_plot",
                  "dtype": "float64",
                  "stats": {
                    "unique_count": 5,
                    "nan_count": 0,
                    "min": -10,
                    "max": 10,
                    "histogram": [
                      {
                        "bin_start": -10,
                        "bin_end": -8,
                        "count": 1
                      },
                      {
                        "bin_start": -8,
                        "bin_end": -6,
                        "count": 0
                      },
                      {
                        "bin_start": -6,
                        "bin_end": -4,
                        "count": 1
                      },
                      {
                        "bin_start": -4,
                        "bin_end": -2,
                        "count": 0
                      },
                      {
                        "bin_start": -2,
                        "bin_end": 0,
                        "count": 0
                      },
                      {
                        "bin_start": 0,
                        "bin_end": 2,
                        "count": 1
                      },
                      {
                        "bin_start": 2,
                        "bin_end": 4,
                        "count": 0
                      },
                      {
                        "bin_start": 4,
                        "bin_end": 6,
                        "count": 1
                      },
                      {
                        "bin_start": 6,
                        "bin_end": 8,
                        "count": 0
                      },
                      {
                        "bin_start": 8,
                        "bin_end": 10,
                        "count": 1
                      }
                    ]
                  }
                },
                {
                  "name": "t_date",
                  "dtype": "datetime64[ns]",
                  "stats": {
                    "unique_count": 1,
                    "nan_count": 0,
                    "min": "2019-03-22T00:00:00.000000",
                    "max": "2019-03-22T00:00:00.000000",
                    "histogram": null
                  }
                },
                {
                  "name": "v_observer",
                  "dtype": "object",
                  "stats": {
                    "unique_count": 1,
                    "nan_count": 0,
                    "categories": [
                      {
                        "name": "ri_ny",
                        "count": 5
                      }
                    ]
                  }
                },
                {
                  "name": "v_depth",
                  "dtype": "float64",
                  "stats": {
                    "unique_count": 5,
                    "nan_count": 0,
                    "min": 20,
                    "max": 225,
                    "histogram": [
                      {
                        "bin_start": 20,
                        "bin_end": 40.5,
                        "count": 1
                      },
                      {
                        "bin_start": 40.5,
                        "bin_end": 61,
                        "count": 1
                      },
                      {
                        "bin_start": 61,
                        "bin_end": 81.5,
                        "count": 0
                      },
                      {
                        "bin_start": 81.5,
                        "bin_end": 102,
                        "count": 0
                      },
                      {
                        "bin_start": 102,
                        "bin_end": 122.5,
                        "count": 1
                      },
                      {
                        "bin_start": 122.5,
                        "bin_end": 143,
                        "count": 0
                      },
                      {
                        "bin_start": 143,
                        "bin_end": 163.5,
                        "count": 0
                      },
                      {
                        "bin_start": 163.5,
                        "bin_end": 184,
                        "count": 0
                      },
                      {
                        "bin_start": 184,
                        "bin_end": 204.5,
                        "count": 1
                      },
                      {
                        "bin_start": 204.5,
                        "bin_end": 225,
                        "count": 1
                      }
                    ]
                  }
                },
                {
                  "name": "v_comment",
                  "dtype": "object",
                  "stats": {
                    "unique_count": 0,
                    "nan_count": 5,
                    "categories": [
                      {
                        "name": "Missing",
                        "count": 5
                      }
                    ]
                  }
                },
                {
                  "name": "year",
                  "dtype": "int64",
                  "stats": {
                    "unique_count": 1,
                    "nan_count": 0,
                    "min": 2019,
                    "max": 2019,
                    "histogram": [
                      {
                        "bin_start": 2018.5,
                        "bin_end": 2018.6,
                        "count": 0
                      },
                      {
                        "bin_start": 2018.6,
                        "bin_end": 2018.7,
                        "count": 0
                      },
                      {
                        "bin_start": 2018.7,
                        "bin_end": 2018.8,
                        "count": 0
                      },
                      {
                        "bin_start": 2018.8,
                        "bin_end": 2018.9,
                        "count": 0
                      },
                      {
                        "bin_start": 2018.9,
                        "bin_end": 2019,
                        "count": 0
                      },
                      {
                        "bin_start": 2019,
                        "bin_end": 2019.1,
                        "count": 5
                      },
                      {
                        "bin_start": 2019.1,
                        "bin_end": 2019.2,
                        "count": 0
                      },
                      {
                        "bin_start": 2019.2,
                        "bin_end": 2019.3,
                        "count": 0
                      },
                      {
                        "bin_start": 2019.3,
                        "bin_end": 2019.4,
                        "count": 0
                      },
                      {
                        "bin_start": 2019.4,
                        "bin_end": 2019.5,
                        "count": 0
                      }
                    ]
                  }
                },
                {
                  "name": "_deepnote_index_column",
                  "dtype": "int64"
                }
              ],
              "rows_top": [
                {
                  "sn_region": "varanger",
                  "sn_locality": "vestre_jakobselv",
                  "sn_section": "bearalveaijohka",
                  "sn_site": "vj_be_sn_1",
                  "sn_plot": -10,
                  "t_date": "2019-03-22T00:00:00.000000",
                  "v_observer": "ri_ny",
                  "v_depth": 20,
                  "v_comment": "nan",
                  "year": 2019,
                  "_deepnote_index_column": 0
                },
                {
                  "sn_region": "varanger",
                  "sn_locality": "vestre_jakobselv",
                  "sn_section": "bearalveaijohka",
                  "sn_site": "vj_be_sn_1",
                  "sn_plot": -5,
                  "t_date": "2019-03-22T00:00:00.000000",
                  "v_observer": "ri_ny",
                  "v_depth": 55,
                  "v_comment": "nan",
                  "year": 2019,
                  "_deepnote_index_column": 1
                },
                {
                  "sn_region": "varanger",
                  "sn_locality": "vestre_jakobselv",
                  "sn_section": "bearalveaijohka",
                  "sn_site": "vj_be_sn_1",
                  "sn_plot": 0,
                  "t_date": "2019-03-22T00:00:00.000000",
                  "v_observer": "ri_ny",
                  "v_depth": 110,
                  "v_comment": "nan",
                  "year": 2019,
                  "_deepnote_index_column": 2
                },
                {
                  "sn_region": "varanger",
                  "sn_locality": "vestre_jakobselv",
                  "sn_section": "bearalveaijohka",
                  "sn_site": "vj_be_sn_1",
                  "sn_plot": 5,
                  "t_date": "2019-03-22T00:00:00.000000",
                  "v_observer": "ri_ny",
                  "v_depth": 225,
                  "v_comment": "nan",
                  "year": 2019,
                  "_deepnote_index_column": 3
                },
                {
                  "sn_region": "varanger",
                  "sn_locality": "vestre_jakobselv",
                  "sn_section": "bearalveaijohka",
                  "sn_site": "vj_be_sn_1",
                  "sn_plot": 10,
                  "t_date": "2019-03-22T00:00:00.000000",
                  "v_observer": "ri_ny",
                  "v_depth": 200,
                  "v_comment": "nan",
                  "year": 2019,
                  "_deepnote_index_column": 4
                }
              ],
              "rows_bottom": null
            },
            "text/plain": "  sn_region       sn_locality       sn_section     sn_site  sn_plot  \\\n0  varanger  vestre_jakobselv  bearalveaijohka  vj_be_sn_1    -10.0   \n1  varanger  vestre_jakobselv  bearalveaijohka  vj_be_sn_1     -5.0   \n2  varanger  vestre_jakobselv  bearalveaijohka  vj_be_sn_1      0.0   \n3  varanger  vestre_jakobselv  bearalveaijohka  vj_be_sn_1      5.0   \n4  varanger  vestre_jakobselv  bearalveaijohka  vj_be_sn_1     10.0   \n\n      t_date v_observer  v_depth v_comment  year  \n0 2019-03-22      ri_ny     20.0       NaN  2019  \n1 2019-03-22      ri_ny     55.0       NaN  2019  \n2 2019-03-22      ri_ny    110.0       NaN  2019  \n3 2019-03-22      ri_ny    225.0       NaN  2019  \n4 2019-03-22      ri_ny    200.0       NaN  2019  ",
            "text/html": "<div>\n<style scoped>\n    .dataframe tbody tr th:only-of-type {\n        vertical-align: middle;\n    }\n\n    .dataframe tbody tr th {\n        vertical-align: top;\n    }\n\n    .dataframe thead th {\n        text-align: right;\n    }\n</style>\n<table border=\"1\" class=\"dataframe\">\n  <thead>\n    <tr style=\"text-align: right;\">\n      <th></th>\n      <th>sn_region</th>\n      <th>sn_locality</th>\n      <th>sn_section</th>\n      <th>sn_site</th>\n      <th>sn_plot</th>\n      <th>t_date</th>\n      <th>v_observer</th>\n      <th>v_depth</th>\n      <th>v_comment</th>\n      <th>year</th>\n    </tr>\n  </thead>\n  <tbody>\n    <tr>\n      <th>0</th>\n      <td>varanger</td>\n      <td>vestre_jakobselv</td>\n      <td>bearalveaijohka</td>\n      <td>vj_be_sn_1</td>\n      <td>-10.0</td>\n      <td>2019-03-22</td>\n      <td>ri_ny</td>\n      <td>20.0</td>\n      <td>NaN</td>\n      <td>2019</td>\n    </tr>\n    <tr>\n      <th>1</th>\n      <td>varanger</td>\n      <td>vestre_jakobselv</td>\n      <td>bearalveaijohka</td>\n      <td>vj_be_sn_1</td>\n      <td>-5.0</td>\n      <td>2019-03-22</td>\n      <td>ri_ny</td>\n      <td>55.0</td>\n      <td>NaN</td>\n      <td>2019</td>\n    </tr>\n    <tr>\n      <th>2</th>\n      <td>varanger</td>\n      <td>vestre_jakobselv</td>\n      <td>bearalveaijohka</td>\n      <td>vj_be_sn_1</td>\n      <td>0.0</td>\n      <td>2019-03-22</td>\n      <td>ri_ny</td>\n      <td>110.0</td>\n      <td>NaN</td>\n      <td>2019</td>\n    </tr>\n    <tr>\n      <th>3</th>\n      <td>varanger</td>\n      <td>vestre_jakobselv</td>\n      <td>bearalveaijohka</td>\n      <td>vj_be_sn_1</td>\n      <td>5.0</td>\n      <td>2019-03-22</td>\n      <td>ri_ny</td>\n      <td>225.0</td>\n      <td>NaN</td>\n      <td>2019</td>\n    </tr>\n    <tr>\n      <th>4</th>\n      <td>varanger</td>\n      <td>vestre_jakobselv</td>\n      <td>bearalveaijohka</td>\n      <td>vj_be_sn_1</td>\n      <td>10.0</td>\n      <td>2019-03-22</td>\n      <td>ri_ny</td>\n      <td>200.0</td>\n      <td>NaN</td>\n      <td>2019</td>\n    </tr>\n  </tbody>\n</table>\n</div>"
          },
          "metadata": {}
        }
      ]
    },
    {
      "cell_type": "code",
      "metadata": {
        "tags": [],
        "cell_id": "00017-99e867c8-d06d-4e32-9f2c-5eebcf40460a",
        "deepnote_to_be_reexecuted": false,
        "source_hash": "33350f02",
        "execution_millis": 73,
        "execution_start": 1615636549220,
        "deepnote_cell_type": "code"
      },
      "source": "snowdepth_df.describe(include='all')",
      "execution_count": null,
      "outputs": [
        {
          "name": "stderr",
          "text": "/shared-libs/python3.7/py-core/lib/python3.7/site-packages/ipykernel_launcher.py:1: FutureWarning: Treating datetime data as categorical rather than numeric in `.describe` is deprecated and will be removed in a future version of pandas. Specify `datetime_is_numeric=True` to silence this warning and adopt the future behavior now.\n  \"\"\"Entry point for launching an IPython kernel.\n",
          "output_type": "stream"
        },
        {
          "output_type": "execute_result",
          "execution_count": 13,
          "data": {
            "application/vnd.deepnote.dataframe.v2+json": {
              "row_count": 13,
              "column_count": 10,
              "columns": [
                {
                  "name": "sn_region",
                  "dtype": "object",
                  "stats": {
                    "unique_count": 3,
                    "nan_count": 9,
                    "categories": [
                      {
                        "name": "3713",
                        "count": 2
                      },
                      {
                        "name": "2 others",
                        "count": 2
                      },
                      {
                        "name": "Missing",
                        "count": 9
                      }
                    ]
                  }
                },
                {
                  "name": "sn_locality",
                  "dtype": "object",
                  "stats": {
                    "unique_count": 4,
                    "nan_count": 9,
                    "categories": [
                      {
                        "name": "3713",
                        "count": 1
                      },
                      {
                        "name": "3 others",
                        "count": 3
                      },
                      {
                        "name": "Missing",
                        "count": 9
                      }
                    ]
                  }
                },
                {
                  "name": "sn_section",
                  "dtype": "object",
                  "stats": {
                    "unique_count": 4,
                    "nan_count": 9,
                    "categories": [
                      {
                        "name": "3713",
                        "count": 1
                      },
                      {
                        "name": "3 others",
                        "count": 3
                      },
                      {
                        "name": "Missing",
                        "count": 9
                      }
                    ]
                  }
                },
                {
                  "name": "sn_site",
                  "dtype": "object",
                  "stats": {
                    "unique_count": 4,
                    "nan_count": 9,
                    "categories": [
                      {
                        "name": "3713",
                        "count": 1
                      },
                      {
                        "name": "3 others",
                        "count": 3
                      },
                      {
                        "name": "Missing",
                        "count": 9
                      }
                    ]
                  }
                },
                {
                  "name": "sn_plot",
                  "dtype": "float64",
                  "stats": {
                    "unique_count": 7,
                    "nan_count": 5,
                    "min": -10,
                    "max": 3710,
                    "histogram": [
                      {
                        "bin_start": -10,
                        "bin_end": 362,
                        "count": 7
                      },
                      {
                        "bin_start": 362,
                        "bin_end": 734,
                        "count": 0
                      },
                      {
                        "bin_start": 734,
                        "bin_end": 1106,
                        "count": 0
                      },
                      {
                        "bin_start": 1106,
                        "bin_end": 1478,
                        "count": 0
                      },
                      {
                        "bin_start": 1478,
                        "bin_end": 1850,
                        "count": 0
                      },
                      {
                        "bin_start": 1850,
                        "bin_end": 2222,
                        "count": 0
                      },
                      {
                        "bin_start": 2222,
                        "bin_end": 2594,
                        "count": 0
                      },
                      {
                        "bin_start": 2594,
                        "bin_end": 2966,
                        "count": 0
                      },
                      {
                        "bin_start": 2966,
                        "bin_end": 3338,
                        "count": 0
                      },
                      {
                        "bin_start": 3338,
                        "bin_end": 3710,
                        "count": 1
                      }
                    ]
                  }
                },
                {
                  "name": "t_date",
                  "dtype": "object",
                  "stats": {
                    "unique_count": 6,
                    "nan_count": 7,
                    "categories": [
                      {
                        "name": "3713",
                        "count": 1
                      },
                      {
                        "name": "5 others",
                        "count": 5
                      },
                      {
                        "name": "Missing",
                        "count": 7
                      }
                    ]
                  }
                },
                {
                  "name": "v_observer",
                  "dtype": "object",
                  "stats": {
                    "unique_count": 4,
                    "nan_count": 9,
                    "categories": [
                      {
                        "name": "333",
                        "count": 1
                      },
                      {
                        "name": "3 others",
                        "count": 3
                      },
                      {
                        "name": "Missing",
                        "count": 9
                      }
                    ]
                  }
                },
                {
                  "name": "v_depth",
                  "dtype": "float64",
                  "stats": {
                    "unique_count": 8,
                    "nan_count": 5,
                    "min": 0,
                    "max": 3536,
                    "histogram": [
                      {
                        "bin_start": 0,
                        "bin_end": 353.6,
                        "count": 6
                      },
                      {
                        "bin_start": 353.6,
                        "bin_end": 707.2,
                        "count": 1
                      },
                      {
                        "bin_start": 707.2,
                        "bin_end": 1060.8000000000002,
                        "count": 0
                      },
                      {
                        "bin_start": 1060.8000000000002,
                        "bin_end": 1414.4,
                        "count": 0
                      },
                      {
                        "bin_start": 1414.4,
                        "bin_end": 1768,
                        "count": 0
                      },
                      {
                        "bin_start": 1768,
                        "bin_end": 2121.6000000000004,
                        "count": 0
                      },
                      {
                        "bin_start": 2121.6000000000004,
                        "bin_end": 2475.2000000000003,
                        "count": 0
                      },
                      {
                        "bin_start": 2475.2000000000003,
                        "bin_end": 2828.8,
                        "count": 0
                      },
                      {
                        "bin_start": 2828.8,
                        "bin_end": 3182.4,
                        "count": 0
                      },
                      {
                        "bin_start": 3182.4,
                        "bin_end": 3536,
                        "count": 1
                      }
                    ]
                  }
                },
                {
                  "name": "v_comment",
                  "dtype": "object",
                  "stats": {
                    "unique_count": 4,
                    "nan_count": 9,
                    "categories": [
                      {
                        "name": "336",
                        "count": 1
                      },
                      {
                        "name": "3 others",
                        "count": 3
                      },
                      {
                        "name": "Missing",
                        "count": 9
                      }
                    ]
                  }
                },
                {
                  "name": "year",
                  "dtype": "float64",
                  "stats": {
                    "unique_count": 8,
                    "nan_count": 5,
                    "min": 2.6521907775955755,
                    "max": 3713,
                    "histogram": [
                      {
                        "bin_start": 2.6521907775955755,
                        "bin_end": 373.686971699836,
                        "count": 1
                      },
                      {
                        "bin_start": 373.686971699836,
                        "bin_end": 744.7217526220765,
                        "count": 0
                      },
                      {
                        "bin_start": 744.7217526220765,
                        "bin_end": 1115.7565335443169,
                        "count": 0
                      },
                      {
                        "bin_start": 1115.7565335443169,
                        "bin_end": 1486.7913144665572,
                        "count": 0
                      },
                      {
                        "bin_start": 1486.7913144665572,
                        "bin_end": 1857.8260953887975,
                        "count": 0
                      },
                      {
                        "bin_start": 1857.8260953887975,
                        "bin_end": 2228.8608763110383,
                        "count": 6
                      },
                      {
                        "bin_start": 2228.8608763110383,
                        "bin_end": 2599.8956572332786,
                        "count": 0
                      },
                      {
                        "bin_start": 2599.8956572332786,
                        "bin_end": 2970.930438155519,
                        "count": 0
                      },
                      {
                        "bin_start": 2970.930438155519,
                        "bin_end": 3341.9652190777592,
                        "count": 0
                      },
                      {
                        "bin_start": 3341.9652190777592,
                        "bin_end": 3713,
                        "count": 1
                      }
                    ]
                  }
                },
                {
                  "name": "_deepnote_index_column",
                  "dtype": "object"
                }
              ],
              "rows_top": [
                {
                  "sn_region": "3713",
                  "sn_locality": "3713",
                  "sn_section": "3713",
                  "sn_site": "3713",
                  "sn_plot": "3710.0",
                  "t_date": "3713",
                  "v_observer": "333",
                  "v_depth": "3536.0",
                  "v_comment": "336",
                  "year": "3713.0",
                  "_deepnote_index_column": "count"
                },
                {
                  "sn_region": "1",
                  "sn_locality": "3",
                  "sn_section": "7",
                  "sn_site": "144",
                  "sn_plot": "nan",
                  "t_date": "37",
                  "v_observer": "3",
                  "v_depth": "nan",
                  "v_comment": "43",
                  "year": "nan",
                  "_deepnote_index_column": "unique"
                },
                {
                  "sn_region": "varanger",
                  "sn_locality": "vestre_jakobselv",
                  "sn_section": "bearalveaijohka",
                  "sn_site": "ko_kj_sn_10",
                  "sn_plot": "nan",
                  "t_date": "2012-03-21 00:00:00",
                  "v_observer": "de_jak",
                  "v_depth": "nan",
                  "v_comment": "snow was too hard",
                  "year": "nan",
                  "_deepnote_index_column": "top"
                },
                {
                  "sn_region": "3713",
                  "sn_locality": "1580",
                  "sn_section": "1175",
                  "sn_site": "50",
                  "sn_plot": "nan",
                  "t_date": "235",
                  "v_observer": "138",
                  "v_depth": "nan",
                  "v_comment": "117",
                  "year": "nan",
                  "_deepnote_index_column": "freq"
                },
                {
                  "sn_region": "nan",
                  "sn_locality": "nan",
                  "sn_section": "nan",
                  "sn_site": "nan",
                  "sn_plot": "nan",
                  "t_date": "2011-03-17 00:00:00",
                  "v_observer": "nan",
                  "v_depth": "nan",
                  "v_comment": "nan",
                  "year": "nan",
                  "_deepnote_index_column": "first"
                },
                {
                  "sn_region": "nan",
                  "sn_locality": "nan",
                  "sn_section": "nan",
                  "sn_site": "nan",
                  "sn_plot": "nan",
                  "t_date": "2020-03-18 00:00:00",
                  "v_observer": "nan",
                  "v_depth": "nan",
                  "v_comment": "nan",
                  "year": "nan",
                  "_deepnote_index_column": "last"
                },
                {
                  "sn_region": "nan",
                  "sn_locality": "nan",
                  "sn_section": "nan",
                  "sn_site": "nan",
                  "sn_plot": "0.0",
                  "t_date": "nan",
                  "v_observer": "nan",
                  "v_depth": "192.14762443438914",
                  "v_comment": "nan",
                  "year": "2014.1489361702127",
                  "_deepnote_index_column": "mean"
                },
                {
                  "sn_region": "nan",
                  "sn_locality": "nan",
                  "sn_section": "nan",
                  "sn_site": "nan",
                  "sn_plot": "7.072020978657143",
                  "t_date": "nan",
                  "v_observer": "nan",
                  "v_depth": "88.09787045069669",
                  "v_comment": "nan",
                  "year": "2.6521907775955755",
                  "_deepnote_index_column": "std"
                },
                {
                  "sn_region": "nan",
                  "sn_locality": "nan",
                  "sn_section": "nan",
                  "sn_site": "nan",
                  "sn_plot": "-10.0",
                  "t_date": "nan",
                  "v_observer": "nan",
                  "v_depth": "0.0",
                  "v_comment": "nan",
                  "year": "2011.0",
                  "_deepnote_index_column": "min"
                },
                {
                  "sn_region": "nan",
                  "sn_locality": "nan",
                  "sn_section": "nan",
                  "sn_site": "nan",
                  "sn_plot": "-5.0",
                  "t_date": "nan",
                  "v_observer": "nan",
                  "v_depth": "129.0",
                  "v_comment": "nan",
                  "year": "2012.0",
                  "_deepnote_index_column": "25%"
                },
                {
                  "sn_region": "nan",
                  "sn_locality": "nan",
                  "sn_section": "nan",
                  "sn_site": "nan",
                  "sn_plot": "0.0",
                  "t_date": "nan",
                  "v_observer": "nan",
                  "v_depth": "188.5",
                  "v_comment": "nan",
                  "year": "2013.0",
                  "_deepnote_index_column": "50%"
                },
                {
                  "sn_region": "nan",
                  "sn_locality": "nan",
                  "sn_section": "nan",
                  "sn_site": "nan",
                  "sn_plot": "5.0",
                  "t_date": "nan",
                  "v_observer": "nan",
                  "v_depth": "250.0",
                  "v_comment": "nan",
                  "year": "2016.0",
                  "_deepnote_index_column": "75%"
                },
                {
                  "sn_region": "nan",
                  "sn_locality": "nan",
                  "sn_section": "nan",
                  "sn_site": "nan",
                  "sn_plot": "10.0",
                  "t_date": "nan",
                  "v_observer": "nan",
                  "v_depth": "500.0",
                  "v_comment": "nan",
                  "year": "2020.0",
                  "_deepnote_index_column": "max"
                }
              ],
              "rows_bottom": null
            },
            "text/plain": "       sn_region       sn_locality       sn_section      sn_site      sn_plot  \\\ncount       3713              3713             3713         3713  3710.000000   \nunique         1                 3                7          144          NaN   \ntop     varanger  vestre_jakobselv  bearalveaijohka  ko_kj_sn_10          NaN   \nfreq        3713              1580             1175           50          NaN   \nfirst        NaN               NaN              NaN          NaN          NaN   \nlast         NaN               NaN              NaN          NaN          NaN   \nmean         NaN               NaN              NaN          NaN     0.000000   \nstd          NaN               NaN              NaN          NaN     7.072021   \nmin          NaN               NaN              NaN          NaN   -10.000000   \n25%          NaN               NaN              NaN          NaN    -5.000000   \n50%          NaN               NaN              NaN          NaN     0.000000   \n75%          NaN               NaN              NaN          NaN     5.000000   \nmax          NaN               NaN              NaN          NaN    10.000000   \n\n                     t_date v_observer      v_depth          v_comment  \\\ncount                  3713        333  3536.000000                336   \nunique                   37          3          NaN                 43   \ntop     2012-03-21 00:00:00     de_jak          NaN  snow was too hard   \nfreq                    235        138          NaN                117   \nfirst   2011-03-17 00:00:00        NaN          NaN                NaN   \nlast    2020-03-18 00:00:00        NaN          NaN                NaN   \nmean                    NaN        NaN   192.147624                NaN   \nstd                     NaN        NaN    88.097870                NaN   \nmin                     NaN        NaN     0.000000                NaN   \n25%                     NaN        NaN   129.000000                NaN   \n50%                     NaN        NaN   188.500000                NaN   \n75%                     NaN        NaN   250.000000                NaN   \nmax                     NaN        NaN   500.000000                NaN   \n\n               year  \ncount   3713.000000  \nunique          NaN  \ntop             NaN  \nfreq            NaN  \nfirst           NaN  \nlast            NaN  \nmean    2014.148936  \nstd        2.652191  \nmin     2011.000000  \n25%     2012.000000  \n50%     2013.000000  \n75%     2016.000000  \nmax     2020.000000  ",
            "text/html": "<div>\n<style scoped>\n    .dataframe tbody tr th:only-of-type {\n        vertical-align: middle;\n    }\n\n    .dataframe tbody tr th {\n        vertical-align: top;\n    }\n\n    .dataframe thead th {\n        text-align: right;\n    }\n</style>\n<table border=\"1\" class=\"dataframe\">\n  <thead>\n    <tr style=\"text-align: right;\">\n      <th></th>\n      <th>sn_region</th>\n      <th>sn_locality</th>\n      <th>sn_section</th>\n      <th>sn_site</th>\n      <th>sn_plot</th>\n      <th>t_date</th>\n      <th>v_observer</th>\n      <th>v_depth</th>\n      <th>v_comment</th>\n      <th>year</th>\n    </tr>\n  </thead>\n  <tbody>\n    <tr>\n      <th>count</th>\n      <td>3713</td>\n      <td>3713</td>\n      <td>3713</td>\n      <td>3713</td>\n      <td>3710.000000</td>\n      <td>3713</td>\n      <td>333</td>\n      <td>3536.000000</td>\n      <td>336</td>\n      <td>3713.000000</td>\n    </tr>\n    <tr>\n      <th>unique</th>\n      <td>1</td>\n      <td>3</td>\n      <td>7</td>\n      <td>144</td>\n      <td>NaN</td>\n      <td>37</td>\n      <td>3</td>\n      <td>NaN</td>\n      <td>43</td>\n      <td>NaN</td>\n    </tr>\n    <tr>\n      <th>top</th>\n      <td>varanger</td>\n      <td>vestre_jakobselv</td>\n      <td>bearalveaijohka</td>\n      <td>ko_kj_sn_10</td>\n      <td>NaN</td>\n      <td>2012-03-21 00:00:00</td>\n      <td>de_jak</td>\n      <td>NaN</td>\n      <td>snow was too hard</td>\n      <td>NaN</td>\n    </tr>\n    <tr>\n      <th>freq</th>\n      <td>3713</td>\n      <td>1580</td>\n      <td>1175</td>\n      <td>50</td>\n      <td>NaN</td>\n      <td>235</td>\n      <td>138</td>\n      <td>NaN</td>\n      <td>117</td>\n      <td>NaN</td>\n    </tr>\n    <tr>\n      <th>first</th>\n      <td>NaN</td>\n      <td>NaN</td>\n      <td>NaN</td>\n      <td>NaN</td>\n      <td>NaN</td>\n      <td>2011-03-17 00:00:00</td>\n      <td>NaN</td>\n      <td>NaN</td>\n      <td>NaN</td>\n      <td>NaN</td>\n    </tr>\n    <tr>\n      <th>last</th>\n      <td>NaN</td>\n      <td>NaN</td>\n      <td>NaN</td>\n      <td>NaN</td>\n      <td>NaN</td>\n      <td>2020-03-18 00:00:00</td>\n      <td>NaN</td>\n      <td>NaN</td>\n      <td>NaN</td>\n      <td>NaN</td>\n    </tr>\n    <tr>\n      <th>mean</th>\n      <td>NaN</td>\n      <td>NaN</td>\n      <td>NaN</td>\n      <td>NaN</td>\n      <td>0.000000</td>\n      <td>NaN</td>\n      <td>NaN</td>\n      <td>192.147624</td>\n      <td>NaN</td>\n      <td>2014.148936</td>\n    </tr>\n    <tr>\n      <th>std</th>\n      <td>NaN</td>\n      <td>NaN</td>\n      <td>NaN</td>\n      <td>NaN</td>\n      <td>7.072021</td>\n      <td>NaN</td>\n      <td>NaN</td>\n      <td>88.097870</td>\n      <td>NaN</td>\n      <td>2.652191</td>\n    </tr>\n    <tr>\n      <th>min</th>\n      <td>NaN</td>\n      <td>NaN</td>\n      <td>NaN</td>\n      <td>NaN</td>\n      <td>-10.000000</td>\n      <td>NaN</td>\n      <td>NaN</td>\n      <td>0.000000</td>\n      <td>NaN</td>\n      <td>2011.000000</td>\n    </tr>\n    <tr>\n      <th>25%</th>\n      <td>NaN</td>\n      <td>NaN</td>\n      <td>NaN</td>\n      <td>NaN</td>\n      <td>-5.000000</td>\n      <td>NaN</td>\n      <td>NaN</td>\n      <td>129.000000</td>\n      <td>NaN</td>\n      <td>2012.000000</td>\n    </tr>\n    <tr>\n      <th>50%</th>\n      <td>NaN</td>\n      <td>NaN</td>\n      <td>NaN</td>\n      <td>NaN</td>\n      <td>0.000000</td>\n      <td>NaN</td>\n      <td>NaN</td>\n      <td>188.500000</td>\n      <td>NaN</td>\n      <td>2013.000000</td>\n    </tr>\n    <tr>\n      <th>75%</th>\n      <td>NaN</td>\n      <td>NaN</td>\n      <td>NaN</td>\n      <td>NaN</td>\n      <td>5.000000</td>\n      <td>NaN</td>\n      <td>NaN</td>\n      <td>250.000000</td>\n      <td>NaN</td>\n      <td>2016.000000</td>\n    </tr>\n    <tr>\n      <th>max</th>\n      <td>NaN</td>\n      <td>NaN</td>\n      <td>NaN</td>\n      <td>NaN</td>\n      <td>10.000000</td>\n      <td>NaN</td>\n      <td>NaN</td>\n      <td>500.000000</td>\n      <td>NaN</td>\n      <td>2020.000000</td>\n    </tr>\n  </tbody>\n</table>\n</div>"
          },
          "metadata": {}
        }
      ]
    },
    {
      "cell_type": "code",
      "metadata": {
        "tags": [],
        "cell_id": "00009-685f8fcd-cff6-405d-b4b3-deec88fff3e2",
        "deepnote_to_be_reexecuted": false,
        "source_hash": "c8f6486b",
        "execution_millis": 114,
        "execution_start": 1615636550294,
        "deepnote_cell_type": "code"
      },
      "source": "snowdepth_df.info()",
      "execution_count": null,
      "outputs": [
        {
          "name": "stdout",
          "text": "<class 'pandas.core.frame.DataFrame'>\nRangeIndex: 3713 entries, 0 to 3712\nData columns (total 10 columns):\n #   Column       Non-Null Count  Dtype         \n---  ------       --------------  -----         \n 0   sn_region    3713 non-null   object        \n 1   sn_locality  3713 non-null   object        \n 2   sn_section   3713 non-null   object        \n 3   sn_site      3713 non-null   object        \n 4   sn_plot      3710 non-null   float64       \n 5   t_date       3713 non-null   datetime64[ns]\n 6   v_observer   333 non-null    object        \n 7   v_depth      3536 non-null   float64       \n 8   v_comment    336 non-null    object        \n 9   year         3713 non-null   int64         \ndtypes: datetime64[ns](1), float64(2), int64(1), object(6)\nmemory usage: 290.2+ KB\n",
          "output_type": "stream"
        }
      ]
    },
    {
      "cell_type": "code",
      "metadata": {
        "tags": [],
        "cell_id": "00019-2fca2183-5308-4730-a3d4-bb724040e304",
        "deepnote_to_be_reexecuted": false,
        "source_hash": "32bfc861",
        "execution_millis": 726,
        "execution_start": 1615636550790,
        "deepnote_cell_type": "code"
      },
      "source": "snowdepth_object_cols = ['sn_region', 'sn_locality', 'sn_section', 'v_observer']\n\n# Value Counts for each object column\nfig, axes = plt.subplots(2, 2, figsize=(28, 18))\nfig.suptitle('Snowdepth DF Column Distribution')\n\nrow = 0\ncol = 0\nfor i, column in enumerate(snowdepth_object_cols):\n\n    sns.countplot(ax=axes[row, col], data=snowdepth_df, x=column)\n    if (i+1) % 2 == 0:\n        row += 1\n        col=0\n    else:\n        col+=1",
      "execution_count": null,
      "outputs": [
        {
          "data": {
            "text/plain": "<Figure size 2016x1296 with 4 Axes>",
            "image/png": "[encoded data removed]"
          },
          "metadata": {
            "needs_background": "light"
          },
          "output_type": "display_data"
        }
      ]
    },
    {
      "cell_type": "code",
      "metadata": {
        "tags": [],
        "cell_id": "00022-2f0f8f7e-bdd4-475e-a122-22905de39dce",
        "deepnote_to_be_reexecuted": false,
        "source_hash": "3815947f",
        "execution_start": 1615649014643,
        "execution_millis": 6,
        "deepnote_cell_type": "code"
      },
      "source": "snowdepth_df['sn_plot'].value_counts()",
      "execution_count": null,
      "outputs": [
        {
          "output_type": "execute_result",
          "execution_count": 29,
          "data": {
            "text/plain": " 0.0     742\n-10.0    742\n 5.0     742\n 10.0    742\n-5.0     742\nName: sn_plot, dtype: int64"
          },
          "metadata": {}
        }
      ]
    },
    {
      "cell_type": "code",
      "metadata": {
        "tags": [],
        "cell_id": "00021-11cee0f1-916f-4afc-a58e-1ba5da96ae6f",
        "deepnote_to_be_reexecuted": false,
        "source_hash": "703e621a",
        "execution_start": 1615648743054,
        "execution_millis": 1,
        "deepnote_cell_type": "code"
      },
      "source": "snowdepth_df.isna().sum()",
      "execution_count": null,
      "outputs": [
        {
          "output_type": "execute_result",
          "execution_count": 25,
          "data": {
            "text/plain": "sn_region         0\nsn_locality       0\nsn_section        0\nsn_site           0\nsn_plot           3\nt_date            0\nv_observer     3380\nv_depth         177\nv_comment      3377\nyear              0\ndtype: int64"
          },
          "metadata": {}
        }
      ]
    },
    {
      "cell_type": "code",
      "metadata": {
        "tags": [],
        "cell_id": "00020-c6721288-7352-4fc7-b723-37f16e926fc2",
        "deepnote_to_be_reexecuted": false,
        "source_hash": "d60b7d3d",
        "execution_millis": 6,
        "execution_start": 1615636551518,
        "deepnote_cell_type": "code"
      },
      "source": "snowdepth_df['v_comment'].value_counts()",
      "execution_count": null,
      "outputs": [
        {
          "output_type": "execute_result",
          "execution_count": 16,
          "data": {
            "text/plain": "snow was too hard                                                                                                        117\nminimum depth                                                                                                             51\ndistance measured with steps because of strong wind                                                                       40\navalanche risk                                                                                                            27\nunsure what is below and what is above becuase of bad visibility; distance measured with steps because of strong wind     15\nmore than 350 cm                                                                                                          14\npoint (15 m from the boks)                                                                                                 6\navalance risk                                                                                                              5\nbad weather                                                                                                                5\ndistance measured with steps because of strong wind; minimum depth                                                         5\nlemming tracks crossed snowbed                                                                                             4\n10 m in the opposite direction                                                                                             4\n5 m in the opposite direction                                                                                              4\nsnow structure data available                                                                                              4\ncould not get through                                                                                                      3\nvery hard layer at ca. 1-1.5 m                                                                                             3\nVery hard snow, uncertain whether we reached the bottom                                                                    2\n10 m to the north of the point                                                                                             2\n5 m to the south of the point                                                                                              1\n5 m towards 198 degrees                                                                                                    1\n10 m towards 210 degrees                                                                                                   1\nsee attached figure IA18_2016.pdf                                                                                          1\n10 m towards 230 degrees                                                                                                   1\n10 m towards N                                                                                                             1\nsnowprofil: 2 cm large grains ca 8 cm above ground                                                                         1\n10 m the other direction                                                                                                   1\n10 m towards 200 degrees                                                                                                   1\n10 m to the south of the point                                                                                             1\n5 m towards 240 degrees                                                                                                    1\n5 m towards S                                                                                                              1\nhit stone                                                                                                                  1\nmore than 400 cm                                                                                                           1\n5 m towards 230 degrees                                                                                                    1\n5 m towards 210 degrees                                                                                                    1\nbig cornice below snowbeds                                                                                                 1\npossibly measured at the wrong point. First point 10 m towards 198 degrees                                                 1\n5 m towards N                                                                                                              1\n10 m towards S                                                                                                             1\n5 m towards 200 degrees                                                                                                    1\nplot 10 is on a cliff, measurement taken 5m to the side from plot 5                                                        1\n5 m the other direction                                                                                                    1\n10 m towards 240 degrees                                                                                                   1\nsnowdepth measured in strange angle                                                                                        1\nName: v_comment, dtype: int64"
          },
          "metadata": {}
        }
      ]
    },
    {
      "cell_type": "code",
      "metadata": {
        "tags": [],
        "cell_id": "00022-1ce3ab8b-f012-4b0c-bac6-d1366f638f13",
        "deepnote_to_be_reexecuted": false,
        "source_hash": "bc2b1116",
        "execution_start": 1615634708340,
        "execution_millis": 1,
        "deepnote_cell_type": "code"
      },
      "source": "# snowdepth_df = pd.merge(snowdepth_df, coord_df, on=\"sn_site\", how=\"left\", validate = \"many_to_one\")\n# snowdepth_df.head()",
      "execution_count": null,
      "outputs": []
    },
    {
      "cell_type": "code",
      "metadata": {
        "tags": [],
        "cell_id": "00012-7c256f8f-0b10-4cc5-8350-c8951a6fb87f",
        "deepnote_to_be_reexecuted": false,
        "source_hash": "5017d81f",
        "execution_millis": 49,
        "execution_start": 1615637056231,
        "deepnote_cell_type": "code"
      },
      "source": "# aggregate plots by station\ngroupcols = [\"sn_region\",\"sn_locality\",\"sn_section\",\"sn_site\",\"year\"] \nsnowdepth_by_locality_df = snowdepth_df.groupby(groupcols)[\"v_depth\"].mean().reset_index()\n\n# aggregate plots by sn_locality\ngroupcols = [\"sn_region\", \"sn_locality\",\"year\"]\nsnowdepth_by_locality_df = snowdepth_by_locality_df.groupby(groupcols)[\"v_depth\"].mean().reset_index()\n\nsnowdepth_by_locality_df",
      "execution_count": null,
      "outputs": [
        {
          "output_type": "execute_result",
          "execution_count": 21,
          "data": {
            "application/vnd.deepnote.dataframe.v2+json": {
              "row_count": 25,
              "column_count": 4,
              "columns": [
                {
                  "name": "sn_region",
                  "dtype": "object",
                  "stats": {
                    "unique_count": 1,
                    "nan_count": 0,
                    "categories": [
                      {
                        "name": "varanger",
                        "count": 25
                      }
                    ]
                  }
                },
                {
                  "name": "sn_locality",
                  "dtype": "object",
                  "stats": {
                    "unique_count": 3,
                    "nan_count": 0,
                    "categories": [
                      {
                        "name": "komagdalen",
                        "count": 10
                      },
                      {
                        "name": "vestre_jakobselv",
                        "count": 9
                      },
                      {
                        "name": "ifjordfjellet",
                        "count": 6
                      }
                    ]
                  }
                },
                {
                  "name": "year",
                  "dtype": "int64",
                  "stats": {
                    "unique_count": 10,
                    "nan_count": 0,
                    "min": 2011,
                    "max": 2020,
                    "histogram": [
                      {
                        "bin_start": 2011,
                        "bin_end": 2011.9,
                        "count": 3
                      },
                      {
                        "bin_start": 2011.9,
                        "bin_end": 2012.8,
                        "count": 3
                      },
                      {
                        "bin_start": 2012.8,
                        "bin_end": 2013.7,
                        "count": 3
                      },
                      {
                        "bin_start": 2013.7,
                        "bin_end": 2014.6,
                        "count": 3
                      },
                      {
                        "bin_start": 2014.6,
                        "bin_end": 2015.5,
                        "count": 3
                      },
                      {
                        "bin_start": 2015.5,
                        "bin_end": 2016.4,
                        "count": 3
                      },
                      {
                        "bin_start": 2016.4,
                        "bin_end": 2017.3,
                        "count": 2
                      },
                      {
                        "bin_start": 2017.3,
                        "bin_end": 2018.2,
                        "count": 2
                      },
                      {
                        "bin_start": 2018.2,
                        "bin_end": 2019.1,
                        "count": 2
                      },
                      {
                        "bin_start": 2019.1,
                        "bin_end": 2020,
                        "count": 1
                      }
                    ]
                  }
                },
                {
                  "name": "v_depth",
                  "dtype": "float64",
                  "stats": {
                    "unique_count": 25,
                    "nan_count": 0,
                    "min": 108.22,
                    "max": 299.22222222222223,
                    "histogram": [
                      {
                        "bin_start": 108.22,
                        "bin_end": 127.32022222222221,
                        "count": 1
                      },
                      {
                        "bin_start": 127.32022222222221,
                        "bin_end": 146.42044444444446,
                        "count": 4
                      },
                      {
                        "bin_start": 146.42044444444446,
                        "bin_end": 165.52066666666667,
                        "count": 4
                      },
                      {
                        "bin_start": 165.52066666666667,
                        "bin_end": 184.62088888888889,
                        "count": 3
                      },
                      {
                        "bin_start": 184.62088888888889,
                        "bin_end": 203.7211111111111,
                        "count": 3
                      },
                      {
                        "bin_start": 203.7211111111111,
                        "bin_end": 222.8213333333333,
                        "count": 5
                      },
                      {
                        "bin_start": 222.8213333333333,
                        "bin_end": 241.92155555555556,
                        "count": 3
                      },
                      {
                        "bin_start": 241.92155555555556,
                        "bin_end": 261.02177777777774,
                        "count": 0
                      },
                      {
                        "bin_start": 261.02177777777774,
                        "bin_end": 280.12199999999996,
                        "count": 1
                      },
                      {
                        "bin_start": 280.12199999999996,
                        "bin_end": 299.22222222222223,
                        "count": 1
                      }
                    ]
                  }
                },
                {
                  "name": "_deepnote_index_column",
                  "dtype": "int64"
                }
              ],
              "rows_top": [
                {
                  "sn_region": "varanger",
                  "sn_locality": "ifjordfjellet",
                  "year": 2011,
                  "v_depth": 200.1677419354839,
                  "_deepnote_index_column": 0
                },
                {
                  "sn_region": "varanger",
                  "sn_locality": "ifjordfjellet",
                  "year": 2012,
                  "v_depth": 138.6776315789473,
                  "_deepnote_index_column": 1
                },
                {
                  "sn_region": "varanger",
                  "sn_locality": "ifjordfjellet",
                  "year": 2013,
                  "v_depth": 238.63636363636363,
                  "_deepnote_index_column": 2
                },
                {
                  "sn_region": "varanger",
                  "sn_locality": "ifjordfjellet",
                  "year": 2014,
                  "v_depth": 204.47368421052633,
                  "_deepnote_index_column": 3
                },
                {
                  "sn_region": "varanger",
                  "sn_locality": "ifjordfjellet",
                  "year": 2015,
                  "v_depth": 108.22,
                  "_deepnote_index_column": 4
                },
                {
                  "sn_region": "varanger",
                  "sn_locality": "ifjordfjellet",
                  "year": 2016,
                  "v_depth": 166.22000000000003,
                  "_deepnote_index_column": 5
                },
                {
                  "sn_region": "varanger",
                  "sn_locality": "komagdalen",
                  "year": 2011,
                  "v_depth": 180.66315789473686,
                  "_deepnote_index_column": 6
                },
                {
                  "sn_region": "varanger",
                  "sn_locality": "komagdalen",
                  "year": 2012,
                  "v_depth": 137.30769230769232,
                  "_deepnote_index_column": 7
                },
                {
                  "sn_region": "varanger",
                  "sn_locality": "komagdalen",
                  "year": 2013,
                  "v_depth": 210.76923076923077,
                  "_deepnote_index_column": 8
                },
                {
                  "sn_region": "varanger",
                  "sn_locality": "komagdalen",
                  "year": 2014,
                  "v_depth": 212.05263157894737,
                  "_deepnote_index_column": 9
                },
                {
                  "sn_region": "varanger",
                  "sn_locality": "komagdalen",
                  "year": 2015,
                  "v_depth": 137.1578947368421,
                  "_deepnote_index_column": 10
                },
                {
                  "sn_region": "varanger",
                  "sn_locality": "komagdalen",
                  "year": 2016,
                  "v_depth": 137.88421052631577,
                  "_deepnote_index_column": 11
                },
                {
                  "sn_region": "varanger",
                  "sn_locality": "komagdalen",
                  "year": 2017,
                  "v_depth": 203.35789473684213,
                  "_deepnote_index_column": 12
                },
                {
                  "sn_region": "varanger",
                  "sn_locality": "komagdalen",
                  "year": 2018,
                  "v_depth": 159.54736842105262,
                  "_deepnote_index_column": 13
                },
                {
                  "sn_region": "varanger",
                  "sn_locality": "komagdalen",
                  "year": 2019,
                  "v_depth": 153.17894736842106,
                  "_deepnote_index_column": 14
                },
                {
                  "sn_region": "varanger",
                  "sn_locality": "komagdalen",
                  "year": 2020,
                  "v_depth": 164.70666666666668,
                  "_deepnote_index_column": 15
                },
                {
                  "sn_region": "varanger",
                  "sn_locality": "vestre_jakobselv",
                  "year": 2011,
                  "v_depth": 241.83333333333334,
                  "_deepnote_index_column": 16
                },
                {
                  "sn_region": "varanger",
                  "sn_locality": "vestre_jakobselv",
                  "year": 2012,
                  "v_depth": 205.37735849056602,
                  "_deepnote_index_column": 17
                },
                {
                  "sn_region": "varanger",
                  "sn_locality": "vestre_jakobselv",
                  "year": 2013,
                  "v_depth": 264.9583333333333,
                  "_deepnote_index_column": 18
                },
                {
                  "sn_region": "varanger",
                  "sn_locality": "vestre_jakobselv",
                  "year": 2014,
                  "v_depth": 230.88888888888889,
                  "_deepnote_index_column": 19
                },
                {
                  "sn_region": "varanger",
                  "sn_locality": "vestre_jakobselv",
                  "year": 2015,
                  "v_depth": 219.07692307692307,
                  "_deepnote_index_column": 20
                },
                {
                  "sn_region": "varanger",
                  "sn_locality": "vestre_jakobselv",
                  "year": 2016,
                  "v_depth": 185.54074074074074,
                  "_deepnote_index_column": 21
                },
                {
                  "sn_region": "varanger",
                  "sn_locality": "vestre_jakobselv",
                  "year": 2017,
                  "v_depth": 299.22222222222223,
                  "_deepnote_index_column": 22
                },
                {
                  "sn_region": "varanger",
                  "sn_locality": "vestre_jakobselv",
                  "year": 2018,
                  "v_depth": 147.7037037037037,
                  "_deepnote_index_column": 23
                },
                {
                  "sn_region": "varanger",
                  "sn_locality": "vestre_jakobselv",
                  "year": 2019,
                  "v_depth": 169.4,
                  "_deepnote_index_column": 24
                }
              ],
              "rows_bottom": null
            },
            "text/plain": "   sn_region       sn_locality  year     v_depth\n0   varanger     ifjordfjellet  2011  200.167742\n1   varanger     ifjordfjellet  2012  138.677632\n2   varanger     ifjordfjellet  2013  238.636364\n3   varanger     ifjordfjellet  2014  204.473684\n4   varanger     ifjordfjellet  2015  108.220000\n5   varanger     ifjordfjellet  2016  166.220000\n6   varanger        komagdalen  2011  180.663158\n7   varanger        komagdalen  2012  137.307692\n8   varanger        komagdalen  2013  210.769231\n9   varanger        komagdalen  2014  212.052632\n10  varanger        komagdalen  2015  137.157895\n11  varanger        komagdalen  2016  137.884211\n12  varanger        komagdalen  2017  203.357895\n13  varanger        komagdalen  2018  159.547368\n14  varanger        komagdalen  2019  153.178947\n15  varanger        komagdalen  2020  164.706667\n16  varanger  vestre_jakobselv  2011  241.833333\n17  varanger  vestre_jakobselv  2012  205.377358\n18  varanger  vestre_jakobselv  2013  264.958333\n19  varanger  vestre_jakobselv  2014  230.888889\n20  varanger  vestre_jakobselv  2015  219.076923\n21  varanger  vestre_jakobselv  2016  185.540741\n22  varanger  vestre_jakobselv  2017  299.222222\n23  varanger  vestre_jakobselv  2018  147.703704\n24  varanger  vestre_jakobselv  2019  169.400000",
            "text/html": "<div>\n<style scoped>\n    .dataframe tbody tr th:only-of-type {\n        vertical-align: middle;\n    }\n\n    .dataframe tbody tr th {\n        vertical-align: top;\n    }\n\n    .dataframe thead th {\n        text-align: right;\n    }\n</style>\n<table border=\"1\" class=\"dataframe\">\n  <thead>\n    <tr style=\"text-align: right;\">\n      <th></th>\n      <th>sn_region</th>\n      <th>sn_locality</th>\n      <th>year</th>\n      <th>v_depth</th>\n    </tr>\n  </thead>\n  <tbody>\n    <tr>\n      <th>0</th>\n      <td>varanger</td>\n      <td>ifjordfjellet</td>\n      <td>2011</td>\n      <td>200.167742</td>\n    </tr>\n    <tr>\n      <th>1</th>\n      <td>varanger</td>\n      <td>ifjordfjellet</td>\n      <td>2012</td>\n      <td>138.677632</td>\n    </tr>\n    <tr>\n      <th>2</th>\n      <td>varanger</td>\n      <td>ifjordfjellet</td>\n      <td>2013</td>\n      <td>238.636364</td>\n    </tr>\n    <tr>\n      <th>3</th>\n      <td>varanger</td>\n      <td>ifjordfjellet</td>\n      <td>2014</td>\n      <td>204.473684</td>\n    </tr>\n    <tr>\n      <th>4</th>\n      <td>varanger</td>\n      <td>ifjordfjellet</td>\n      <td>2015</td>\n      <td>108.220000</td>\n    </tr>\n    <tr>\n      <th>5</th>\n      <td>varanger</td>\n      <td>ifjordfjellet</td>\n      <td>2016</td>\n      <td>166.220000</td>\n    </tr>\n    <tr>\n      <th>6</th>\n      <td>varanger</td>\n      <td>komagdalen</td>\n      <td>2011</td>\n      <td>180.663158</td>\n    </tr>\n    <tr>\n      <th>7</th>\n      <td>varanger</td>\n      <td>komagdalen</td>\n      <td>2012</td>\n      <td>137.307692</td>\n    </tr>\n    <tr>\n      <th>8</th>\n      <td>varanger</td>\n      <td>komagdalen</td>\n      <td>2013</td>\n      <td>210.769231</td>\n    </tr>\n    <tr>\n      <th>9</th>\n      <td>varanger</td>\n      <td>komagdalen</td>\n      <td>2014</td>\n      <td>212.052632</td>\n    </tr>\n    <tr>\n      <th>10</th>\n      <td>varanger</td>\n      <td>komagdalen</td>\n      <td>2015</td>\n      <td>137.157895</td>\n    </tr>\n    <tr>\n      <th>11</th>\n      <td>varanger</td>\n      <td>komagdalen</td>\n      <td>2016</td>\n      <td>137.884211</td>\n    </tr>\n    <tr>\n      <th>12</th>\n      <td>varanger</td>\n      <td>komagdalen</td>\n      <td>2017</td>\n      <td>203.357895</td>\n    </tr>\n    <tr>\n      <th>13</th>\n      <td>varanger</td>\n      <td>komagdalen</td>\n      <td>2018</td>\n      <td>159.547368</td>\n    </tr>\n    <tr>\n      <th>14</th>\n      <td>varanger</td>\n      <td>komagdalen</td>\n      <td>2019</td>\n      <td>153.178947</td>\n    </tr>\n    <tr>\n      <th>15</th>\n      <td>varanger</td>\n      <td>komagdalen</td>\n      <td>2020</td>\n      <td>164.706667</td>\n    </tr>\n    <tr>\n      <th>16</th>\n      <td>varanger</td>\n      <td>vestre_jakobselv</td>\n      <td>2011</td>\n      <td>241.833333</td>\n    </tr>\n    <tr>\n      <th>17</th>\n      <td>varanger</td>\n      <td>vestre_jakobselv</td>\n      <td>2012</td>\n      <td>205.377358</td>\n    </tr>\n    <tr>\n      <th>18</th>\n      <td>varanger</td>\n      <td>vestre_jakobselv</td>\n      <td>2013</td>\n      <td>264.958333</td>\n    </tr>\n    <tr>\n      <th>19</th>\n      <td>varanger</td>\n      <td>vestre_jakobselv</td>\n      <td>2014</td>\n      <td>230.888889</td>\n    </tr>\n    <tr>\n      <th>20</th>\n      <td>varanger</td>\n      <td>vestre_jakobselv</td>\n      <td>2015</td>\n      <td>219.076923</td>\n    </tr>\n    <tr>\n      <th>21</th>\n      <td>varanger</td>\n      <td>vestre_jakobselv</td>\n      <td>2016</td>\n      <td>185.540741</td>\n    </tr>\n    <tr>\n      <th>22</th>\n      <td>varanger</td>\n      <td>vestre_jakobselv</td>\n      <td>2017</td>\n      <td>299.222222</td>\n    </tr>\n    <tr>\n      <th>23</th>\n      <td>varanger</td>\n      <td>vestre_jakobselv</td>\n      <td>2018</td>\n      <td>147.703704</td>\n    </tr>\n    <tr>\n      <th>24</th>\n      <td>varanger</td>\n      <td>vestre_jakobselv</td>\n      <td>2019</td>\n      <td>169.400000</td>\n    </tr>\n  </tbody>\n</table>\n</div>"
          },
          "metadata": {}
        }
      ]
    },
    {
      "cell_type": "code",
      "metadata": {
        "tags": [],
        "cell_id": "00023-6ae8cd18-1779-467a-a499-67bdf80a8a65",
        "deepnote_to_be_reexecuted": false,
        "source_hash": "1e9f2fdf",
        "execution_millis": 319,
        "execution_start": 1615637061568,
        "deepnote_cell_type": "code"
      },
      "source": "fig,  ax = plt.subplots(figsize = (10,6))\nsns.lineplot(x = \"year\", y = \"v_depth\", hue = \"sn_locality\", data = snowdepth_by_locality_df, \n                ax = ax, estimator = np.mean)\nplt.show()",
      "execution_count": null,
      "outputs": [
        {
          "data": {
            "text/plain": "<Figure size 720x432 with 1 Axes>",
            "image/png": "[encoded data removed]"
          },
          "metadata": {
            "needs_background": "light"
          },
          "output_type": "display_data"
        }
      ]
    },
    {
      "cell_type": "code",
      "metadata": {
        "tags": [],
        "cell_id": "00024-2bd81745-a4ad-4faf-92b9-7be6f5a9d04d",
        "deepnote_cell_type": "code"
      },
      "source": "",
      "execution_count": null,
      "outputs": []
    },
    {
      "cell_type": "markdown",
      "source": "Data Viz",
      "metadata": {
        "tags": [],
        "cell_id": "00014-39577a1c-ed97-4830-b6e4-24b24fd48cdb",
        "deepnote_cell_type": "markdown"
      }
    },
    {
      "cell_type": "code",
      "metadata": {
        "tags": [],
        "cell_id": "00015-ade9208d-8d23-42f9-ae5c-9edec2cb14a1",
        "deepnote_to_be_reexecuted": false,
        "source_hash": "2da54eaa",
        "execution_millis": 289,
        "execution_start": 1615631379265,
        "deepnote_cell_type": "code"
      },
      "source": "snowdepth_df[\"v_depth\"].hist(bins = 80)\nplt.show()",
      "execution_count": null,
      "outputs": [
        {
          "data": {
            "text/plain": "<Figure size 432x288 with 1 Axes>",
            "image/png": "[encoded data removed]"
          },
          "metadata": {
            "needs_background": "light"
          },
          "output_type": "display_data"
        }
      ]
    },
    {
      "cell_type": "code",
      "metadata": {
        "tags": [],
        "cell_id": "00016-7887da78-60b9-47ae-af82-74bf93b0e322",
        "deepnote_to_be_reexecuted": false,
        "source_hash": "29abb6c8",
        "execution_millis": 347,
        "output_cleared": false,
        "execution_start": 1615631379550,
        "deepnote_cell_type": "code"
      },
      "source": "sns.barplot(x=\"v_depth\", y=\"sn_section\", data=snowdepth_df)",
      "execution_count": null,
      "outputs": [
        {
          "output_type": "execute_result",
          "execution_count": 16,
          "data": {
            "text/plain": "<AxesSubplot:xlabel='v_depth', ylabel='sn_section'>"
          },
          "metadata": {}
        },
        {
          "data": {
            "text/plain": "<Figure size 432x288 with 1 Axes>",
            "image/png": "[encoded data removed]"
          },
          "metadata": {
            "needs_background": "light"
          },
          "output_type": "display_data"
        }
      ]
    },
    {
      "cell_type": "code",
      "metadata": {
        "tags": [],
        "cell_id": "00015-2611e342-0940-4231-af22-3ba2f014a781",
        "deepnote_to_be_reexecuted": false,
        "source_hash": "99fd79be",
        "execution_millis": 1464,
        "execution_start": 1615631379906,
        "deepnote_cell_type": "code"
      },
      "source": "fig,  ax = plt.subplots(figsize = (10,6))\nsns.lineplot(x = \"t_date\", y = \"v_depth\", hue = \"sn_locality\", data = snowdepth_df, ax = ax,\n                estimator = np.mean)\nplt.show()",
      "execution_count": null,
      "outputs": [
        {
          "data": {
            "text/plain": "<Figure size 720x432 with 1 Axes>",
            "image/png": "[encoded data removed]"
          },
          "metadata": {
            "needs_background": "light"
          },
          "output_type": "display_data"
        }
      ]
    },
    {
      "cell_type": "code",
      "metadata": {
        "tags": [],
        "cell_id": "00012-ba6190bb-673b-44c8-aa66-6d95869e5504",
        "deepnote_to_be_reexecuted": false,
        "source_hash": "30e6c71",
        "execution_millis": 9,
        "execution_start": 1615631381363,
        "deepnote_cell_type": "code"
      },
      "source": "snowdepth_df.head()",
      "execution_count": null,
      "outputs": [
        {
          "name": "stderr",
          "text": "/shared-libs/python3.7/py/lib/python3.7/site-packages/numpy/lib/histograms.py:822: RuntimeWarning: divide by zero encountered in double_scalars\n  norm = n_equal_bins / _unsigned_subtract(last_edge, first_edge)\n/shared-libs/python3.7/py/lib/python3.7/site-packages/numpy/lib/histograms.py:850: RuntimeWarning: invalid value encountered in multiply\n  f_indices = _unsigned_subtract(tmp_a, first_edge) * norm\n",
          "output_type": "stream"
        },
        {
          "output_type": "execute_result",
          "execution_count": 18,
          "data": {
            "application/vnd.deepnote.dataframe.v2+json": {
              "row_count": 5,
              "column_count": 13,
              "columns": [
                {
                  "name": "sn_region",
                  "dtype": "object",
                  "stats": {
                    "unique_count": 1,
                    "nan_count": 0,
                    "categories": [
                      {
                        "name": "varanger",
                        "count": 5
                      }
                    ]
                  }
                },
                {
                  "name": "sn_locality",
                  "dtype": "object",
                  "stats": {
                    "unique_count": 1,
                    "nan_count": 0,
                    "categories": [
                      {
                        "name": "vestre_jakobselv",
                        "count": 5
                      }
                    ]
                  }
                },
                {
                  "name": "sn_section",
                  "dtype": "object",
                  "stats": {
                    "unique_count": 1,
                    "nan_count": 0,
                    "categories": [
                      {
                        "name": "bearalveaijohka",
                        "count": 5
                      }
                    ]
                  }
                },
                {
                  "name": "sn_site",
                  "dtype": "object",
                  "stats": {
                    "unique_count": 1,
                    "nan_count": 0,
                    "categories": [
                      {
                        "name": "vj_be_sn_1",
                        "count": 5
                      }
                    ]
                  }
                },
                {
                  "name": "sn_plot",
                  "dtype": "float64",
                  "stats": {
                    "unique_count": 5,
                    "nan_count": 0,
                    "min": -10,
                    "max": 10,
                    "histogram": [
                      {
                        "bin_start": -10,
                        "bin_end": -8,
                        "count": 1
                      },
                      {
                        "bin_start": -8,
                        "bin_end": -6,
                        "count": 0
                      },
                      {
                        "bin_start": -6,
                        "bin_end": -4,
                        "count": 1
                      },
                      {
                        "bin_start": -4,
                        "bin_end": -2,
                        "count": 0
                      },
                      {
                        "bin_start": -2,
                        "bin_end": 0,
                        "count": 0
                      },
                      {
                        "bin_start": 0,
                        "bin_end": 2,
                        "count": 1
                      },
                      {
                        "bin_start": 2,
                        "bin_end": 4,
                        "count": 0
                      },
                      {
                        "bin_start": 4,
                        "bin_end": 6,
                        "count": 1
                      },
                      {
                        "bin_start": 6,
                        "bin_end": 8,
                        "count": 0
                      },
                      {
                        "bin_start": 8,
                        "bin_end": 10,
                        "count": 1
                      }
                    ]
                  }
                },
                {
                  "name": "t_date",
                  "dtype": "datetime64[ns]",
                  "stats": {
                    "unique_count": 1,
                    "nan_count": 0,
                    "min": "2019-03-22T00:00:00.000000",
                    "max": "2019-03-22T00:00:00.000000",
                    "histogram": null
                  }
                },
                {
                  "name": "v_observer",
                  "dtype": "object",
                  "stats": {
                    "unique_count": 1,
                    "nan_count": 0,
                    "categories": [
                      {
                        "name": "ri_ny",
                        "count": 5
                      }
                    ]
                  }
                },
                {
                  "name": "v_depth",
                  "dtype": "float64",
                  "stats": {
                    "unique_count": 5,
                    "nan_count": 0,
                    "min": 20,
                    "max": 225,
                    "histogram": [
                      {
                        "bin_start": 20,
                        "bin_end": 40.5,
                        "count": 1
                      },
                      {
                        "bin_start": 40.5,
                        "bin_end": 61,
                        "count": 1
                      },
                      {
                        "bin_start": 61,
                        "bin_end": 81.5,
                        "count": 0
                      },
                      {
                        "bin_start": 81.5,
                        "bin_end": 102,
                        "count": 0
                      },
                      {
                        "bin_start": 102,
                        "bin_end": 122.5,
                        "count": 1
                      },
                      {
                        "bin_start": 122.5,
                        "bin_end": 143,
                        "count": 0
                      },
                      {
                        "bin_start": 143,
                        "bin_end": 163.5,
                        "count": 0
                      },
                      {
                        "bin_start": 163.5,
                        "bin_end": 184,
                        "count": 0
                      },
                      {
                        "bin_start": 184,
                        "bin_end": 204.5,
                        "count": 1
                      },
                      {
                        "bin_start": 204.5,
                        "bin_end": 225,
                        "count": 1
                      }
                    ]
                  }
                },
                {
                  "name": "v_comment",
                  "dtype": "object",
                  "stats": {
                    "unique_count": 0,
                    "nan_count": 5,
                    "categories": [
                      {
                        "name": "Missing",
                        "count": 5
                      }
                    ]
                  }
                },
                {
                  "name": "lon",
                  "dtype": "float64",
                  "stats": {
                    "unique_count": 1,
                    "nan_count": 0,
                    "min": 28.99978,
                    "max": 28.99978,
                    "histogram": [
                      {
                        "bin_start": 28.49978,
                        "bin_end": 28.599780000000003,
                        "count": 0
                      },
                      {
                        "bin_start": 28.599780000000003,
                        "bin_end": 28.69978,
                        "count": 0
                      },
                      {
                        "bin_start": 28.69978,
                        "bin_end": 28.799780000000002,
                        "count": 0
                      },
                      {
                        "bin_start": 28.799780000000002,
                        "bin_end": 28.89978,
                        "count": 0
                      },
                      {
                        "bin_start": 28.89978,
                        "bin_end": 28.99978,
                        "count": 0
                      },
                      {
                        "bin_start": 28.99978,
                        "bin_end": 29.099780000000003,
                        "count": 5
                      },
                      {
                        "bin_start": 29.099780000000003,
                        "bin_end": 29.19978,
                        "count": 0
                      },
                      {
                        "bin_start": 29.19978,
                        "bin_end": 29.299780000000002,
                        "count": 0
                      },
                      {
                        "bin_start": 29.299780000000002,
                        "bin_end": 29.39978,
                        "count": 0
                      },
                      {
                        "bin_start": 29.39978,
                        "bin_end": 29.49978,
                        "count": 0
                      }
                    ]
                  }
                },
                {
                  "name": "lat",
                  "dtype": "float64",
                  "stats": {
                    "unique_count": 1,
                    "nan_count": 0,
                    "min": 70.27966,
                    "max": 70.27966,
                    "histogram": [
                      {
                        "bin_start": 69.77966,
                        "bin_end": 69.87966,
                        "count": 0
                      },
                      {
                        "bin_start": 69.87966,
                        "bin_end": 69.97966000000001,
                        "count": 0
                      },
                      {
                        "bin_start": 69.97966000000001,
                        "bin_end": 70.07966,
                        "count": 0
                      },
                      {
                        "bin_start": 70.07966,
                        "bin_end": 70.17966000000001,
                        "count": 0
                      },
                      {
                        "bin_start": 70.17966000000001,
                        "bin_end": 70.27966,
                        "count": 0
                      },
                      {
                        "bin_start": 70.27966,
                        "bin_end": 70.37966,
                        "count": 5
                      },
                      {
                        "bin_start": 70.37966,
                        "bin_end": 70.47966000000001,
                        "count": 0
                      },
                      {
                        "bin_start": 70.47966000000001,
                        "bin_end": 70.57966,
                        "count": 0
                      },
                      {
                        "bin_start": 70.57966,
                        "bin_end": 70.67966000000001,
                        "count": 0
                      },
                      {
                        "bin_start": 70.67966000000001,
                        "bin_end": 70.77966,
                        "count": 0
                      }
                    ]
                  }
                },
                {
                  "name": "e_utm33",
                  "dtype": "float64",
                  "stats": {
                    "unique_count": 1,
                    "nan_count": 0,
                    "min": 1023156.1427638,
                    "max": 1023156.1427638,
                    "histogram": [
                      {
                        "bin_start": 1023155.6427638,
                        "bin_end": 1023155.7427638,
                        "count": 0
                      },
                      {
                        "bin_start": 1023155.7427638,
                        "bin_end": 1023155.8427637999,
                        "count": 0
                      },
                      {
                        "bin_start": 1023155.8427637999,
                        "bin_end": 1023155.9427638,
                        "count": 0
                      },
                      {
                        "bin_start": 1023155.9427638,
                        "bin_end": 1023156.0427638,
                        "count": 0
                      },
                      {
                        "bin_start": 1023156.0427638,
                        "bin_end": 1023156.1427638,
                        "count": 0
                      },
                      {
                        "bin_start": 1023156.1427638,
                        "bin_end": 1023156.2427638,
                        "count": 5
                      },
                      {
                        "bin_start": 1023156.2427638,
                        "bin_end": 1023156.3427637999,
                        "count": 0
                      },
                      {
                        "bin_start": 1023156.3427637999,
                        "bin_end": 1023156.4427638,
                        "count": 0
                      },
                      {
                        "bin_start": 1023156.4427638,
                        "bin_end": 1023156.5427638,
                        "count": 0
                      },
                      {
                        "bin_start": 1023156.5427638,
                        "bin_end": 1023156.6427638,
                        "count": 0
                      }
                    ]
                  }
                },
                {
                  "name": "n_utm33",
                  "dtype": "float64",
                  "stats": {
                    "unique_count": 1,
                    "nan_count": 0,
                    "min": 7857596.32093072,
                    "max": 7857596.32093072,
                    "histogram": [
                      {
                        "bin_start": 7857595.82093072,
                        "bin_end": 7857595.92093072,
                        "count": 0
                      },
                      {
                        "bin_start": 7857595.92093072,
                        "bin_end": 7857596.0209307205,
                        "count": 0
                      },
                      {
                        "bin_start": 7857596.0209307205,
                        "bin_end": 7857596.12093072,
                        "count": 0
                      },
                      {
                        "bin_start": 7857596.12093072,
                        "bin_end": 7857596.220930721,
                        "count": 0
                      },
                      {
                        "bin_start": 7857596.220930721,
                        "bin_end": 7857596.32093072,
                        "count": 0
                      },
                      {
                        "bin_start": 7857596.32093072,
                        "bin_end": 7857596.42093072,
                        "count": 5
                      },
                      {
                        "bin_start": 7857596.42093072,
                        "bin_end": 7857596.5209307205,
                        "count": 0
                      },
                      {
                        "bin_start": 7857596.5209307205,
                        "bin_end": 7857596.62093072,
                        "count": 0
                      },
                      {
                        "bin_start": 7857596.62093072,
                        "bin_end": 7857596.720930721,
                        "count": 0
                      },
                      {
                        "bin_start": 7857596.720930721,
                        "bin_end": 7857596.82093072,
                        "count": 0
                      }
                    ]
                  }
                },
                {
                  "name": "_deepnote_index_column",
                  "dtype": "int64"
                }
              ],
              "rows_top": [
                {
                  "sn_region": "varanger",
                  "sn_locality": "vestre_jakobselv",
                  "sn_section": "bearalveaijohka",
                  "sn_site": "vj_be_sn_1",
                  "sn_plot": -10,
                  "t_date": "2019-03-22T00:00:00.000000",
                  "v_observer": "ri_ny",
                  "v_depth": 20,
                  "v_comment": "nan",
                  "lon": 28.99978,
                  "lat": 70.27966,
                  "e_utm33": 1023156.1427638,
                  "n_utm33": 7857596.32093072,
                  "_deepnote_index_column": 0
                },
                {
                  "sn_region": "varanger",
                  "sn_locality": "vestre_jakobselv",
                  "sn_section": "bearalveaijohka",
                  "sn_site": "vj_be_sn_1",
                  "sn_plot": -5,
                  "t_date": "2019-03-22T00:00:00.000000",
                  "v_observer": "ri_ny",
                  "v_depth": 55,
                  "v_comment": "nan",
                  "lon": 28.99978,
                  "lat": 70.27966,
                  "e_utm33": 1023156.1427638,
                  "n_utm33": 7857596.32093072,
                  "_deepnote_index_column": 1
                },
                {
                  "sn_region": "varanger",
                  "sn_locality": "vestre_jakobselv",
                  "sn_section": "bearalveaijohka",
                  "sn_site": "vj_be_sn_1",
                  "sn_plot": 0,
                  "t_date": "2019-03-22T00:00:00.000000",
                  "v_observer": "ri_ny",
                  "v_depth": 110,
                  "v_comment": "nan",
                  "lon": 28.99978,
                  "lat": 70.27966,
                  "e_utm33": 1023156.1427638,
                  "n_utm33": 7857596.32093072,
                  "_deepnote_index_column": 2
                },
                {
                  "sn_region": "varanger",
                  "sn_locality": "vestre_jakobselv",
                  "sn_section": "bearalveaijohka",
                  "sn_site": "vj_be_sn_1",
                  "sn_plot": 5,
                  "t_date": "2019-03-22T00:00:00.000000",
                  "v_observer": "ri_ny",
                  "v_depth": 225,
                  "v_comment": "nan",
                  "lon": 28.99978,
                  "lat": 70.27966,
                  "e_utm33": 1023156.1427638,
                  "n_utm33": 7857596.32093072,
                  "_deepnote_index_column": 3
                },
                {
                  "sn_region": "varanger",
                  "sn_locality": "vestre_jakobselv",
                  "sn_section": "bearalveaijohka",
                  "sn_site": "vj_be_sn_1",
                  "sn_plot": 10,
                  "t_date": "2019-03-22T00:00:00.000000",
                  "v_observer": "ri_ny",
                  "v_depth": 200,
                  "v_comment": "nan",
                  "lon": 28.99978,
                  "lat": 70.27966,
                  "e_utm33": 1023156.1427638,
                  "n_utm33": 7857596.32093072,
                  "_deepnote_index_column": 4
                }
              ],
              "rows_bottom": null
            },
            "text/plain": "  sn_region       sn_locality       sn_section     sn_site  sn_plot  \\\n0  varanger  vestre_jakobselv  bearalveaijohka  vj_be_sn_1    -10.0   \n1  varanger  vestre_jakobselv  bearalveaijohka  vj_be_sn_1     -5.0   \n2  varanger  vestre_jakobselv  bearalveaijohka  vj_be_sn_1      0.0   \n3  varanger  vestre_jakobselv  bearalveaijohka  vj_be_sn_1      5.0   \n4  varanger  vestre_jakobselv  bearalveaijohka  vj_be_sn_1     10.0   \n\n      t_date v_observer  v_depth v_comment       lon       lat       e_utm33  \\\n0 2019-03-22      ri_ny     20.0       NaN  28.99978  70.27966  1.023156e+06   \n1 2019-03-22      ri_ny     55.0       NaN  28.99978  70.27966  1.023156e+06   \n2 2019-03-22      ri_ny    110.0       NaN  28.99978  70.27966  1.023156e+06   \n3 2019-03-22      ri_ny    225.0       NaN  28.99978  70.27966  1.023156e+06   \n4 2019-03-22      ri_ny    200.0       NaN  28.99978  70.27966  1.023156e+06   \n\n        n_utm33  \n0  7.857596e+06  \n1  7.857596e+06  \n2  7.857596e+06  \n3  7.857596e+06  \n4  7.857596e+06  ",
            "text/html": "<div>\n<style scoped>\n    .dataframe tbody tr th:only-of-type {\n        vertical-align: middle;\n    }\n\n    .dataframe tbody tr th {\n        vertical-align: top;\n    }\n\n    .dataframe thead th {\n        text-align: right;\n    }\n</style>\n<table border=\"1\" class=\"dataframe\">\n  <thead>\n    <tr style=\"text-align: right;\">\n      <th></th>\n      <th>sn_region</th>\n      <th>sn_locality</th>\n      <th>sn_section</th>\n      <th>sn_site</th>\n      <th>sn_plot</th>\n      <th>t_date</th>\n      <th>v_observer</th>\n      <th>v_depth</th>\n      <th>v_comment</th>\n      <th>lon</th>\n      <th>lat</th>\n      <th>e_utm33</th>\n      <th>n_utm33</th>\n    </tr>\n  </thead>\n  <tbody>\n    <tr>\n      <th>0</th>\n      <td>varanger</td>\n      <td>vestre_jakobselv</td>\n      <td>bearalveaijohka</td>\n      <td>vj_be_sn_1</td>\n      <td>-10.0</td>\n      <td>2019-03-22</td>\n      <td>ri_ny</td>\n      <td>20.0</td>\n      <td>NaN</td>\n      <td>28.99978</td>\n      <td>70.27966</td>\n      <td>1.023156e+06</td>\n      <td>7.857596e+06</td>\n    </tr>\n    <tr>\n      <th>1</th>\n      <td>varanger</td>\n      <td>vestre_jakobselv</td>\n      <td>bearalveaijohka</td>\n      <td>vj_be_sn_1</td>\n      <td>-5.0</td>\n      <td>2019-03-22</td>\n      <td>ri_ny</td>\n      <td>55.0</td>\n      <td>NaN</td>\n      <td>28.99978</td>\n      <td>70.27966</td>\n      <td>1.023156e+06</td>\n      <td>7.857596e+06</td>\n    </tr>\n    <tr>\n      <th>2</th>\n      <td>varanger</td>\n      <td>vestre_jakobselv</td>\n      <td>bearalveaijohka</td>\n      <td>vj_be_sn_1</td>\n      <td>0.0</td>\n      <td>2019-03-22</td>\n      <td>ri_ny</td>\n      <td>110.0</td>\n      <td>NaN</td>\n      <td>28.99978</td>\n      <td>70.27966</td>\n      <td>1.023156e+06</td>\n      <td>7.857596e+06</td>\n    </tr>\n    <tr>\n      <th>3</th>\n      <td>varanger</td>\n      <td>vestre_jakobselv</td>\n      <td>bearalveaijohka</td>\n      <td>vj_be_sn_1</td>\n      <td>5.0</td>\n      <td>2019-03-22</td>\n      <td>ri_ny</td>\n      <td>225.0</td>\n      <td>NaN</td>\n      <td>28.99978</td>\n      <td>70.27966</td>\n      <td>1.023156e+06</td>\n      <td>7.857596e+06</td>\n    </tr>\n    <tr>\n      <th>4</th>\n      <td>varanger</td>\n      <td>vestre_jakobselv</td>\n      <td>bearalveaijohka</td>\n      <td>vj_be_sn_1</td>\n      <td>10.0</td>\n      <td>2019-03-22</td>\n      <td>ri_ny</td>\n      <td>200.0</td>\n      <td>NaN</td>\n      <td>28.99978</td>\n      <td>70.27966</td>\n      <td>1.023156e+06</td>\n      <td>7.857596e+06</td>\n    </tr>\n  </tbody>\n</table>\n</div>"
          },
          "metadata": {}
        }
      ]
    },
    {
      "cell_type": "code",
      "metadata": {
        "tags": [],
        "cell_id": "00022-09af35d7-41e5-4e41-8f19-f68b2c4388c4",
        "deepnote_to_be_reexecuted": false,
        "source_hash": "26b31a1",
        "execution_millis": 63,
        "execution_start": 1615631381368,
        "deepnote_cell_type": "code"
      },
      "source": "snowdepth_df.loc[snowdepth_df[\"v_depth\"].isnull(),:]",
      "execution_count": null,
      "outputs": [
        {
          "output_type": "execute_result",
          "execution_count": 19,
          "data": {
            "application/vnd.deepnote.dataframe.v2+json": {
              "row_count": 177,
              "column_count": 13,
              "columns": [
                {
                  "name": "sn_region",
                  "dtype": "object",
                  "stats": {
                    "unique_count": 1,
                    "nan_count": 0,
                    "categories": [
                      {
                        "name": "varanger",
                        "count": 177
                      }
                    ]
                  }
                },
                {
                  "name": "sn_locality",
                  "dtype": "object",
                  "stats": {
                    "unique_count": 3,
                    "nan_count": 0,
                    "categories": [
                      {
                        "name": "vestre_jakobselv",
                        "count": 128
                      },
                      {
                        "name": "ifjordfjellet",
                        "count": 38
                      },
                      {
                        "name": "komagdalen",
                        "count": 11
                      }
                    ]
                  }
                },
                {
                  "name": "sn_section",
                  "dtype": "object",
                  "stats": {
                    "unique_count": 6,
                    "nan_count": 0,
                    "categories": [
                      {
                        "name": "bearalveaijohka",
                        "count": 127
                      },
                      {
                        "name": "eastordalen",
                        "count": 37
                      },
                      {
                        "name": "4 others",
                        "count": 13
                      }
                    ]
                  }
                },
                {
                  "name": "sn_site",
                  "dtype": "object",
                  "stats": {
                    "unique_count": 34,
                    "nan_count": 0,
                    "categories": [
                      {
                        "name": "if_ea_sn_3",
                        "count": 15
                      },
                      {
                        "name": "if_ea_sn_18",
                        "count": 12
                      },
                      {
                        "name": "32 others",
                        "count": 150
                      }
                    ]
                  }
                },
                {
                  "name": "sn_plot",
                  "dtype": "float64",
                  "stats": {
                    "unique_count": 5,
                    "nan_count": 0,
                    "min": -10,
                    "max": 10,
                    "histogram": [
                      {
                        "bin_start": -10,
                        "bin_end": -8,
                        "count": 36
                      },
                      {
                        "bin_start": -8,
                        "bin_end": -6,
                        "count": 0
                      },
                      {
                        "bin_start": -6,
                        "bin_end": -4,
                        "count": 35
                      },
                      {
                        "bin_start": -4,
                        "bin_end": -2,
                        "count": 0
                      },
                      {
                        "bin_start": -2,
                        "bin_end": 0,
                        "count": 0
                      },
                      {
                        "bin_start": 0,
                        "bin_end": 2,
                        "count": 35
                      },
                      {
                        "bin_start": 2,
                        "bin_end": 4,
                        "count": 0
                      },
                      {
                        "bin_start": 4,
                        "bin_end": 6,
                        "count": 35
                      },
                      {
                        "bin_start": 6,
                        "bin_end": 8,
                        "count": 0
                      },
                      {
                        "bin_start": 8,
                        "bin_end": 10,
                        "count": 36
                      }
                    ]
                  }
                },
                {
                  "name": "t_date",
                  "dtype": "datetime64[ns]",
                  "stats": {
                    "unique_count": 12,
                    "nan_count": 0,
                    "min": "2011-03-18T00:00:00.000000",
                    "max": "2018-03-16T00:00:00.000000",
                    "histogram": [
                      {
                        "bin_start": 1300406400000000000,
                        "bin_end": 1322481600000000000,
                        "count": 18
                      },
                      {
                        "bin_start": 1322481600000000000,
                        "bin_end": 1344556800000000000,
                        "count": 11
                      },
                      {
                        "bin_start": 1344556800000000000,
                        "bin_end": 1366632000000000000,
                        "count": 11
                      },
                      {
                        "bin_start": 1366632000000000000,
                        "bin_end": 1388707200000000000,
                        "count": 0
                      },
                      {
                        "bin_start": 1388707200000000000,
                        "bin_end": 1410782400000000000,
                        "count": 7
                      },
                      {
                        "bin_start": 1410782400000000000,
                        "bin_end": 1432857600000000000,
                        "count": 5
                      },
                      {
                        "bin_start": 1432857600000000000,
                        "bin_end": 1454932800000000000,
                        "count": 0
                      },
                      {
                        "bin_start": 1454932800000000000,
                        "bin_end": 1477008000000000000,
                        "count": 0
                      },
                      {
                        "bin_start": 1477008000000000000,
                        "bin_end": 1499083200000000000,
                        "count": 122
                      },
                      {
                        "bin_start": 1499083200000000000,
                        "bin_end": 1521158400000000000,
                        "count": 3
                      }
                    ]
                  }
                },
                {
                  "name": "v_observer",
                  "dtype": "object",
                  "stats": {
                    "unique_count": 0,
                    "nan_count": 177,
                    "categories": [
                      {
                        "name": "Missing",
                        "count": 177
                      }
                    ]
                  }
                },
                {
                  "name": "v_depth",
                  "dtype": "float64",
                  "stats": {
                    "unique_count": 0,
                    "nan_count": 177,
                    "min": null,
                    "max": null,
                    "histogram": [
                      {
                        "bin_start": 0,
                        "bin_end": 0.1,
                        "count": 0
                      },
                      {
                        "bin_start": 0.1,
                        "bin_end": 0.2,
                        "count": 0
                      },
                      {
                        "bin_start": 0.2,
                        "bin_end": 0.30000000000000004,
                        "count": 0
                      },
                      {
                        "bin_start": 0.30000000000000004,
                        "bin_end": 0.4,
                        "count": 0
                      },
                      {
                        "bin_start": 0.4,
                        "bin_end": 0.5,
                        "count": 0
                      },
                      {
                        "bin_start": 0.5,
                        "bin_end": 0.6000000000000001,
                        "count": 0
                      },
                      {
                        "bin_start": 0.6000000000000001,
                        "bin_end": 0.7000000000000001,
                        "count": 0
                      },
                      {
                        "bin_start": 0.7000000000000001,
                        "bin_end": 0.8,
                        "count": 0
                      },
                      {
                        "bin_start": 0.8,
                        "bin_end": 0.9,
                        "count": 0
                      },
                      {
                        "bin_start": 0.9,
                        "bin_end": 1,
                        "count": 0
                      }
                    ]
                  }
                },
                {
                  "name": "v_comment",
                  "dtype": "object",
                  "stats": {
                    "unique_count": 6,
                    "nan_count": 18,
                    "categories": [
                      {
                        "name": "snow was too hard",
                        "count": 117
                      },
                      {
                        "name": "5 others",
                        "count": 42
                      },
                      {
                        "name": "Missing",
                        "count": 18
                      }
                    ]
                  }
                },
                {
                  "name": "lon",
                  "dtype": "float64",
                  "stats": {
                    "unique_count": 34,
                    "nan_count": 0,
                    "min": 27.35785,
                    "max": 30.10458,
                    "histogram": [
                      {
                        "bin_start": 27.35785,
                        "bin_end": 27.632523,
                        "count": 38
                      },
                      {
                        "bin_start": 27.632523,
                        "bin_end": 27.907196,
                        "count": 0
                      },
                      {
                        "bin_start": 27.907196,
                        "bin_end": 28.181869,
                        "count": 0
                      },
                      {
                        "bin_start": 28.181869,
                        "bin_end": 28.456542,
                        "count": 0
                      },
                      {
                        "bin_start": 28.456542,
                        "bin_end": 28.731215,
                        "count": 0
                      },
                      {
                        "bin_start": 28.731215,
                        "bin_end": 29.005888,
                        "count": 112
                      },
                      {
                        "bin_start": 29.005888,
                        "bin_end": 29.280561,
                        "count": 16
                      },
                      {
                        "bin_start": 29.280561,
                        "bin_end": 29.555234,
                        "count": 0
                      },
                      {
                        "bin_start": 29.555234,
                        "bin_end": 29.829907,
                        "count": 3
                      },
                      {
                        "bin_start": 29.829907,
                        "bin_end": 30.10458,
                        "count": 8
                      }
                    ]
                  }
                },
                {
                  "name": "lat",
                  "dtype": "float64",
                  "stats": {
                    "unique_count": 34,
                    "nan_count": 0,
                    "min": 70.28095,
                    "max": 70.42369,
                    "histogram": [
                      {
                        "bin_start": 70.28095,
                        "bin_end": 70.295224,
                        "count": 75
                      },
                      {
                        "bin_start": 70.295224,
                        "bin_end": 70.309498,
                        "count": 53
                      },
                      {
                        "bin_start": 70.309498,
                        "bin_end": 70.323772,
                        "count": 0
                      },
                      {
                        "bin_start": 70.323772,
                        "bin_end": 70.338046,
                        "count": 8
                      },
                      {
                        "bin_start": 70.338046,
                        "bin_end": 70.35231999999999,
                        "count": 3
                      },
                      {
                        "bin_start": 70.35231999999999,
                        "bin_end": 70.36659399999999,
                        "count": 0
                      },
                      {
                        "bin_start": 70.36659399999999,
                        "bin_end": 70.38086799999999,
                        "count": 0
                      },
                      {
                        "bin_start": 70.38086799999999,
                        "bin_end": 70.39514199999999,
                        "count": 0
                      },
                      {
                        "bin_start": 70.39514199999999,
                        "bin_end": 70.409416,
                        "count": 13
                      },
                      {
                        "bin_start": 70.409416,
                        "bin_end": 70.42369,
                        "count": 25
                      }
                    ]
                  }
                },
                {
                  "name": "e_utm33",
                  "dtype": "float64",
                  "stats": {
                    "unique_count": 34,
                    "nan_count": 0,
                    "min": 959339.46624029,
                    "max": 1062338.50819927,
                    "histogram": [
                      {
                        "bin_start": 959339.46624029,
                        "bin_end": 969639.370436188,
                        "count": 38
                      },
                      {
                        "bin_start": 969639.370436188,
                        "bin_end": 979939.274632086,
                        "count": 0
                      },
                      {
                        "bin_start": 979939.274632086,
                        "bin_end": 990239.178827984,
                        "count": 0
                      },
                      {
                        "bin_start": 990239.178827984,
                        "bin_end": 1000539.083023882,
                        "count": 0
                      },
                      {
                        "bin_start": 1000539.083023882,
                        "bin_end": 1010838.98721978,
                        "count": 0
                      },
                      {
                        "bin_start": 1010838.98721978,
                        "bin_end": 1021138.8914156781,
                        "count": 22
                      },
                      {
                        "bin_start": 1021138.8914156781,
                        "bin_end": 1031438.7956115761,
                        "count": 106
                      },
                      {
                        "bin_start": 1031438.7956115761,
                        "bin_end": 1041738.699807474,
                        "count": 0
                      },
                      {
                        "bin_start": 1041738.699807474,
                        "bin_end": 1052038.6040033721,
                        "count": 3
                      },
                      {
                        "bin_start": 1052038.6040033721,
                        "bin_end": 1062338.50819927,
                        "count": 8
                      }
                    ]
                  }
                },
                {
                  "name": "n_utm33",
                  "dtype": "float64",
                  "stats": {
                    "unique_count": 34,
                    "nan_count": 0,
                    "min": 7857684.5841403,
                    "max": 7872939.16547566,
                    "histogram": [
                      {
                        "bin_start": 7857684.5841403,
                        "bin_end": 7859210.042273836,
                        "count": 93
                      },
                      {
                        "bin_start": 7859210.042273836,
                        "bin_end": 7860735.500407372,
                        "count": 72
                      },
                      {
                        "bin_start": 7860735.500407372,
                        "bin_end": 7862260.958540908,
                        "count": 1
                      },
                      {
                        "bin_start": 7862260.958540908,
                        "bin_end": 7863786.4166744435,
                        "count": 0
                      },
                      {
                        "bin_start": 7863786.4166744435,
                        "bin_end": 7865311.87480798,
                        "count": 0
                      },
                      {
                        "bin_start": 7865311.87480798,
                        "bin_end": 7866837.332941516,
                        "count": 0
                      },
                      {
                        "bin_start": 7866837.332941516,
                        "bin_end": 7868362.791075052,
                        "count": 0
                      },
                      {
                        "bin_start": 7868362.791075052,
                        "bin_end": 7869888.249208588,
                        "count": 0
                      },
                      {
                        "bin_start": 7869888.249208588,
                        "bin_end": 7871413.707342124,
                        "count": 3
                      },
                      {
                        "bin_start": 7871413.707342124,
                        "bin_end": 7872939.16547566,
                        "count": 8
                      }
                    ]
                  }
                },
                {
                  "name": "_deepnote_index_column",
                  "dtype": "int64"
                }
              ],
              "rows_top": [
                {
                  "sn_region": "varanger",
                  "sn_locality": "komagdalen",
                  "sn_section": "kjoltindan",
                  "sn_site": "ko_kj_sn_9",
                  "sn_plot": 10,
                  "t_date": "2018-03-16T00:00:00.000000",
                  "v_observer": "nan",
                  "v_depth": "nan",
                  "v_comment": "could not get through",
                  "lon": 29.80519,
                  "lat": 70.34033,
                  "e_utm33": 1051102.35454836,
                  "n_utm33": 7871338.83404479,
                  "_deepnote_index_column": 360
                },
                {
                  "sn_region": "varanger",
                  "sn_locality": "komagdalen",
                  "sn_section": "kjoltindan",
                  "sn_site": "ko_kj_sn_9",
                  "sn_plot": -5,
                  "t_date": "2018-03-16T00:00:00.000000",
                  "v_observer": "nan",
                  "v_depth": "nan",
                  "v_comment": "could not get through",
                  "lon": 29.80519,
                  "lat": 70.34033,
                  "e_utm33": 1051102.35454836,
                  "n_utm33": 7871338.83404479,
                  "_deepnote_index_column": 363
                },
                {
                  "sn_region": "varanger",
                  "sn_locality": "komagdalen",
                  "sn_section": "kjoltindan",
                  "sn_site": "ko_kj_sn_9",
                  "sn_plot": -10,
                  "t_date": "2018-03-16T00:00:00.000000",
                  "v_observer": "nan",
                  "v_depth": "nan",
                  "v_comment": "could not get through",
                  "lon": 29.80519,
                  "lat": 70.34033,
                  "e_utm33": 1051102.35454836,
                  "n_utm33": 7871338.83404479,
                  "_deepnote_index_column": 364
                },
                {
                  "sn_region": "varanger",
                  "sn_locality": "komagdalen",
                  "sn_section": "ruossachokka",
                  "sn_site": "ko_ru_sn_3",
                  "sn_plot": 10,
                  "t_date": "2011-03-20T00:00:00.000000",
                  "v_observer": "nan",
                  "v_depth": "nan",
                  "v_comment": "Very hard snow, uncertain whether we reached the bottom",
                  "lon": 30.09634,
                  "lat": 70.32753,
                  "e_utm33": 1062097.40843076,
                  "n_utm33": 7872626.09346294,
                  "_deepnote_index_column": 843
                },
                {
                  "sn_region": "varanger",
                  "sn_locality": "komagdalen",
                  "sn_section": "ruossachokka",
                  "sn_site": "ko_ru_sn_3",
                  "sn_plot": 5,
                  "t_date": "2011-03-20T00:00:00.000000",
                  "v_observer": "nan",
                  "v_depth": "nan",
                  "v_comment": "nan",
                  "lon": 30.09634,
                  "lat": 70.32753,
                  "e_utm33": 1062097.40843076,
                  "n_utm33": 7872626.09346294,
                  "_deepnote_index_column": 844
                },
                {
                  "sn_region": "varanger",
                  "sn_locality": "komagdalen",
                  "sn_section": "ruossachokka",
                  "sn_site": "ko_ru_sn_3",
                  "sn_plot": 0,
                  "t_date": "2011-03-20T00:00:00.000000",
                  "v_observer": "nan",
                  "v_depth": "nan",
                  "v_comment": "nan",
                  "lon": 30.09634,
                  "lat": 70.32753,
                  "e_utm33": 1062097.40843076,
                  "n_utm33": 7872626.09346294,
                  "_deepnote_index_column": 845
                },
                {
                  "sn_region": "varanger",
                  "sn_locality": "komagdalen",
                  "sn_section": "ruossachokka",
                  "sn_site": "ko_ru_sn_3",
                  "sn_plot": -5,
                  "t_date": "2011-03-20T00:00:00.000000",
                  "v_observer": "nan",
                  "v_depth": "nan",
                  "v_comment": "nan",
                  "lon": 30.09634,
                  "lat": 70.32753,
                  "e_utm33": 1062097.40843076,
                  "n_utm33": 7872626.09346294,
                  "_deepnote_index_column": 846
                },
                {
                  "sn_region": "varanger",
                  "sn_locality": "komagdalen",
                  "sn_section": "ruossachokka",
                  "sn_site": "ko_ru_sn_3",
                  "sn_plot": -10,
                  "t_date": "2011-03-20T00:00:00.000000",
                  "v_observer": "nan",
                  "v_depth": "nan",
                  "v_comment": "nan",
                  "lon": 30.09634,
                  "lat": 70.32753,
                  "e_utm33": 1062097.40843076,
                  "n_utm33": 7872626.09346294,
                  "_deepnote_index_column": 847
                },
                {
                  "sn_region": "varanger",
                  "sn_locality": "komagdalen",
                  "sn_section": "ruossachokka",
                  "sn_site": "ko_ru_sn_5",
                  "sn_plot": 10,
                  "t_date": "2011-03-20T00:00:00.000000",
                  "v_observer": "nan",
                  "v_depth": "nan",
                  "v_comment": "Very hard snow, uncertain whether we reached the bottom",
                  "lon": 30.10458,
                  "lat": 70.32971,
                  "e_utm33": 1062338.50819927,
                  "n_utm33": 7872939.16547566,
                  "_deepnote_index_column": 853
                },
                {
                  "sn_region": "varanger",
                  "sn_locality": "komagdalen",
                  "sn_section": "ruossachokka",
                  "sn_site": "ko_ru_sn_5",
                  "sn_plot": 5,
                  "t_date": "2011-03-20T00:00:00.000000",
                  "v_observer": "nan",
                  "v_depth": "nan",
                  "v_comment": "nan",
                  "lon": 30.10458,
                  "lat": 70.32971,
                  "e_utm33": 1062338.50819927,
                  "n_utm33": 7872939.16547566,
                  "_deepnote_index_column": 854
                },
                {
                  "sn_region": "varanger",
                  "sn_locality": "komagdalen",
                  "sn_section": "ruossachokka",
                  "sn_site": "ko_ru_sn_5",
                  "sn_plot": -10,
                  "t_date": "2011-03-20T00:00:00.000000",
                  "v_observer": "nan",
                  "v_depth": "nan",
                  "v_comment": "nan",
                  "lon": 30.10458,
                  "lat": 70.32971,
                  "e_utm33": 1062338.50819927,
                  "n_utm33": 7872939.16547566,
                  "_deepnote_index_column": 857
                },
                {
                  "sn_region": "varanger",
                  "sn_locality": "ifjordfjellet",
                  "sn_section": "eastordalen",
                  "sn_site": "if_ea_sn_3",
                  "sn_plot": -10,
                  "t_date": "2011-03-18T00:00:00.000000",
                  "v_observer": "nan",
                  "v_depth": "nan",
                  "v_comment": "avalanche risk",
                  "lon": 27.35785,
                  "lat": 70.42369,
                  "e_utm33": 959339.46624029,
                  "n_utm33": 7860018.64188419,
                  "_deepnote_index_column": 1038
                },
                {
                  "sn_region": "varanger",
                  "sn_locality": "ifjordfjellet",
                  "sn_section": "eastordalen",
                  "sn_site": "if_ea_sn_3",
                  "sn_plot": -5,
                  "t_date": "2011-03-18T00:00:00.000000",
                  "v_observer": "nan",
                  "v_depth": "nan",
                  "v_comment": "avalanche risk",
                  "lon": 27.35785,
                  "lat": 70.42369,
                  "e_utm33": 959339.46624029,
                  "n_utm33": 7860018.64188419,
                  "_deepnote_index_column": 1039
                },
                {
                  "sn_region": "varanger",
                  "sn_locality": "ifjordfjellet",
                  "sn_section": "eastordalen",
                  "sn_site": "if_ea_sn_3",
                  "sn_plot": 0,
                  "t_date": "2011-03-18T00:00:00.000000",
                  "v_observer": "nan",
                  "v_depth": "nan",
                  "v_comment": "avalanche risk",
                  "lon": 27.35785,
                  "lat": 70.42369,
                  "e_utm33": 959339.46624029,
                  "n_utm33": 7860018.64188419,
                  "_deepnote_index_column": 1040
                },
                {
                  "sn_region": "varanger",
                  "sn_locality": "ifjordfjellet",
                  "sn_section": "eastordalen",
                  "sn_site": "if_ea_sn_3",
                  "sn_plot": 5,
                  "t_date": "2011-03-18T00:00:00.000000",
                  "v_observer": "nan",
                  "v_depth": "nan",
                  "v_comment": "avalanche risk",
                  "lon": 27.35785,
                  "lat": 70.42369,
                  "e_utm33": 959339.46624029,
                  "n_utm33": 7860018.64188419,
                  "_deepnote_index_column": 1041
                },
                {
                  "sn_region": "varanger",
                  "sn_locality": "ifjordfjellet",
                  "sn_section": "eastordalen",
                  "sn_site": "if_ea_sn_3",
                  "sn_plot": 10,
                  "t_date": "2011-03-18T00:00:00.000000",
                  "v_observer": "nan",
                  "v_depth": "nan",
                  "v_comment": "avalanche risk",
                  "lon": 27.35785,
                  "lat": 70.42369,
                  "e_utm33": 959339.46624029,
                  "n_utm33": 7860018.64188419,
                  "_deepnote_index_column": 1042
                },
                {
                  "sn_region": "varanger",
                  "sn_locality": "ifjordfjellet",
                  "sn_section": "eastordalen",
                  "sn_site": "if_ea_sn_18",
                  "sn_plot": -10,
                  "t_date": "2011-03-21T00:00:00.000000",
                  "v_observer": "nan",
                  "v_depth": "nan",
                  "v_comment": "avalanche risk",
                  "lon": 27.37086,
                  "lat": 70.40382,
                  "e_utm33": 960266.749020398,
                  "n_utm33": 7857941.57641106,
                  "_deepnote_index_column": 1083
                },
                {
                  "sn_region": "varanger",
                  "sn_locality": "ifjordfjellet",
                  "sn_section": "eastordalen",
                  "sn_site": "if_ea_sn_18",
                  "sn_plot": -5,
                  "t_date": "2011-03-21T00:00:00.000000",
                  "v_observer": "nan",
                  "v_depth": "nan",
                  "v_comment": "avalanche risk",
                  "lon": 27.37086,
                  "lat": 70.40382,
                  "e_utm33": 960266.749020398,
                  "n_utm33": 7857941.57641106,
                  "_deepnote_index_column": 1084
                },
                {
                  "sn_region": "varanger",
                  "sn_locality": "ifjordfjellet",
                  "sn_section": "eastordalen",
                  "sn_site": "if_ea_sn_18",
                  "sn_plot": 0,
                  "t_date": "2011-03-21T00:00:00.000000",
                  "v_observer": "nan",
                  "v_depth": "nan",
                  "v_comment": "avalanche risk",
                  "lon": 27.37086,
                  "lat": 70.40382,
                  "e_utm33": 960266.749020398,
                  "n_utm33": 7857941.57641106,
                  "_deepnote_index_column": 1085
                },
                {
                  "sn_region": "varanger",
                  "sn_locality": "ifjordfjellet",
                  "sn_section": "eastordalen",
                  "sn_site": "if_ea_sn_18",
                  "sn_plot": 5,
                  "t_date": "2011-03-21T00:00:00.000000",
                  "v_observer": "nan",
                  "v_depth": "nan",
                  "v_comment": "avalanche risk",
                  "lon": 27.37086,
                  "lat": 70.40382,
                  "e_utm33": 960266.749020398,
                  "n_utm33": 7857941.57641106,
                  "_deepnote_index_column": 1086
                },
                {
                  "sn_region": "varanger",
                  "sn_locality": "ifjordfjellet",
                  "sn_section": "eastordalen",
                  "sn_site": "if_ea_sn_18",
                  "sn_plot": 10,
                  "t_date": "2011-03-21T00:00:00.000000",
                  "v_observer": "nan",
                  "v_depth": "nan",
                  "v_comment": "avalanche risk",
                  "lon": 27.37086,
                  "lat": 70.40382,
                  "e_utm33": 960266.749020398,
                  "n_utm33": 7857941.57641106,
                  "_deepnote_index_column": 1087
                },
                {
                  "sn_region": "varanger",
                  "sn_locality": "vestre_jakobselv",
                  "sn_section": "torvhaugdalen",
                  "sn_site": "vj_to_sn_15",
                  "sn_plot": 0,
                  "t_date": "2013-03-14T00:00:00.000000",
                  "v_observer": "nan",
                  "v_depth": "nan",
                  "v_comment": "nan",
                  "lon": 29.07321,
                  "lat": 70.30603,
                  "e_utm33": 1025179.22314221,
                  "n_utm33": 7861103.80768155,
                  "_deepnote_index_column": 1268
                },
                {
                  "sn_region": "varanger",
                  "sn_locality": "ifjordfjellet",
                  "sn_section": "eastordalen",
                  "sn_site": "if_ea_sn_19",
                  "sn_plot": 0,
                  "t_date": "2013-03-16T00:00:00.000000",
                  "v_observer": "nan",
                  "v_depth": "nan",
                  "v_comment": "avalance risk",
                  "lon": 27.36365,
                  "lat": 70.40963,
                  "e_utm33": 959870.38097081,
                  "n_utm33": 7858523.03860472,
                  "_deepnote_index_column": 1713
                },
                {
                  "sn_region": "varanger",
                  "sn_locality": "ifjordfjellet",
                  "sn_section": "eastordalen",
                  "sn_site": "if_ea_sn_19",
                  "sn_plot": 5,
                  "t_date": "2013-03-16T00:00:00.000000",
                  "v_observer": "nan",
                  "v_depth": "nan",
                  "v_comment": "avalance risk",
                  "lon": 27.36365,
                  "lat": 70.40963,
                  "e_utm33": 959870.38097081,
                  "n_utm33": 7858523.03860472,
                  "_deepnote_index_column": 1714
                },
                {
                  "sn_region": "varanger",
                  "sn_locality": "ifjordfjellet",
                  "sn_section": "eastordalen",
                  "sn_site": "if_ea_sn_19",
                  "sn_plot": 10,
                  "t_date": "2013-03-16T00:00:00.000000",
                  "v_observer": "nan",
                  "v_depth": "nan",
                  "v_comment": "avalance risk",
                  "lon": 27.36365,
                  "lat": 70.40963,
                  "e_utm33": 959870.38097081,
                  "n_utm33": 7858523.03860472,
                  "_deepnote_index_column": 1715
                },
                {
                  "sn_region": "varanger",
                  "sn_locality": "ifjordfjellet",
                  "sn_section": "eastordalen",
                  "sn_site": "if_ea_sn_19",
                  "sn_plot": -5,
                  "t_date": "2013-03-16T00:00:00.000000",
                  "v_observer": "nan",
                  "v_depth": "nan",
                  "v_comment": "avalance risk",
                  "lon": 27.36365,
                  "lat": 70.40963,
                  "e_utm33": 959870.38097081,
                  "n_utm33": 7858523.03860472,
                  "_deepnote_index_column": 1716
                },
                {
                  "sn_region": "varanger",
                  "sn_locality": "ifjordfjellet",
                  "sn_section": "eastordalen",
                  "sn_site": "if_ea_sn_19",
                  "sn_plot": -10,
                  "t_date": "2013-03-16T00:00:00.000000",
                  "v_observer": "nan",
                  "v_depth": "nan",
                  "v_comment": "avalance risk",
                  "lon": 27.36365,
                  "lat": 70.40963,
                  "e_utm33": 959870.38097081,
                  "n_utm33": 7858523.03860472,
                  "_deepnote_index_column": 1717
                },
                {
                  "sn_region": "varanger",
                  "sn_locality": "ifjordfjellet",
                  "sn_section": "eastordalen",
                  "sn_site": "if_ea_sn_7",
                  "sn_plot": 0,
                  "t_date": "2013-03-16T00:00:00.000000",
                  "v_observer": "nan",
                  "v_depth": "nan",
                  "v_comment": "nan",
                  "lon": 27.37023,
                  "lat": 70.42207,
                  "e_utm33": 959830.678632879,
                  "n_utm33": 7859935.13766616,
                  "_deepnote_index_column": 1763
                },
                {
                  "sn_region": "varanger",
                  "sn_locality": "ifjordfjellet",
                  "sn_section": "eastordalen",
                  "sn_site": "if_ea_sn_7",
                  "sn_plot": 5,
                  "t_date": "2013-03-16T00:00:00.000000",
                  "v_observer": "nan",
                  "v_depth": "nan",
                  "v_comment": "nan",
                  "lon": 27.37023,
                  "lat": 70.42207,
                  "e_utm33": 959830.678632879,
                  "n_utm33": 7859935.13766616,
                  "_deepnote_index_column": 1764
                },
                {
                  "sn_region": "varanger",
                  "sn_locality": "ifjordfjellet",
                  "sn_section": "eastordalen",
                  "sn_site": "if_ea_sn_7",
                  "sn_plot": 10,
                  "t_date": "2013-03-16T00:00:00.000000",
                  "v_observer": "nan",
                  "v_depth": "nan",
                  "v_comment": "nan",
                  "lon": 27.37023,
                  "lat": 70.42207,
                  "e_utm33": 959830.678632879,
                  "n_utm33": 7859935.13766616,
                  "_deepnote_index_column": 1765
                },
                {
                  "sn_region": "varanger",
                  "sn_locality": "ifjordfjellet",
                  "sn_section": "eastordalen",
                  "sn_site": "if_ea_sn_7",
                  "sn_plot": -5,
                  "t_date": "2013-03-16T00:00:00.000000",
                  "v_observer": "nan",
                  "v_depth": "nan",
                  "v_comment": "nan",
                  "lon": 27.37023,
                  "lat": 70.42207,
                  "e_utm33": 959830.678632879,
                  "n_utm33": 7859935.13766616,
                  "_deepnote_index_column": 1766
                },
                {
                  "sn_region": "varanger",
                  "sn_locality": "ifjordfjellet",
                  "sn_section": "eastordalen",
                  "sn_site": "if_ea_sn_7",
                  "sn_plot": -10,
                  "t_date": "2013-03-16T00:00:00.000000",
                  "v_observer": "nan",
                  "v_depth": "nan",
                  "v_comment": "nan",
                  "lon": 27.37023,
                  "lat": 70.42207,
                  "e_utm33": 959830.678632879,
                  "n_utm33": 7859935.13766616,
                  "_deepnote_index_column": 1767
                },
                {
                  "sn_region": "varanger",
                  "sn_locality": "ifjordfjellet",
                  "sn_section": "eastordalen",
                  "sn_site": "if_ea_sn_3",
                  "sn_plot": -10,
                  "t_date": "2012-03-20T00:00:00.000000",
                  "v_observer": "nan",
                  "v_depth": "nan",
                  "v_comment": "avalanche risk",
                  "lon": 27.35785,
                  "lat": 70.42369,
                  "e_utm33": 959339.46624029,
                  "n_utm33": 7860018.64188419,
                  "_deepnote_index_column": 2303
                },
                {
                  "sn_region": "varanger",
                  "sn_locality": "ifjordfjellet",
                  "sn_section": "eastordalen",
                  "sn_site": "if_ea_sn_3",
                  "sn_plot": -5,
                  "t_date": "2012-03-20T00:00:00.000000",
                  "v_observer": "nan",
                  "v_depth": "nan",
                  "v_comment": "avalanche risk",
                  "lon": 27.35785,
                  "lat": 70.42369,
                  "e_utm33": 959339.46624029,
                  "n_utm33": 7860018.64188419,
                  "_deepnote_index_column": 2304
                },
                {
                  "sn_region": "varanger",
                  "sn_locality": "ifjordfjellet",
                  "sn_section": "eastordalen",
                  "sn_site": "if_ea_sn_3",
                  "sn_plot": 0,
                  "t_date": "2012-03-20T00:00:00.000000",
                  "v_observer": "nan",
                  "v_depth": "nan",
                  "v_comment": "avalanche risk",
                  "lon": 27.35785,
                  "lat": 70.42369,
                  "e_utm33": 959339.46624029,
                  "n_utm33": 7860018.64188419,
                  "_deepnote_index_column": 2305
                },
                {
                  "sn_region": "varanger",
                  "sn_locality": "ifjordfjellet",
                  "sn_section": "eastordalen",
                  "sn_site": "if_ea_sn_3",
                  "sn_plot": 5,
                  "t_date": "2012-03-20T00:00:00.000000",
                  "v_observer": "nan",
                  "v_depth": "nan",
                  "v_comment": "avalanche risk",
                  "lon": 27.35785,
                  "lat": 70.42369,
                  "e_utm33": 959339.46624029,
                  "n_utm33": 7860018.64188419,
                  "_deepnote_index_column": 2306
                },
                {
                  "sn_region": "varanger",
                  "sn_locality": "ifjordfjellet",
                  "sn_section": "eastordalen",
                  "sn_site": "if_ea_sn_3",
                  "sn_plot": 10,
                  "t_date": "2012-03-20T00:00:00.000000",
                  "v_observer": "nan",
                  "v_depth": "nan",
                  "v_comment": "avalanche risk",
                  "lon": 27.35785,
                  "lat": 70.42369,
                  "e_utm33": 959339.46624029,
                  "n_utm33": 7860018.64188419,
                  "_deepnote_index_column": 2307
                },
                {
                  "sn_region": "varanger",
                  "sn_locality": "ifjordfjellet",
                  "sn_section": "eastordalen",
                  "sn_site": "if_ea_sn_18",
                  "sn_plot": -10,
                  "t_date": "2012-03-20T00:00:00.000000",
                  "v_observer": "nan",
                  "v_depth": "nan",
                  "v_comment": "avalanche risk",
                  "lon": 27.37086,
                  "lat": 70.40382,
                  "e_utm33": 960266.749020398,
                  "n_utm33": 7857941.57641106,
                  "_deepnote_index_column": 2378
                }
              ],
              "rows_bottom": [
                {
                  "sn_region": "varanger",
                  "sn_locality": "vestre_jakobselv",
                  "sn_section": "bearalveaijohka",
                  "sn_site": "vj_be_sn_12",
                  "sn_plot": -10,
                  "t_date": "2017-03-19T00:00:00.000000",
                  "v_observer": "nan",
                  "v_depth": "nan",
                  "v_comment": "snow was too hard",
                  "lon": 29.00117,
                  "lat": 70.29824,
                  "e_utm33": 1022732.1645634,
                  "n_utm33": 7859632.30520535,
                  "_deepnote_index_column": 2932
                },
                {
                  "sn_region": "varanger",
                  "sn_locality": "vestre_jakobselv",
                  "sn_section": "bearalveaijohka",
                  "sn_site": "vj_be_sn_11",
                  "sn_plot": 10,
                  "t_date": "2017-03-19T00:00:00.000000",
                  "v_observer": "nan",
                  "v_depth": "nan",
                  "v_comment": "snow was too hard",
                  "lon": 29.00347,
                  "lat": 70.29951,
                  "e_utm33": 1022784.21150463,
                  "n_utm33": 7859790.49410588,
                  "_deepnote_index_column": 2933
                },
                {
                  "sn_region": "varanger",
                  "sn_locality": "vestre_jakobselv",
                  "sn_section": "bearalveaijohka",
                  "sn_site": "vj_be_sn_11",
                  "sn_plot": 5,
                  "t_date": "2017-03-19T00:00:00.000000",
                  "v_observer": "nan",
                  "v_depth": "nan",
                  "v_comment": "snow was too hard",
                  "lon": 29.00347,
                  "lat": 70.29951,
                  "e_utm33": 1022784.21150463,
                  "n_utm33": 7859790.49410588,
                  "_deepnote_index_column": 2934
                },
                {
                  "sn_region": "varanger",
                  "sn_locality": "vestre_jakobselv",
                  "sn_section": "bearalveaijohka",
                  "sn_site": "vj_be_sn_11",
                  "sn_plot": 0,
                  "t_date": "2017-03-19T00:00:00.000000",
                  "v_observer": "nan",
                  "v_depth": "nan",
                  "v_comment": "snow was too hard",
                  "lon": 29.00347,
                  "lat": 70.29951,
                  "e_utm33": 1022784.21150463,
                  "n_utm33": 7859790.49410588,
                  "_deepnote_index_column": 2935
                },
                {
                  "sn_region": "varanger",
                  "sn_locality": "vestre_jakobselv",
                  "sn_section": "bearalveaijohka",
                  "sn_site": "vj_be_sn_11",
                  "sn_plot": -5,
                  "t_date": "2017-03-19T00:00:00.000000",
                  "v_observer": "nan",
                  "v_depth": "nan",
                  "v_comment": "snow was too hard",
                  "lon": 29.00347,
                  "lat": 70.29951,
                  "e_utm33": 1022784.21150463,
                  "n_utm33": 7859790.49410588,
                  "_deepnote_index_column": 2936
                },
                {
                  "sn_region": "varanger",
                  "sn_locality": "vestre_jakobselv",
                  "sn_section": "bearalveaijohka",
                  "sn_site": "vj_be_sn_11",
                  "sn_plot": -10,
                  "t_date": "2017-03-19T00:00:00.000000",
                  "v_observer": "nan",
                  "v_depth": "nan",
                  "v_comment": "snow was too hard",
                  "lon": 29.00347,
                  "lat": 70.29951,
                  "e_utm33": 1022784.21150463,
                  "n_utm33": 7859790.49410588,
                  "_deepnote_index_column": 2937
                },
                {
                  "sn_region": "varanger",
                  "sn_locality": "vestre_jakobselv",
                  "sn_section": "bearalveaijohka",
                  "sn_site": "vj_be_sn_10",
                  "sn_plot": 10,
                  "t_date": "2017-03-19T00:00:00.000000",
                  "v_observer": "nan",
                  "v_depth": "nan",
                  "v_comment": "snow was too hard",
                  "lon": 29.01114,
                  "lat": 70.29858,
                  "e_utm33": 1023089.87529294,
                  "n_utm33": 7859755.38956792,
                  "_deepnote_index_column": 2938
                },
                {
                  "sn_region": "varanger",
                  "sn_locality": "vestre_jakobselv",
                  "sn_section": "bearalveaijohka",
                  "sn_site": "vj_be_sn_10",
                  "sn_plot": 5,
                  "t_date": "2017-03-19T00:00:00.000000",
                  "v_observer": "nan",
                  "v_depth": "nan",
                  "v_comment": "snow was too hard",
                  "lon": 29.01114,
                  "lat": 70.29858,
                  "e_utm33": 1023089.87529294,
                  "n_utm33": 7859755.38956792,
                  "_deepnote_index_column": 2939
                },
                {
                  "sn_region": "varanger",
                  "sn_locality": "vestre_jakobselv",
                  "sn_section": "bearalveaijohka",
                  "sn_site": "vj_be_sn_10",
                  "sn_plot": 0,
                  "t_date": "2017-03-19T00:00:00.000000",
                  "v_observer": "nan",
                  "v_depth": "nan",
                  "v_comment": "snow was too hard",
                  "lon": 29.01114,
                  "lat": 70.29858,
                  "e_utm33": 1023089.87529294,
                  "n_utm33": 7859755.38956792,
                  "_deepnote_index_column": 2940
                },
                {
                  "sn_region": "varanger",
                  "sn_locality": "vestre_jakobselv",
                  "sn_section": "bearalveaijohka",
                  "sn_site": "vj_be_sn_10",
                  "sn_plot": -5,
                  "t_date": "2017-03-19T00:00:00.000000",
                  "v_observer": "nan",
                  "v_depth": "nan",
                  "v_comment": "snow was too hard",
                  "lon": 29.01114,
                  "lat": 70.29858,
                  "e_utm33": 1023089.87529294,
                  "n_utm33": 7859755.38956792,
                  "_deepnote_index_column": 2941
                },
                {
                  "sn_region": "varanger",
                  "sn_locality": "vestre_jakobselv",
                  "sn_section": "bearalveaijohka",
                  "sn_site": "vj_be_sn_10",
                  "sn_plot": -10,
                  "t_date": "2017-03-19T00:00:00.000000",
                  "v_observer": "nan",
                  "v_depth": "nan",
                  "v_comment": "snow was too hard",
                  "lon": 29.01114,
                  "lat": 70.29858,
                  "e_utm33": 1023089.87529294,
                  "n_utm33": 7859755.38956792,
                  "_deepnote_index_column": 2942
                },
                {
                  "sn_region": "varanger",
                  "sn_locality": "vestre_jakobselv",
                  "sn_section": "bearalveaijohka",
                  "sn_site": "vj_be_sn_9",
                  "sn_plot": 10,
                  "t_date": "2017-03-19T00:00:00.000000",
                  "v_observer": "nan",
                  "v_depth": "nan",
                  "v_comment": "snow was too hard",
                  "lon": 29.01313,
                  "lat": 70.2977,
                  "e_utm33": 1023185.53068243,
                  "n_utm33": 7859676.71475795,
                  "_deepnote_index_column": 2943
                },
                {
                  "sn_region": "varanger",
                  "sn_locality": "vestre_jakobselv",
                  "sn_section": "bearalveaijohka",
                  "sn_site": "vj_be_sn_9",
                  "sn_plot": 5,
                  "t_date": "2017-03-19T00:00:00.000000",
                  "v_observer": "nan",
                  "v_depth": "nan",
                  "v_comment": "snow was too hard",
                  "lon": 29.01313,
                  "lat": 70.2977,
                  "e_utm33": 1023185.53068243,
                  "n_utm33": 7859676.71475795,
                  "_deepnote_index_column": 2944
                },
                {
                  "sn_region": "varanger",
                  "sn_locality": "vestre_jakobselv",
                  "sn_section": "bearalveaijohka",
                  "sn_site": "vj_be_sn_9",
                  "sn_plot": 0,
                  "t_date": "2017-03-19T00:00:00.000000",
                  "v_observer": "nan",
                  "v_depth": "nan",
                  "v_comment": "snow was too hard",
                  "lon": 29.01313,
                  "lat": 70.2977,
                  "e_utm33": 1023185.53068243,
                  "n_utm33": 7859676.71475795,
                  "_deepnote_index_column": 2945
                },
                {
                  "sn_region": "varanger",
                  "sn_locality": "vestre_jakobselv",
                  "sn_section": "bearalveaijohka",
                  "sn_site": "vj_be_sn_9",
                  "sn_plot": -5,
                  "t_date": "2017-03-19T00:00:00.000000",
                  "v_observer": "nan",
                  "v_depth": "nan",
                  "v_comment": "snow was too hard",
                  "lon": 29.01313,
                  "lat": 70.2977,
                  "e_utm33": 1023185.53068243,
                  "n_utm33": 7859676.71475795,
                  "_deepnote_index_column": 2946
                },
                {
                  "sn_region": "varanger",
                  "sn_locality": "vestre_jakobselv",
                  "sn_section": "bearalveaijohka",
                  "sn_site": "vj_be_sn_9",
                  "sn_plot": -10,
                  "t_date": "2017-03-19T00:00:00.000000",
                  "v_observer": "nan",
                  "v_depth": "nan",
                  "v_comment": "snow was too hard",
                  "lon": 29.01313,
                  "lat": 70.2977,
                  "e_utm33": 1023185.53068243,
                  "n_utm33": 7859676.71475795,
                  "_deepnote_index_column": 2947
                },
                {
                  "sn_region": "varanger",
                  "sn_locality": "vestre_jakobselv",
                  "sn_section": "bearalveaijohka",
                  "sn_site": "vj_be_sn_8",
                  "sn_plot": 10,
                  "t_date": "2017-03-19T00:00:00.000000",
                  "v_observer": "nan",
                  "v_depth": "nan",
                  "v_comment": "snow was too hard",
                  "lon": 28.97485,
                  "lat": 70.30071,
                  "e_utm33": 1021701.76126,
                  "n_utm33": 7859674.52461678,
                  "_deepnote_index_column": 2948
                },
                {
                  "sn_region": "varanger",
                  "sn_locality": "vestre_jakobselv",
                  "sn_section": "bearalveaijohka",
                  "sn_site": "vj_be_sn_8",
                  "sn_plot": 5,
                  "t_date": "2017-03-19T00:00:00.000000",
                  "v_observer": "nan",
                  "v_depth": "nan",
                  "v_comment": "snow was too hard",
                  "lon": 28.97485,
                  "lat": 70.30071,
                  "e_utm33": 1021701.76126,
                  "n_utm33": 7859674.52461678,
                  "_deepnote_index_column": 2949
                },
                {
                  "sn_region": "varanger",
                  "sn_locality": "vestre_jakobselv",
                  "sn_section": "bearalveaijohka",
                  "sn_site": "vj_be_sn_8",
                  "sn_plot": 0,
                  "t_date": "2017-03-19T00:00:00.000000",
                  "v_observer": "nan",
                  "v_depth": "nan",
                  "v_comment": "snow was too hard",
                  "lon": 28.97485,
                  "lat": 70.30071,
                  "e_utm33": 1021701.76126,
                  "n_utm33": 7859674.52461678,
                  "_deepnote_index_column": 2950
                },
                {
                  "sn_region": "varanger",
                  "sn_locality": "vestre_jakobselv",
                  "sn_section": "bearalveaijohka",
                  "sn_site": "vj_be_sn_8",
                  "sn_plot": -5,
                  "t_date": "2017-03-19T00:00:00.000000",
                  "v_observer": "nan",
                  "v_depth": "nan",
                  "v_comment": "snow was too hard",
                  "lon": 28.97485,
                  "lat": 70.30071,
                  "e_utm33": 1021701.76126,
                  "n_utm33": 7859674.52461678,
                  "_deepnote_index_column": 2951
                },
                {
                  "sn_region": "varanger",
                  "sn_locality": "vestre_jakobselv",
                  "sn_section": "bearalveaijohka",
                  "sn_site": "vj_be_sn_8",
                  "sn_plot": -10,
                  "t_date": "2017-03-19T00:00:00.000000",
                  "v_observer": "nan",
                  "v_depth": "nan",
                  "v_comment": "snow was too hard",
                  "lon": 28.97485,
                  "lat": 70.30071,
                  "e_utm33": 1021701.76126,
                  "n_utm33": 7859674.52461678,
                  "_deepnote_index_column": 2952
                },
                {
                  "sn_region": "varanger",
                  "sn_locality": "vestre_jakobselv",
                  "sn_section": "bearalveaijohka",
                  "sn_site": "vj_be_sn_27",
                  "sn_plot": 10,
                  "t_date": "2017-03-19T00:00:00.000000",
                  "v_observer": "nan",
                  "v_depth": "nan",
                  "v_comment": "snow was too hard",
                  "lon": 29.01369,
                  "lat": 70.28826,
                  "e_utm33": 1023447.72235019,
                  "n_utm33": 7858653.26538395,
                  "_deepnote_index_column": 2953
                },
                {
                  "sn_region": "varanger",
                  "sn_locality": "vestre_jakobselv",
                  "sn_section": "bearalveaijohka",
                  "sn_site": "vj_be_sn_27",
                  "sn_plot": 5,
                  "t_date": "2017-03-19T00:00:00.000000",
                  "v_observer": "nan",
                  "v_depth": "nan",
                  "v_comment": "snow was too hard",
                  "lon": 29.01369,
                  "lat": 70.28826,
                  "e_utm33": 1023447.72235019,
                  "n_utm33": 7858653.26538395,
                  "_deepnote_index_column": 2954
                },
                {
                  "sn_region": "varanger",
                  "sn_locality": "vestre_jakobselv",
                  "sn_section": "bearalveaijohka",
                  "sn_site": "vj_be_sn_27",
                  "sn_plot": 0,
                  "t_date": "2017-03-19T00:00:00.000000",
                  "v_observer": "nan",
                  "v_depth": "nan",
                  "v_comment": "snow was too hard",
                  "lon": 29.01369,
                  "lat": 70.28826,
                  "e_utm33": 1023447.72235019,
                  "n_utm33": 7858653.26538395,
                  "_deepnote_index_column": 2955
                },
                {
                  "sn_region": "varanger",
                  "sn_locality": "vestre_jakobselv",
                  "sn_section": "bearalveaijohka",
                  "sn_site": "vj_be_sn_27",
                  "sn_plot": -5,
                  "t_date": "2017-03-19T00:00:00.000000",
                  "v_observer": "nan",
                  "v_depth": "nan",
                  "v_comment": "snow was too hard",
                  "lon": 29.01369,
                  "lat": 70.28826,
                  "e_utm33": 1023447.72235019,
                  "n_utm33": 7858653.26538395,
                  "_deepnote_index_column": 2956
                },
                {
                  "sn_region": "varanger",
                  "sn_locality": "vestre_jakobselv",
                  "sn_section": "bearalveaijohka",
                  "sn_site": "vj_be_sn_27",
                  "sn_plot": -10,
                  "t_date": "2017-03-19T00:00:00.000000",
                  "v_observer": "nan",
                  "v_depth": "nan",
                  "v_comment": "snow was too hard",
                  "lon": 29.01369,
                  "lat": 70.28826,
                  "e_utm33": 1023447.72235019,
                  "n_utm33": 7858653.26538395,
                  "_deepnote_index_column": 2957
                },
                {
                  "sn_region": "varanger",
                  "sn_locality": "vestre_jakobselv",
                  "sn_section": "bearalveaijohka",
                  "sn_site": "vj_be_sn_20",
                  "sn_plot": 0,
                  "t_date": "2015-03-23T00:00:00.000000",
                  "v_observer": "nan",
                  "v_depth": "nan",
                  "v_comment": "nan",
                  "lon": 28.99019,
                  "lat": 70.28123,
                  "e_utm33": 1022763.24677911,
                  "n_utm33": 7857684.5841403,
                  "_deepnote_index_column": 3143
                },
                {
                  "sn_region": "varanger",
                  "sn_locality": "vestre_jakobselv",
                  "sn_section": "bearalveaijohka",
                  "sn_site": "vj_be_sn_20",
                  "sn_plot": 5,
                  "t_date": "2015-03-23T00:00:00.000000",
                  "v_observer": "nan",
                  "v_depth": "nan",
                  "v_comment": "nan",
                  "lon": 28.99019,
                  "lat": 70.28123,
                  "e_utm33": 1022763.24677911,
                  "n_utm33": 7857684.5841403,
                  "_deepnote_index_column": 3144
                },
                {
                  "sn_region": "varanger",
                  "sn_locality": "vestre_jakobselv",
                  "sn_section": "bearalveaijohka",
                  "sn_site": "vj_be_sn_20",
                  "sn_plot": 10,
                  "t_date": "2015-03-23T00:00:00.000000",
                  "v_observer": "nan",
                  "v_depth": "nan",
                  "v_comment": "nan",
                  "lon": 28.99019,
                  "lat": 70.28123,
                  "e_utm33": 1022763.24677911,
                  "n_utm33": 7857684.5841403,
                  "_deepnote_index_column": 3145
                },
                {
                  "sn_region": "varanger",
                  "sn_locality": "vestre_jakobselv",
                  "sn_section": "bearalveaijohka",
                  "sn_site": "vj_be_sn_20",
                  "sn_plot": -5,
                  "t_date": "2015-03-23T00:00:00.000000",
                  "v_observer": "nan",
                  "v_depth": "nan",
                  "v_comment": "nan",
                  "lon": 28.99019,
                  "lat": 70.28123,
                  "e_utm33": 1022763.24677911,
                  "n_utm33": 7857684.5841403,
                  "_deepnote_index_column": 3146
                },
                {
                  "sn_region": "varanger",
                  "sn_locality": "vestre_jakobselv",
                  "sn_section": "bearalveaijohka",
                  "sn_site": "vj_be_sn_20",
                  "sn_plot": -10,
                  "t_date": "2015-03-23T00:00:00.000000",
                  "v_observer": "nan",
                  "v_depth": "nan",
                  "v_comment": "nan",
                  "lon": 28.99019,
                  "lat": 70.28123,
                  "e_utm33": 1022763.24677911,
                  "n_utm33": 7857684.5841403,
                  "_deepnote_index_column": 3147
                },
                {
                  "sn_region": "varanger",
                  "sn_locality": "ifjordfjellet",
                  "sn_section": "eastordalen",
                  "sn_site": "if_ea_sn_3",
                  "sn_plot": -10,
                  "t_date": "2014-03-23T00:00:00.000000",
                  "v_observer": "nan",
                  "v_depth": "nan",
                  "v_comment": "avalanche risk",
                  "lon": 27.35785,
                  "lat": 70.42369,
                  "e_utm33": 959339.46624029,
                  "n_utm33": 7860018.64188419,
                  "_deepnote_index_column": 3623
                },
                {
                  "sn_region": "varanger",
                  "sn_locality": "ifjordfjellet",
                  "sn_section": "eastordalen",
                  "sn_site": "if_ea_sn_3",
                  "sn_plot": -5,
                  "t_date": "2014-03-23T00:00:00.000000",
                  "v_observer": "nan",
                  "v_depth": "nan",
                  "v_comment": "avalanche risk",
                  "lon": 27.35785,
                  "lat": 70.42369,
                  "e_utm33": 959339.46624029,
                  "n_utm33": 7860018.64188419,
                  "_deepnote_index_column": 3624
                },
                {
                  "sn_region": "varanger",
                  "sn_locality": "ifjordfjellet",
                  "sn_section": "eastordalen",
                  "sn_site": "if_ea_sn_3",
                  "sn_plot": 0,
                  "t_date": "2014-03-23T00:00:00.000000",
                  "v_observer": "nan",
                  "v_depth": "nan",
                  "v_comment": "avalanche risk",
                  "lon": 27.35785,
                  "lat": 70.42369,
                  "e_utm33": 959339.46624029,
                  "n_utm33": 7860018.64188419,
                  "_deepnote_index_column": 3625
                },
                {
                  "sn_region": "varanger",
                  "sn_locality": "ifjordfjellet",
                  "sn_section": "eastordalen",
                  "sn_site": "if_ea_sn_3",
                  "sn_plot": 5,
                  "t_date": "2014-03-23T00:00:00.000000",
                  "v_observer": "nan",
                  "v_depth": "nan",
                  "v_comment": "avalanche risk",
                  "lon": 27.35785,
                  "lat": 70.42369,
                  "e_utm33": 959339.46624029,
                  "n_utm33": 7860018.64188419,
                  "_deepnote_index_column": 3626
                },
                {
                  "sn_region": "varanger",
                  "sn_locality": "ifjordfjellet",
                  "sn_section": "eastordalen",
                  "sn_site": "if_ea_sn_3",
                  "sn_plot": 10,
                  "t_date": "2014-03-23T00:00:00.000000",
                  "v_observer": "nan",
                  "v_depth": "nan",
                  "v_comment": "avalanche risk",
                  "lon": 27.35785,
                  "lat": 70.42369,
                  "e_utm33": 959339.46624029,
                  "n_utm33": 7860018.64188419,
                  "_deepnote_index_column": 3627
                },
                {
                  "sn_region": "varanger",
                  "sn_locality": "ifjordfjellet",
                  "sn_section": "eastordalen",
                  "sn_site": "if_ea_sn_18",
                  "sn_plot": -10,
                  "t_date": "2014-03-23T00:00:00.000000",
                  "v_observer": "nan",
                  "v_depth": "nan",
                  "v_comment": "avalanche risk",
                  "lon": 27.37086,
                  "lat": 70.40382,
                  "e_utm33": 960266.749020398,
                  "n_utm33": 7857941.57641106,
                  "_deepnote_index_column": 3698
                },
                {
                  "sn_region": "varanger",
                  "sn_locality": "ifjordfjellet",
                  "sn_section": "eastordalen",
                  "sn_site": "if_ea_sn_18",
                  "sn_plot": -5,
                  "t_date": "2014-03-23T00:00:00.000000",
                  "v_observer": "nan",
                  "v_depth": "nan",
                  "v_comment": "avalanche risk",
                  "lon": 27.37086,
                  "lat": 70.40382,
                  "e_utm33": 960266.749020398,
                  "n_utm33": 7857941.57641106,
                  "_deepnote_index_column": 3699
                }
              ]
            },
            "text/plain": "     sn_region    sn_locality    sn_section      sn_site  sn_plot     t_date  \\\n360   varanger     komagdalen    kjoltindan   ko_kj_sn_9     10.0 2018-03-16   \n363   varanger     komagdalen    kjoltindan   ko_kj_sn_9     -5.0 2018-03-16   \n364   varanger     komagdalen    kjoltindan   ko_kj_sn_9    -10.0 2018-03-16   \n843   varanger     komagdalen  ruossachokka   ko_ru_sn_3     10.0 2011-03-20   \n844   varanger     komagdalen  ruossachokka   ko_ru_sn_3      5.0 2011-03-20   \n...        ...            ...           ...          ...      ...        ...   \n3625  varanger  ifjordfjellet   eastordalen   if_ea_sn_3      0.0 2014-03-23   \n3626  varanger  ifjordfjellet   eastordalen   if_ea_sn_3      5.0 2014-03-23   \n3627  varanger  ifjordfjellet   eastordalen   if_ea_sn_3     10.0 2014-03-23   \n3698  varanger  ifjordfjellet   eastordalen  if_ea_sn_18    -10.0 2014-03-23   \n3699  varanger  ifjordfjellet   eastordalen  if_ea_sn_18     -5.0 2014-03-23   \n\n     v_observer  v_depth                                          v_comment  \\\n360         NaN      NaN                              could not get through   \n363         NaN      NaN                              could not get through   \n364         NaN      NaN                              could not get through   \n843         NaN      NaN  Very hard snow, uncertain whether we reached t...   \n844         NaN      NaN                                                NaN   \n...         ...      ...                                                ...   \n3625        NaN      NaN                                     avalanche risk   \n3626        NaN      NaN                                     avalanche risk   \n3627        NaN      NaN                                     avalanche risk   \n3698        NaN      NaN                                     avalanche risk   \n3699        NaN      NaN                                     avalanche risk   \n\n           lon       lat       e_utm33       n_utm33  \n360   29.80519  70.34033  1.051102e+06  7.871339e+06  \n363   29.80519  70.34033  1.051102e+06  7.871339e+06  \n364   29.80519  70.34033  1.051102e+06  7.871339e+06  \n843   30.09634  70.32753  1.062097e+06  7.872626e+06  \n844   30.09634  70.32753  1.062097e+06  7.872626e+06  \n...        ...       ...           ...           ...  \n3625  27.35785  70.42369  9.593395e+05  7.860019e+06  \n3626  27.35785  70.42369  9.593395e+05  7.860019e+06  \n3627  27.35785  70.42369  9.593395e+05  7.860019e+06  \n3698  27.37086  70.40382  9.602667e+05  7.857942e+06  \n3699  27.37086  70.40382  9.602667e+05  7.857942e+06  \n\n[177 rows x 13 columns]",
            "text/html": "<div>\n<style scoped>\n    .dataframe tbody tr th:only-of-type {\n        vertical-align: middle;\n    }\n\n    .dataframe tbody tr th {\n        vertical-align: top;\n    }\n\n    .dataframe thead th {\n        text-align: right;\n    }\n</style>\n<table border=\"1\" class=\"dataframe\">\n  <thead>\n    <tr style=\"text-align: right;\">\n      <th></th>\n      <th>sn_region</th>\n      <th>sn_locality</th>\n      <th>sn_section</th>\n      <th>sn_site</th>\n      <th>sn_plot</th>\n      <th>t_date</th>\n      <th>v_observer</th>\n      <th>v_depth</th>\n      <th>v_comment</th>\n      <th>lon</th>\n      <th>lat</th>\n      <th>e_utm33</th>\n      <th>n_utm33</th>\n    </tr>\n  </thead>\n  <tbody>\n    <tr>\n      <th>360</th>\n      <td>varanger</td>\n      <td>komagdalen</td>\n      <td>kjoltindan</td>\n      <td>ko_kj_sn_9</td>\n      <td>10.0</td>\n      <td>2018-03-16</td>\n      <td>NaN</td>\n      <td>NaN</td>\n      <td>could not get through</td>\n      <td>29.80519</td>\n      <td>70.34033</td>\n      <td>1.051102e+06</td>\n      <td>7.871339e+06</td>\n    </tr>\n    <tr>\n      <th>363</th>\n      <td>varanger</td>\n      <td>komagdalen</td>\n      <td>kjoltindan</td>\n      <td>ko_kj_sn_9</td>\n      <td>-5.0</td>\n      <td>2018-03-16</td>\n      <td>NaN</td>\n      <td>NaN</td>\n      <td>could not get through</td>\n      <td>29.80519</td>\n      <td>70.34033</td>\n      <td>1.051102e+06</td>\n      <td>7.871339e+06</td>\n    </tr>\n    <tr>\n      <th>364</th>\n      <td>varanger</td>\n      <td>komagdalen</td>\n      <td>kjoltindan</td>\n      <td>ko_kj_sn_9</td>\n      <td>-10.0</td>\n      <td>2018-03-16</td>\n      <td>NaN</td>\n      <td>NaN</td>\n      <td>could not get through</td>\n      <td>29.80519</td>\n      <td>70.34033</td>\n      <td>1.051102e+06</td>\n      <td>7.871339e+06</td>\n    </tr>\n    <tr>\n      <th>843</th>\n      <td>varanger</td>\n      <td>komagdalen</td>\n      <td>ruossachokka</td>\n      <td>ko_ru_sn_3</td>\n      <td>10.0</td>\n      <td>2011-03-20</td>\n      <td>NaN</td>\n      <td>NaN</td>\n      <td>Very hard snow, uncertain whether we reached t...</td>\n      <td>30.09634</td>\n      <td>70.32753</td>\n      <td>1.062097e+06</td>\n      <td>7.872626e+06</td>\n    </tr>\n    <tr>\n      <th>844</th>\n      <td>varanger</td>\n      <td>komagdalen</td>\n      <td>ruossachokka</td>\n      <td>ko_ru_sn_3</td>\n      <td>5.0</td>\n      <td>2011-03-20</td>\n      <td>NaN</td>\n      <td>NaN</td>\n      <td>NaN</td>\n      <td>30.09634</td>\n      <td>70.32753</td>\n      <td>1.062097e+06</td>\n      <td>7.872626e+06</td>\n    </tr>\n    <tr>\n      <th>...</th>\n      <td>...</td>\n      <td>...</td>\n      <td>...</td>\n      <td>...</td>\n      <td>...</td>\n      <td>...</td>\n      <td>...</td>\n      <td>...</td>\n      <td>...</td>\n      <td>...</td>\n      <td>...</td>\n      <td>...</td>\n      <td>...</td>\n    </tr>\n    <tr>\n      <th>3625</th>\n      <td>varanger</td>\n      <td>ifjordfjellet</td>\n      <td>eastordalen</td>\n      <td>if_ea_sn_3</td>\n      <td>0.0</td>\n      <td>2014-03-23</td>\n      <td>NaN</td>\n      <td>NaN</td>\n      <td>avalanche risk</td>\n      <td>27.35785</td>\n      <td>70.42369</td>\n      <td>9.593395e+05</td>\n      <td>7.860019e+06</td>\n    </tr>\n    <tr>\n      <th>3626</th>\n      <td>varanger</td>\n      <td>ifjordfjellet</td>\n      <td>eastordalen</td>\n      <td>if_ea_sn_3</td>\n      <td>5.0</td>\n      <td>2014-03-23</td>\n      <td>NaN</td>\n      <td>NaN</td>\n      <td>avalanche risk</td>\n      <td>27.35785</td>\n      <td>70.42369</td>\n      <td>9.593395e+05</td>\n      <td>7.860019e+06</td>\n    </tr>\n    <tr>\n      <th>3627</th>\n      <td>varanger</td>\n      <td>ifjordfjellet</td>\n      <td>eastordalen</td>\n      <td>if_ea_sn_3</td>\n      <td>10.0</td>\n      <td>2014-03-23</td>\n      <td>NaN</td>\n      <td>NaN</td>\n      <td>avalanche risk</td>\n      <td>27.35785</td>\n      <td>70.42369</td>\n      <td>9.593395e+05</td>\n      <td>7.860019e+06</td>\n    </tr>\n    <tr>\n      <th>3698</th>\n      <td>varanger</td>\n      <td>ifjordfjellet</td>\n      <td>eastordalen</td>\n      <td>if_ea_sn_18</td>\n      <td>-10.0</td>\n      <td>2014-03-23</td>\n      <td>NaN</td>\n      <td>NaN</td>\n      <td>avalanche risk</td>\n      <td>27.37086</td>\n      <td>70.40382</td>\n      <td>9.602667e+05</td>\n      <td>7.857942e+06</td>\n    </tr>\n    <tr>\n      <th>3699</th>\n      <td>varanger</td>\n      <td>ifjordfjellet</td>\n      <td>eastordalen</td>\n      <td>if_ea_sn_18</td>\n      <td>-5.0</td>\n      <td>2014-03-23</td>\n      <td>NaN</td>\n      <td>NaN</td>\n      <td>avalanche risk</td>\n      <td>27.37086</td>\n      <td>70.40382</td>\n      <td>9.602667e+05</td>\n      <td>7.857942e+06</td>\n    </tr>\n  </tbody>\n</table>\n<p>177 rows × 13 columns</p>\n</div>"
          },
          "metadata": {}
        }
      ]
    },
    {
      "cell_type": "code",
      "metadata": {
        "tags": [],
        "cell_id": "00031-5f680f94-c2b3-4257-88c7-ff2a4c5b7655",
        "deepnote_to_be_reexecuted": false,
        "source_hash": "5bc64995",
        "execution_millis": 0,
        "execution_start": 1615640576531,
        "deepnote_cell_type": "code"
      },
      "source": "snowdepth_df.groupby('sn_locality')['sn_section'].count()",
      "execution_count": null,
      "outputs": [
        {
          "output_type": "execute_result",
          "execution_count": 24,
          "data": {
            "text/plain": "sn_locality\nifjordfjellet        840\nkomagdalen          1293\nvestre_jakobselv    1580\nName: sn_section, dtype: int64"
          },
          "metadata": {}
        }
      ]
    },
    {
      "cell_type": "code",
      "metadata": {
        "tags": [],
        "cell_id": "00013-6f582975-ef80-4cee-af5b-f9c32b3b3d2b",
        "deepnote_to_be_reexecuted": false,
        "source_hash": "264042b9",
        "execution_millis": 52,
        "execution_start": 1615631381429,
        "deepnote_cell_type": "code"
      },
      "source": "snowdepth_df.to_csv(\"kepler/snowdepth_df.csv\", index=False)",
      "execution_count": null,
      "outputs": []
    },
    {
      "cell_type": "markdown",
      "source": "# Map Data \nsize based on depth; color based on date (blue: old, recent:red)\n![map viz](kepler/varanger-snowdepth.png \"Map\")",
      "metadata": {
        "tags": [],
        "cell_id": "00017-f028aebc-2c7e-4352-893c-ea4fec00849d",
        "deepnote_cell_type": "markdown"
      }
    },
    {
      "cell_type": "markdown",
      "source": "![zoomed in photo](kepler/torvhaugdalen.png \"zoomed in\")",
      "metadata": {
        "tags": [],
        "cell_id": "00022-106b6ff8-bf65-4d76-ae22-6472cecdfb05",
        "deepnote_cell_type": "markdown"
      }
    },
    {
      "cell_type": "markdown",
      "source": "#### Project Submission Requirements:\n\n\n",
      "metadata": {
        "tags": [],
        "cell_id": "00039-94eaea92-451d-40d2-b59d-46c125d39f29",
        "deepnote_cell_type": "markdown"
      }
    },
    {
      "cell_type": "code",
      "source": "# Project Name (catchy)\n# Images (up to 5)\n# Punchline\n# Challenges\n# Technologies & Tools\n# [NONE] Video link\n# [NONE] Demo URL\n# [DONE] Source code",
      "metadata": {
        "tags": [],
        "cell_id": "00040-1b834471-6849-4609-b8ae-23618632ae87",
        "deepnote_to_be_reexecuted": false,
        "source_hash": "ebe46e29",
        "execution_start": 1615702416218,
        "execution_millis": 1,
        "deepnote_cell_type": "code"
      },
      "outputs": [],
      "execution_count": 2
    },
    {
      "cell_type": "markdown",
      "source": "",
      "metadata": {
        "tags": [],
        "cell_id": "00041-a88229b6-5102-49df-9228-e85e3a4a941a",
        "deepnote_cell_type": "markdown"
      }
    },
    {
      "cell_type": "markdown",
      "source": "# Project Edward Snowdepth: Snow Depth Dashboard\n\nA **Monitoring Dashboard** showing the trend of **snowdepth measurements** on the **Varanger peninsula** from **COAT**'s *(Climate-ecological Observatory for Arctic Tundra)* data portal.",
      "metadata": {
        "tags": [],
        "cell_id": "00042-1df3e969-bf93-46c5-8872-387e070cc21c",
        "deepnote_cell_type": "markdown"
      }
    },
    {
      "cell_type": "markdown",
      "source": "# Images:\n## Cover image\n![\"snow\"](images/climate-ecological-observatory-arctic-tundra-varanger-norway_5818.jpg \"arctic\")\n\n## 5 images\n\n\nsize based on depth; color based on date (blue: old, recent:red)\n![map viz](kepler/varanger-snowdepth.png \"Map\")\n\n![workflow](hta2021-snowdepth-analysis/images/workflow.png)",
      "metadata": {
        "tags": [],
        "cell_id": "00043-84093697-786b-4826-9c51-46d2767bd308",
        "deepnote_cell_type": "markdown"
      }
    },
    {
      "cell_type": "markdown",
      "source": "<a style='text-decoration:none;line-height:16px;display:flex;color:#5B5B62;padding:10px;justify-content:end;' href='https://deepnote.com?utm_source=created-in-deepnote-cell&projectId=242e7126-0501-4f85-b261-73586476b02d' target=\"_blank\">\n<img style='display:inline;max-height:16px;margin:0px;margin-right:7.5px;' src='data:image/svg+xml;base64,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' > </img>\nCreated in <span style='font-weight:600;margin-left:4px;'>Deepnote</span></a>",
      "metadata": {
        "tags": [],
        "created_in_deepnote_cell": true,
        "deepnote_cell_type": "markdown"
      }
    }
  ],
  "nbformat": 4,
  "nbformat_minor": 2,
  "metadata": {
    "deepnoteSessionId": "dea8a0f5-35e3-4468-94eb-804ff5fc7baa",
    "kernelspec": {
      "display_name": "Python 3",
      "language": "python",
      "name": "python3"
    },
    "language_info": {
      "codemirror_mode": {
        "name": "ipython",
        "version": 3
      },
      "file_extension": ".py",
      "mimetype": "text/x-python",
      "name": "python",
      "nbconvert_exporter": "python",
      "pygments_lexer": "ipython3",
      "version": "3.7.5"
    },
    "deepnote_execution_queue": [],
    "deepnote_notebook_id": "0f460af1-1872-4aa4-804e-36716dbf15fd",
    "deepnote": {}
  }
}